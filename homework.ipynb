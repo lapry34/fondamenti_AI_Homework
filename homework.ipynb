{
 "cells": [
  {
   "cell_type": "markdown",
   "metadata": {
    "id": "Z7sH6Uxz-Vmd"
   },
   "source": [
    "# Download Dataset e librerie"
   ]
  },
  {
   "cell_type": "code",
   "execution_count": 6,
   "metadata": {
    "id": "E1pF0okrM1I6"
   },
   "outputs": [],
   "source": [
    "import numpy as np # linear algebra\n",
    "import pandas as pd # data processing, CSV file I/O (e.g. pd.read_csv)\n",
    "\n",
    "import itertools #fancy iteration library\n",
    "import bisect #insert tool for lists\n",
    "\n",
    "#sklearn metrics\n",
    "from sklearn import metrics\n",
    "\n",
    "#sklearn models to be compared\n",
    "\n",
    "#linear regression\n",
    "from sklearn.linear_model import LinearRegression\n",
    "from sklearn.linear_model import SGDRegressor\n",
    "from sklearn.preprocessing import StandardScaler\n",
    "from sklearn.pipeline import make_pipeline\n",
    "from sklearn.neural_network import MLPRegressor\n",
    "from sklearn.linear_model import LogisticRegression\n",
    "from sklearn.neighbors import KNeighborsClassifier\n",
    "from sklearn.tree import DecisionTreeClassifier\n",
    "\n",
    "file_path = 'ObesityDataSet.csv'\n",
    "\n",
    "# Read the CSV file into a DataFrame\n",
    "dataset = pd.read_csv(file_path)"
   ]
  },
  {
   "cell_type": "markdown",
   "metadata": {
    "id": "PN4MKJszM1I7"
   },
   "source": [
    "# About The Dataset\n"
   ]
  },
  {
   "cell_type": "markdown",
   "metadata": {
    "id": "1gAnzWz6qDOf"
   },
   "source": [
    "The data consist of the estimation of obesity levels in people from the countries of Mexico, Peru and Colombia, with ages between 14 and 61 and diverse eating habits and physical condition , data was collected using a web platform with a survey where anonymous users answered each question, then the information was processed obtaining 17 attributes and 2111 records.\n",
    "The attributes related with eating habits are: Frequent consumption of high caloric food (**FAVC**), Frequency of consumption of vegetables (**FCVC**), Number of main meals (**NCP**), Consumption of food between meals (**CAEC**), Consumption of water daily (**CH20**), and Consumption of alcohol (**CALC**). The attributes related with the physical condition are: Calories consumption monitoring (**SCC**), Physical activity frequency (**FAF**), Time using technology devices (**TUE**), Transportation used (**MTRANS**)\n",
    "variables obtained :\n",
    "**Gender**, **Age**, **Height** and **Weight**.\n",
    "\n",
    "**NObesity** values are:\n",
    "\n",
    "* Underweight\n",
    "* Normal\n",
    "* Overweight\n",
    "* Obesity I\n",
    "* Obesity II\n",
    "* Obesity III"
   ]
  },
  {
   "cell_type": "code",
   "execution_count": 7,
   "metadata": {
    "colab": {
     "base_uri": "https://localhost:8080/"
    },
    "id": "7vCgNeRzM1I8",
    "outputId": "7a6ab4f2-5f27-4672-fe6b-d06c22e84129"
   },
   "outputs": [
    {
     "data": {
      "text/html": [
       "<div>\n",
       "<style scoped>\n",
       "    .dataframe tbody tr th:only-of-type {\n",
       "        vertical-align: middle;\n",
       "    }\n",
       "\n",
       "    .dataframe tbody tr th {\n",
       "        vertical-align: top;\n",
       "    }\n",
       "\n",
       "    .dataframe thead th {\n",
       "        text-align: right;\n",
       "    }\n",
       "</style>\n",
       "<table border=\"1\" class=\"dataframe\">\n",
       "  <thead>\n",
       "    <tr style=\"text-align: right;\">\n",
       "      <th></th>\n",
       "      <th>Gender</th>\n",
       "      <th>Age</th>\n",
       "      <th>Height</th>\n",
       "      <th>Weight</th>\n",
       "      <th>family_history_with_overweight</th>\n",
       "      <th>FAVC</th>\n",
       "      <th>FCVC</th>\n",
       "      <th>NCP</th>\n",
       "      <th>CAEC</th>\n",
       "      <th>SMOKE</th>\n",
       "      <th>CH2O</th>\n",
       "      <th>SCC</th>\n",
       "      <th>FAF</th>\n",
       "      <th>TUE</th>\n",
       "      <th>CALC</th>\n",
       "      <th>MTRANS</th>\n",
       "      <th>NObeyesdad</th>\n",
       "    </tr>\n",
       "  </thead>\n",
       "  <tbody>\n",
       "    <tr>\n",
       "      <th>0</th>\n",
       "      <td>Female</td>\n",
       "      <td>21.000000</td>\n",
       "      <td>1.620000</td>\n",
       "      <td>64.000000</td>\n",
       "      <td>yes</td>\n",
       "      <td>no</td>\n",
       "      <td>2.0</td>\n",
       "      <td>3.0</td>\n",
       "      <td>Sometimes</td>\n",
       "      <td>no</td>\n",
       "      <td>2.000000</td>\n",
       "      <td>no</td>\n",
       "      <td>0.000000</td>\n",
       "      <td>1.000000</td>\n",
       "      <td>no</td>\n",
       "      <td>Public_Transportation</td>\n",
       "      <td>Normal_Weight</td>\n",
       "    </tr>\n",
       "    <tr>\n",
       "      <th>1</th>\n",
       "      <td>Female</td>\n",
       "      <td>21.000000</td>\n",
       "      <td>1.520000</td>\n",
       "      <td>56.000000</td>\n",
       "      <td>yes</td>\n",
       "      <td>no</td>\n",
       "      <td>3.0</td>\n",
       "      <td>3.0</td>\n",
       "      <td>Sometimes</td>\n",
       "      <td>yes</td>\n",
       "      <td>3.000000</td>\n",
       "      <td>yes</td>\n",
       "      <td>3.000000</td>\n",
       "      <td>0.000000</td>\n",
       "      <td>Sometimes</td>\n",
       "      <td>Public_Transportation</td>\n",
       "      <td>Normal_Weight</td>\n",
       "    </tr>\n",
       "    <tr>\n",
       "      <th>2</th>\n",
       "      <td>Male</td>\n",
       "      <td>23.000000</td>\n",
       "      <td>1.800000</td>\n",
       "      <td>77.000000</td>\n",
       "      <td>yes</td>\n",
       "      <td>no</td>\n",
       "      <td>2.0</td>\n",
       "      <td>3.0</td>\n",
       "      <td>Sometimes</td>\n",
       "      <td>no</td>\n",
       "      <td>2.000000</td>\n",
       "      <td>no</td>\n",
       "      <td>2.000000</td>\n",
       "      <td>1.000000</td>\n",
       "      <td>Frequently</td>\n",
       "      <td>Public_Transportation</td>\n",
       "      <td>Normal_Weight</td>\n",
       "    </tr>\n",
       "    <tr>\n",
       "      <th>3</th>\n",
       "      <td>Male</td>\n",
       "      <td>27.000000</td>\n",
       "      <td>1.800000</td>\n",
       "      <td>87.000000</td>\n",
       "      <td>no</td>\n",
       "      <td>no</td>\n",
       "      <td>3.0</td>\n",
       "      <td>3.0</td>\n",
       "      <td>Sometimes</td>\n",
       "      <td>no</td>\n",
       "      <td>2.000000</td>\n",
       "      <td>no</td>\n",
       "      <td>2.000000</td>\n",
       "      <td>0.000000</td>\n",
       "      <td>Frequently</td>\n",
       "      <td>Walking</td>\n",
       "      <td>Overweight_Level_I</td>\n",
       "    </tr>\n",
       "    <tr>\n",
       "      <th>4</th>\n",
       "      <td>Male</td>\n",
       "      <td>22.000000</td>\n",
       "      <td>1.780000</td>\n",
       "      <td>89.800000</td>\n",
       "      <td>no</td>\n",
       "      <td>no</td>\n",
       "      <td>2.0</td>\n",
       "      <td>1.0</td>\n",
       "      <td>Sometimes</td>\n",
       "      <td>no</td>\n",
       "      <td>2.000000</td>\n",
       "      <td>no</td>\n",
       "      <td>0.000000</td>\n",
       "      <td>0.000000</td>\n",
       "      <td>Sometimes</td>\n",
       "      <td>Public_Transportation</td>\n",
       "      <td>Overweight_Level_II</td>\n",
       "    </tr>\n",
       "    <tr>\n",
       "      <th>...</th>\n",
       "      <td>...</td>\n",
       "      <td>...</td>\n",
       "      <td>...</td>\n",
       "      <td>...</td>\n",
       "      <td>...</td>\n",
       "      <td>...</td>\n",
       "      <td>...</td>\n",
       "      <td>...</td>\n",
       "      <td>...</td>\n",
       "      <td>...</td>\n",
       "      <td>...</td>\n",
       "      <td>...</td>\n",
       "      <td>...</td>\n",
       "      <td>...</td>\n",
       "      <td>...</td>\n",
       "      <td>...</td>\n",
       "      <td>...</td>\n",
       "    </tr>\n",
       "    <tr>\n",
       "      <th>2106</th>\n",
       "      <td>Female</td>\n",
       "      <td>20.976842</td>\n",
       "      <td>1.710730</td>\n",
       "      <td>131.408528</td>\n",
       "      <td>yes</td>\n",
       "      <td>yes</td>\n",
       "      <td>3.0</td>\n",
       "      <td>3.0</td>\n",
       "      <td>Sometimes</td>\n",
       "      <td>no</td>\n",
       "      <td>1.728139</td>\n",
       "      <td>no</td>\n",
       "      <td>1.676269</td>\n",
       "      <td>0.906247</td>\n",
       "      <td>Sometimes</td>\n",
       "      <td>Public_Transportation</td>\n",
       "      <td>Obesity_Type_III</td>\n",
       "    </tr>\n",
       "    <tr>\n",
       "      <th>2107</th>\n",
       "      <td>Female</td>\n",
       "      <td>21.982942</td>\n",
       "      <td>1.748584</td>\n",
       "      <td>133.742943</td>\n",
       "      <td>yes</td>\n",
       "      <td>yes</td>\n",
       "      <td>3.0</td>\n",
       "      <td>3.0</td>\n",
       "      <td>Sometimes</td>\n",
       "      <td>no</td>\n",
       "      <td>2.005130</td>\n",
       "      <td>no</td>\n",
       "      <td>1.341390</td>\n",
       "      <td>0.599270</td>\n",
       "      <td>Sometimes</td>\n",
       "      <td>Public_Transportation</td>\n",
       "      <td>Obesity_Type_III</td>\n",
       "    </tr>\n",
       "    <tr>\n",
       "      <th>2108</th>\n",
       "      <td>Female</td>\n",
       "      <td>22.524036</td>\n",
       "      <td>1.752206</td>\n",
       "      <td>133.689352</td>\n",
       "      <td>yes</td>\n",
       "      <td>yes</td>\n",
       "      <td>3.0</td>\n",
       "      <td>3.0</td>\n",
       "      <td>Sometimes</td>\n",
       "      <td>no</td>\n",
       "      <td>2.054193</td>\n",
       "      <td>no</td>\n",
       "      <td>1.414209</td>\n",
       "      <td>0.646288</td>\n",
       "      <td>Sometimes</td>\n",
       "      <td>Public_Transportation</td>\n",
       "      <td>Obesity_Type_III</td>\n",
       "    </tr>\n",
       "    <tr>\n",
       "      <th>2109</th>\n",
       "      <td>Female</td>\n",
       "      <td>24.361936</td>\n",
       "      <td>1.739450</td>\n",
       "      <td>133.346641</td>\n",
       "      <td>yes</td>\n",
       "      <td>yes</td>\n",
       "      <td>3.0</td>\n",
       "      <td>3.0</td>\n",
       "      <td>Sometimes</td>\n",
       "      <td>no</td>\n",
       "      <td>2.852339</td>\n",
       "      <td>no</td>\n",
       "      <td>1.139107</td>\n",
       "      <td>0.586035</td>\n",
       "      <td>Sometimes</td>\n",
       "      <td>Public_Transportation</td>\n",
       "      <td>Obesity_Type_III</td>\n",
       "    </tr>\n",
       "    <tr>\n",
       "      <th>2110</th>\n",
       "      <td>Female</td>\n",
       "      <td>23.664709</td>\n",
       "      <td>1.738836</td>\n",
       "      <td>133.472641</td>\n",
       "      <td>yes</td>\n",
       "      <td>yes</td>\n",
       "      <td>3.0</td>\n",
       "      <td>3.0</td>\n",
       "      <td>Sometimes</td>\n",
       "      <td>no</td>\n",
       "      <td>2.863513</td>\n",
       "      <td>no</td>\n",
       "      <td>1.026452</td>\n",
       "      <td>0.714137</td>\n",
       "      <td>Sometimes</td>\n",
       "      <td>Public_Transportation</td>\n",
       "      <td>Obesity_Type_III</td>\n",
       "    </tr>\n",
       "  </tbody>\n",
       "</table>\n",
       "<p>2111 rows × 17 columns</p>\n",
       "</div>"
      ],
      "text/plain": [
       "      Gender        Age    Height      Weight family_history_with_overweight  \\\n",
       "0     Female  21.000000  1.620000   64.000000                            yes   \n",
       "1     Female  21.000000  1.520000   56.000000                            yes   \n",
       "2       Male  23.000000  1.800000   77.000000                            yes   \n",
       "3       Male  27.000000  1.800000   87.000000                             no   \n",
       "4       Male  22.000000  1.780000   89.800000                             no   \n",
       "...      ...        ...       ...         ...                            ...   \n",
       "2106  Female  20.976842  1.710730  131.408528                            yes   \n",
       "2107  Female  21.982942  1.748584  133.742943                            yes   \n",
       "2108  Female  22.524036  1.752206  133.689352                            yes   \n",
       "2109  Female  24.361936  1.739450  133.346641                            yes   \n",
       "2110  Female  23.664709  1.738836  133.472641                            yes   \n",
       "\n",
       "     FAVC  FCVC  NCP       CAEC SMOKE      CH2O  SCC       FAF       TUE  \\\n",
       "0      no   2.0  3.0  Sometimes    no  2.000000   no  0.000000  1.000000   \n",
       "1      no   3.0  3.0  Sometimes   yes  3.000000  yes  3.000000  0.000000   \n",
       "2      no   2.0  3.0  Sometimes    no  2.000000   no  2.000000  1.000000   \n",
       "3      no   3.0  3.0  Sometimes    no  2.000000   no  2.000000  0.000000   \n",
       "4      no   2.0  1.0  Sometimes    no  2.000000   no  0.000000  0.000000   \n",
       "...   ...   ...  ...        ...   ...       ...  ...       ...       ...   \n",
       "2106  yes   3.0  3.0  Sometimes    no  1.728139   no  1.676269  0.906247   \n",
       "2107  yes   3.0  3.0  Sometimes    no  2.005130   no  1.341390  0.599270   \n",
       "2108  yes   3.0  3.0  Sometimes    no  2.054193   no  1.414209  0.646288   \n",
       "2109  yes   3.0  3.0  Sometimes    no  2.852339   no  1.139107  0.586035   \n",
       "2110  yes   3.0  3.0  Sometimes    no  2.863513   no  1.026452  0.714137   \n",
       "\n",
       "            CALC                 MTRANS           NObeyesdad  \n",
       "0             no  Public_Transportation        Normal_Weight  \n",
       "1      Sometimes  Public_Transportation        Normal_Weight  \n",
       "2     Frequently  Public_Transportation        Normal_Weight  \n",
       "3     Frequently                Walking   Overweight_Level_I  \n",
       "4      Sometimes  Public_Transportation  Overweight_Level_II  \n",
       "...          ...                    ...                  ...  \n",
       "2106   Sometimes  Public_Transportation     Obesity_Type_III  \n",
       "2107   Sometimes  Public_Transportation     Obesity_Type_III  \n",
       "2108   Sometimes  Public_Transportation     Obesity_Type_III  \n",
       "2109   Sometimes  Public_Transportation     Obesity_Type_III  \n",
       "2110   Sometimes  Public_Transportation     Obesity_Type_III  \n",
       "\n",
       "[2111 rows x 17 columns]"
      ]
     },
     "execution_count": 7,
     "metadata": {},
     "output_type": "execute_result"
    }
   ],
   "source": [
    "dataset"
   ]
  },
  {
   "cell_type": "code",
   "execution_count": 8,
   "metadata": {
    "id": "YWmsOCxqM1I8"
   },
   "outputs": [],
   "source": [
    "TRAIN_TEST_SPLIT_PERCENTAGE = 0.9\n",
    "\n",
    "dataset = dataset.sample(frac=1).reset_index(drop=True) #fa lo shuffle pazzo sgravato\n",
    "\n",
    "dataset_encoded = pd.get_dummies(dataset, dtype=int) #facciamo one_hot encoding\n",
    "dataset_encoded = dataset_encoded.sample(frac=1).reset_index(drop=True)\n",
    "\n",
    "dataset_training_encoded = dataset_encoded[:int(len(dataset) * TRAIN_TEST_SPLIT_PERCENTAGE)]\n",
    "dataset_test_encoded = dataset_encoded[int(len(dataset) * TRAIN_TEST_SPLIT_PERCENTAGE):]\n",
    "\n",
    "dataset_training = dataset[:int(len(dataset) * TRAIN_TEST_SPLIT_PERCENTAGE)]\n",
    "dataset_test = dataset[int(len(dataset) * TRAIN_TEST_SPLIT_PERCENTAGE):]"
   ]
  },
  {
   "cell_type": "code",
   "execution_count": 9,
   "metadata": {
    "id": "PRhINb_JM1I8"
   },
   "outputs": [],
   "source": [
    "import matplotlib.pyplot as plt\n",
    "import seaborn as sns\n",
    "import csv\n",
    "%matplotlib inline"
   ]
  },
  {
   "cell_type": "code",
   "execution_count": 10,
   "metadata": {
    "colab": {
     "base_uri": "https://localhost:8080/"
    },
    "id": "ilT31TNUM1I9",
    "outputId": "c630f769-6bda-42bc-feaa-afbe8c1fe69d"
   },
   "outputs": [
    {
     "data": {
      "image/png": "[encoded data removed]",
      "text/plain": [
       "<Figure size 1000x600 with 1 Axes>"
      ]
     },
     "metadata": {},
     "output_type": "display_data"
    }
   ],
   "source": [
    "plt.figure(figsize=(10, 6))\n",
    "sns.histplot(data=dataset_training, x=\"Age\", kde=True, hue=\"Gender\")\n",
    "plt.title(\"Distribuzione dell\\\"età a seconda del genere\")\n",
    "plt.show()"
   ]
  },
  {
   "cell_type": "code",
   "execution_count": 11,
   "metadata": {
    "colab": {
     "base_uri": "https://localhost:8080/"
    },
    "id": "rZDM2DRPM1I9",
    "outputId": "34f03ce1-717c-46ad-c2dd-946f3d3db6c5"
   },
   "outputs": [
    {
     "data": {
      "image/png": "[encoded data removed]",
      "text/plain": [
       "<Figure size 1500x600 with 1 Axes>"
      ]
     },
     "metadata": {},
     "output_type": "display_data"
    }
   ],
   "source": [
    "plt.figure(figsize=(15, 6))\n",
    "sns.barplot(data=dataset_training, x=\"NObeyesdad\", y=\"Weight\", hue=\"Gender\")\n",
    "plt.title(\"Livello di obesità divisa per peso e genere\")\n",
    "plt.show()"
   ]
  },
  {
   "cell_type": "code",
   "execution_count": 12,
   "metadata": {
    "colab": {
     "base_uri": "https://localhost:8080/"
    },
    "id": "PeM96ETFM1I-",
    "outputId": "e4b17ff2-04dc-4f4c-b23b-092087dd16da"
   },
   "outputs": [
    {
     "data": {
      "image/png": "[encoded data removed]",
      "text/plain": [
       "<Figure size 1500x600 with 1 Axes>"
      ]
     },
     "metadata": {},
     "output_type": "display_data"
    }
   ],
   "source": [
    "plt.figure(figsize=(15, 6))\n",
    "sns.countplot(data=dataset_training, x=\"MTRANS\", hue=\"NObeyesdad\")\n",
    "plt.title(\"Livello di obesità a seconda del mezzo di trasporto\")\n",
    "plt.show()"
   ]
  },
  {
   "cell_type": "code",
   "execution_count": 13,
   "metadata": {
    "colab": {
     "base_uri": "https://localhost:8080/"
    },
    "id": "A4P9lKuKM1I-",
    "outputId": "9de2ad41-accc-42ef-c01d-91db115b12f6"
   },
   "outputs": [
    {
     "data": {
      "image/png": "[encoded data removed]",
      "text/plain": [
       "<Figure size 1500x600 with 1 Axes>"
      ]
     },
     "metadata": {},
     "output_type": "display_data"
    }
   ],
   "source": [
    "plt.figure(figsize=(15, 6))\n",
    "sns.countplot(data=dataset_training, x=\"SMOKE\", hue=\"NObeyesdad\")\n",
    "plt.title(\"Livello di obesità a seconda dello status di fumatore\")\n",
    "plt.show()"
   ]
  },
  {
   "cell_type": "code",
   "execution_count": 14,
   "metadata": {
    "colab": {
     "base_uri": "https://localhost:8080/"
    },
    "id": "SDAOdS7IM1I-",
    "outputId": "b27ae2ff-e810-4913-828d-7f6d9d77fa20"
   },
   "outputs": [
    {
     "data": {
      "image/png": "[encoded data removed]",
      "text/plain": [
       "<Figure size 1500x600 with 1 Axes>"
      ]
     },
     "metadata": {},
     "output_type": "display_data"
    }
   ],
   "source": [
    "plt.figure(figsize=(15, 6))\n",
    "sns.boxplot(data=dataset_training, x=\"NObeyesdad\", y=\"Age\", hue=\"Gender\")\n",
    "plt.title(\"Distribuzione dell'età a seconda del livello di obesità diviso per genere.\")\n",
    "plt.show()"
   ]
  },
  {
   "cell_type": "markdown",
   "metadata": {
    "id": "PxJtc8YheWW7"
   },
   "source": [
    "# Funzioni di Utilità e Plot"
   ]
  },
  {
   "cell_type": "markdown",
   "metadata": {
    "id": "NVfREYIiecEv"
   },
   "source": [
    "Funzione che fa istogramma comparativo delle metriche"
   ]
  },
  {
   "cell_type": "code",
   "execution_count": 15,
   "metadata": {
    "id": "Hn6XVLL6ebEk"
   },
   "outputs": [],
   "source": [
    "\n",
    "def comparative_plot(our_metrics, sklearn_metrics, labels, verbose=False, width=0.35):\n",
    "  #stampiamo con Seaborn un bellissimo istogramma comparativo\n",
    "\n",
    "  #labels e posizione\n",
    "  #labels = ['MSE', 'RMSE', 'MAE']\n",
    "  label_locations = np.arange(len(labels))\n",
    "\n",
    "  if verbose:\n",
    "    for i in range(len(labels)):\n",
    "      print(labels[i] + \": \")\n",
    "      print(\"\\tSklearn: \" + str(sklearn_metrics[i]))\n",
    "      print(\"\\tOur: \" + str(our_metrics[i]))\n",
    "\n",
    "\n",
    "\n",
    "  #spessore del rettangolo, e li creo con varie cose strane.\n",
    "  #width = 0.35\n",
    "  fig, ax = plt.subplots()\n",
    "  our_rects = ax.bar(label_locations - width/2, our_metrics, width, label='Implementazione')\n",
    "  sklearn_rects = ax.bar(label_locations + width/2, sklearn_metrics, width, label='Scikit_Learn')\n",
    "\n",
    "  ax.set_ylabel('Valore')\n",
    "  ax.set_title('Metriche')\n",
    "  ax.set_xticks(label_locations)\n",
    "  ax.set_xticklabels(labels)\n",
    "  ax.legend()\n",
    "\n",
    "  plt.show()\n"
   ]
  },
  {
   "cell_type": "markdown",
   "metadata": {
    "id": "b9XK0zCWer5r"
   },
   "source": [
    "Funzione che fa grafico interpolato dell'array in ingresso"
   ]
  },
  {
   "cell_type": "code",
   "execution_count": 16,
   "metadata": {
    "id": "C5VbhSkBhog9"
   },
   "outputs": [],
   "source": [
    "#fa il grafico della funzione sulle varie iterazioni\n",
    "def interpolate_plot(plot_list, xlabel, ylabel):\n",
    "\n",
    "  if not isinstance(plot_list, np.ndarray):\n",
    "    plot_list = np.array(plot_list)\n",
    "\n",
    "  x=np.arange(len(plot_list))\n",
    "\n",
    "  plt.xlabel(xlabel)\n",
    "  plt.ylabel(ylabel)\n",
    "  plt.plot(x,plot_list)\n",
    "  plt.show()"
   ]
  },
  {
   "cell_type": "markdown",
   "metadata": {
    "id": "ztrN--Q8iwrl"
   },
   "source": [
    "Funzione che calcola la Precision e Recall nel caso multiclass classification"
   ]
  },
  {
   "cell_type": "code",
   "execution_count": 17,
   "metadata": {
    "id": "F-ZxnTiSi1Kw"
   },
   "outputs": [],
   "source": [
    "def calculate_precision_recall(Y_true, Y_pred):\n",
    "  # Create a dictionary to store precision and recall for each class\n",
    "  precision = dict()\n",
    "  recall = dict()\n",
    "\n",
    "  # Calculate precision and recall for each class\n",
    "  for cls in set(Y_true):\n",
    "    true_cls_indices = [i for i, val in enumerate(Y_true) if val == cls]\n",
    "    predicted_cls_indices = [i for i, val in enumerate(Y_pred) if val == cls]\n",
    "\n",
    "    true_positive = len(set(true_cls_indices) & set(predicted_cls_indices))\n",
    "    false_positive = len(predicted_cls_indices) - true_positive\n",
    "    false_negative = len(true_cls_indices) - true_positive\n",
    "\n",
    "    precision[cls] = true_positive / (true_positive + false_positive) if (true_positive + false_positive) != 0 else 0\n",
    "    recall[cls] = true_positive / (true_positive + false_negative) if (true_positive + false_negative) != 0 else 0\n",
    "\n",
    "  return precision, recall\n"
   ]
  },
  {
   "cell_type": "markdown",
   "metadata": {
    "id": "LJa9_TbBNAoQ"
   },
   "source": [
    "# Elaborazione del Dataset\n",
    "\n",
    "\n"
   ]
  },
  {
   "cell_type": "markdown",
   "metadata": {
    "id": "rLGFgqyEdu0x"
   },
   "source": [
    "Definiamo la conversione stringhe-numeri usando dei dizionari:\n"
   ]
  },
  {
   "cell_type": "code",
   "execution_count": 18,
   "metadata": {
    "id": "TqeWFwgQ8wx2"
   },
   "outputs": [],
   "source": [
    "gender = {\"Female\": 0, \"Male\": 1}\n",
    "rev_gender = {0: \"Female\", 1: \"Male\"}\n",
    "\n",
    "FHWO = {\"no\": 0, \"yes\": 1}\n",
    "rev_FHWO = {0: \"no\", 1: \"yes\"}\n",
    "\n",
    "FAVC = {\"no\": 0, \"yes\": 1}\n",
    "rev_FAVC = {0: \"no\", 1: \"yes\"}\n",
    "\n",
    "CAEC = {\"no\": 0, \"Sometimes\": 1, \"Frequently\": 2, \"Always\": 3}\n",
    "rev_CAEC = {0: \"no\", 1: \"Sometimes\", 2: \"Frequently\", 3: \"Always\"}\n",
    "\n",
    "SMOKE = {\"no\": 0, \"yes\": 1}\n",
    "rev_SMOKE = {0: \"no\", 1: \"yes\"}\n",
    "\n",
    "SCC = {\"no\": 0, \"yes\": 1}\n",
    "rev_SCC = {0: \"no\", 1: \"yes\"}\n",
    "\n",
    "CALC = {\"no\": 0, \"Sometimes\": 1, \"Frequently\": 2, \"Always\": 3}\n",
    "rev_CALC = {0: \"no\", 1: \"Sometimes\", 2: \"Frequently\", 3: \"Always\"}\n",
    "\n",
    "MTRANS = {\"Bike\": 0, \"Automobile\": 1, \"Motorbike\": 2, \"Public_Transportation\": 3, \"Walking\": 4}\n",
    "\n",
    "\n",
    "NObeyesdad = {\"Insufficient_Weight\": 0, \"Normal_Weight\": 1, \"Overweight_Level_I\": 2, \"Overweight_Level_II\": 3, \"Obesity_Type_I\": 4, \"Obesity_Type_II\": 5, \"Obesity_Type_III\": 6}\n",
    "\n",
    "\n",
    "\n"
   ]
  },
  {
   "cell_type": "markdown",
   "metadata": {
    "id": "_i7dKAUpOAZX"
   },
   "source": [
    "Definiamo una funzione che dato un dataset in ingresso, converte le stringhe,\n",
    "e rimuove la colonna \"column\" che ritorna come Y, il restante come X"
   ]
  },
  {
   "cell_type": "code",
   "execution_count": 19,
   "metadata": {
    "id": "T6wraX-yOAJH"
   },
   "outputs": [],
   "source": [
    "def process_dataset(dataset, str):\n",
    "\n",
    "\n",
    "  #TODO: codice vecchio, da rimuovere\n",
    "  #rows = (\"Female\", \"Male\", \"no\", \"yes\", \"Sometimes\", \"Frequently\", \"Always\", \"Bike\", \"Automobile\", \"Motorbike\", \"Public_Transportation\", \"Walking\")\n",
    "  #values = [0, 1, 0, 1, 1, 2, 3, 0 , 1, 2, 3, 4]\n",
    "  #prova = dataset_training.replace(to_replace=rows, value=values)\n",
    "\n",
    "  #dataset_test.loc[dataset_test['Gender'] == 'Male', 'Gender'] = 1\n",
    "\n",
    "  #salviamo copia profonda perché sennò facciamo side-effect\n",
    "  ds = dataset.copy()\n",
    "\n",
    "  #cambiamo le etichette in numeri\n",
    "\n",
    "  ds.Gender.replace(to_replace=gender, inplace=True)\n",
    "  ds.family_history_with_overweight.replace(to_replace=FHWO, inplace=True)\n",
    "  ds.FAVC.replace(to_replace=FAVC, inplace=True)\n",
    "  ds.CAEC.replace(to_replace=CAEC, inplace=True)\n",
    "  ds.SMOKE.replace(to_replace=SMOKE, inplace=True)\n",
    "  ds.SCC.replace(to_replace=SCC, inplace=True)\n",
    "  ds.CALC.replace(to_replace=CALC, inplace=True)\n",
    "  ds.MTRANS.replace(to_replace=MTRANS, inplace=True)\n",
    "  ds.NObeyesdad.replace(to_replace=NObeyesdad, inplace=True)\n",
    "\n",
    "\n",
    "\n",
    "  Y = ds[str]\n",
    "  del ds[str]\n",
    "\n",
    "  return (ds, Y)\n",
    "\n",
    "def process_encoded_dataset(dataset, str): #in caso ha già subito codifica one hot faccio solo separazione X, Y\n",
    "  ds = dataset.copy()\n",
    "  Y = ds[str]\n",
    "  del ds[str]\n",
    "\n",
    "  return (ds, Y)\n"
   ]
  },
  {
   "cell_type": "markdown",
   "metadata": {
    "id": "i0BgRTFrQTqq"
   },
   "source": [
    "#Regressione Lineare con Equazione Normale\n",
    "\n",
    "Stimiamo il peso a partire dagli altri dati"
   ]
  },
  {
   "cell_type": "markdown",
   "metadata": {
    "id": "aZv5JMmIVU6o"
   },
   "source": [
    "Funzione di regressione lineare che usa l'equazione normale e funzione che data C e X stima il valore di Y"
   ]
  },
  {
   "cell_type": "code",
   "execution_count": 20,
   "metadata": {
    "id": "nuQx0HjA9fTt"
   },
   "outputs": [],
   "source": [
    "def linear_regression_normaleq(X, Y):\n",
    "  if not isinstance(X, np.ndarray):\n",
    "    X = X.to_numpy()\n",
    "  if not isinstance(Y, np.ndarray):\n",
    "    Y = Y.to_numpy()\n",
    "\n",
    "  #faccio regressione lineare usando l'equazione normale\n",
    "  bias = np.ones(shape=(len(X), 1))\n",
    "  X = np.concatenate((bias, X), axis=1)\n",
    "\n",
    "  #calcolo pseudoinversa di Moore Penrose\n",
    "  p_X = np.linalg.pinv(X)\n",
    "\n",
    "  C = p_X @ Y\n",
    "  return C\n",
    "\n",
    "def lr_predict(X, C):\n",
    "  if not isinstance(X, np.ndarray):\n",
    "    X = X.to_numpy()\n",
    "\n",
    "  #aggiunta del bias\n",
    "  bias = np.ones(shape=(len(X), 1))\n",
    "  X = np.concatenate((bias, X), axis=1)\n",
    "\n",
    "  #C_t = np.transpose(C)\n",
    "  Y_predict = X @ C\n",
    "  return Y_predict\n"
   ]
  },
  {
   "cell_type": "markdown",
   "metadata": {
    "id": "fc62Run3G4A9"
   },
   "source": [
    "Splittiamo il dataset"
   ]
  },
  {
   "cell_type": "code",
   "execution_count": 21,
   "metadata": {
    "id": "UhrO8BAL0-Mn"
   },
   "outputs": [
    {
     "name": "stderr",
     "output_type": "stream",
     "text": [
      "/tmp/ipykernel_81480/3314704038.py:16: FutureWarning: A value is trying to be set on a copy of a DataFrame or Series through chained assignment using an inplace method.\n",
      "The behavior will change in pandas 3.0. This inplace method will never work because the intermediate object on which we are setting values always behaves as a copy.\n",
      "\n",
      "For example, when doing 'df[col].method(value, inplace=True)', try using 'df.method({col: value}, inplace=True)' or df[col] = df[col].method(value) instead, to perform the operation inplace on the original object.\n",
      "\n",
      "\n",
      "  ds.Gender.replace(to_replace=gender, inplace=True)\n",
      "/tmp/ipykernel_81480/3314704038.py:16: FutureWarning: Downcasting behavior in `replace` is deprecated and will be removed in a future version. To retain the old behavior, explicitly call `result.infer_objects(copy=False)`. To opt-in to the future behavior, set `pd.set_option('future.no_silent_downcasting', True)`\n",
      "  ds.Gender.replace(to_replace=gender, inplace=True)\n",
      "/tmp/ipykernel_81480/3314704038.py:17: FutureWarning: A value is trying to be set on a copy of a DataFrame or Series through chained assignment using an inplace method.\n",
      "The behavior will change in pandas 3.0. This inplace method will never work because the intermediate object on which we are setting values always behaves as a copy.\n",
      "\n",
      "For example, when doing 'df[col].method(value, inplace=True)', try using 'df.method({col: value}, inplace=True)' or df[col] = df[col].method(value) instead, to perform the operation inplace on the original object.\n",
      "\n",
      "\n",
      "  ds.family_history_with_overweight.replace(to_replace=FHWO, inplace=True)\n",
      "/tmp/ipykernel_81480/3314704038.py:17: FutureWarning: Downcasting behavior in `replace` is deprecated and will be removed in a future version. To retain the old behavior, explicitly call `result.infer_objects(copy=False)`. To opt-in to the future behavior, set `pd.set_option('future.no_silent_downcasting', True)`\n",
      "  ds.family_history_with_overweight.replace(to_replace=FHWO, inplace=True)\n",
      "/tmp/ipykernel_81480/3314704038.py:18: FutureWarning: A value is trying to be set on a copy of a DataFrame or Series through chained assignment using an inplace method.\n",
      "The behavior will change in pandas 3.0. This inplace method will never work because the intermediate object on which we are setting values always behaves as a copy.\n",
      "\n",
      "For example, when doing 'df[col].method(value, inplace=True)', try using 'df.method({col: value}, inplace=True)' or df[col] = df[col].method(value) instead, to perform the operation inplace on the original object.\n",
      "\n",
      "\n",
      "  ds.FAVC.replace(to_replace=FAVC, inplace=True)\n",
      "/tmp/ipykernel_81480/3314704038.py:18: FutureWarning: Downcasting behavior in `replace` is deprecated and will be removed in a future version. To retain the old behavior, explicitly call `result.infer_objects(copy=False)`. To opt-in to the future behavior, set `pd.set_option('future.no_silent_downcasting', True)`\n",
      "  ds.FAVC.replace(to_replace=FAVC, inplace=True)\n",
      "/tmp/ipykernel_81480/3314704038.py:19: FutureWarning: A value is trying to be set on a copy of a DataFrame or Series through chained assignment using an inplace method.\n",
      "The behavior will change in pandas 3.0. This inplace method will never work because the intermediate object on which we are setting values always behaves as a copy.\n",
      "\n",
      "For example, when doing 'df[col].method(value, inplace=True)', try using 'df.method({col: value}, inplace=True)' or df[col] = df[col].method(value) instead, to perform the operation inplace on the original object.\n",
      "\n",
      "\n",
      "  ds.CAEC.replace(to_replace=CAEC, inplace=True)\n",
      "/tmp/ipykernel_81480/3314704038.py:19: FutureWarning: Downcasting behavior in `replace` is deprecated and will be removed in a future version. To retain the old behavior, explicitly call `result.infer_objects(copy=False)`. To opt-in to the future behavior, set `pd.set_option('future.no_silent_downcasting', True)`\n",
      "  ds.CAEC.replace(to_replace=CAEC, inplace=True)\n",
      "/tmp/ipykernel_81480/3314704038.py:20: FutureWarning: A value is trying to be set on a copy of a DataFrame or Series through chained assignment using an inplace method.\n",
      "The behavior will change in pandas 3.0. This inplace method will never work because the intermediate object on which we are setting values always behaves as a copy.\n",
      "\n",
      "For example, when doing 'df[col].method(value, inplace=True)', try using 'df.method({col: value}, inplace=True)' or df[col] = df[col].method(value) instead, to perform the operation inplace on the original object.\n",
      "\n",
      "\n",
      "  ds.SMOKE.replace(to_replace=SMOKE, inplace=True)\n",
      "/tmp/ipykernel_81480/3314704038.py:20: FutureWarning: Downcasting behavior in `replace` is deprecated and will be removed in a future version. To retain the old behavior, explicitly call `result.infer_objects(copy=False)`. To opt-in to the future behavior, set `pd.set_option('future.no_silent_downcasting', True)`\n",
      "  ds.SMOKE.replace(to_replace=SMOKE, inplace=True)\n",
      "/tmp/ipykernel_81480/3314704038.py:21: FutureWarning: A value is trying to be set on a copy of a DataFrame or Series through chained assignment using an inplace method.\n",
      "The behavior will change in pandas 3.0. This inplace method will never work because the intermediate object on which we are setting values always behaves as a copy.\n",
      "\n",
      "For example, when doing 'df[col].method(value, inplace=True)', try using 'df.method({col: value}, inplace=True)' or df[col] = df[col].method(value) instead, to perform the operation inplace on the original object.\n",
      "\n",
      "\n",
      "  ds.SCC.replace(to_replace=SCC, inplace=True)\n",
      "/tmp/ipykernel_81480/3314704038.py:21: FutureWarning: Downcasting behavior in `replace` is deprecated and will be removed in a future version. To retain the old behavior, explicitly call `result.infer_objects(copy=False)`. To opt-in to the future behavior, set `pd.set_option('future.no_silent_downcasting', True)`\n",
      "  ds.SCC.replace(to_replace=SCC, inplace=True)\n",
      "/tmp/ipykernel_81480/3314704038.py:22: FutureWarning: A value is trying to be set on a copy of a DataFrame or Series through chained assignment using an inplace method.\n",
      "The behavior will change in pandas 3.0. This inplace method will never work because the intermediate object on which we are setting values always behaves as a copy.\n",
      "\n",
      "For example, when doing 'df[col].method(value, inplace=True)', try using 'df.method({col: value}, inplace=True)' or df[col] = df[col].method(value) instead, to perform the operation inplace on the original object.\n",
      "\n",
      "\n",
      "  ds.CALC.replace(to_replace=CALC, inplace=True)\n",
      "/tmp/ipykernel_81480/3314704038.py:22: FutureWarning: Downcasting behavior in `replace` is deprecated and will be removed in a future version. To retain the old behavior, explicitly call `result.infer_objects(copy=False)`. To opt-in to the future behavior, set `pd.set_option('future.no_silent_downcasting', True)`\n",
      "  ds.CALC.replace(to_replace=CALC, inplace=True)\n",
      "/tmp/ipykernel_81480/3314704038.py:23: FutureWarning: A value is trying to be set on a copy of a DataFrame or Series through chained assignment using an inplace method.\n",
      "The behavior will change in pandas 3.0. This inplace method will never work because the intermediate object on which we are setting values always behaves as a copy.\n",
      "\n",
      "For example, when doing 'df[col].method(value, inplace=True)', try using 'df.method({col: value}, inplace=True)' or df[col] = df[col].method(value) instead, to perform the operation inplace on the original object.\n",
      "\n",
      "\n",
      "  ds.MTRANS.replace(to_replace=MTRANS, inplace=True)\n",
      "/tmp/ipykernel_81480/3314704038.py:23: FutureWarning: Downcasting behavior in `replace` is deprecated and will be removed in a future version. To retain the old behavior, explicitly call `result.infer_objects(copy=False)`. To opt-in to the future behavior, set `pd.set_option('future.no_silent_downcasting', True)`\n",
      "  ds.MTRANS.replace(to_replace=MTRANS, inplace=True)\n",
      "/tmp/ipykernel_81480/3314704038.py:24: FutureWarning: A value is trying to be set on a copy of a DataFrame or Series through chained assignment using an inplace method.\n",
      "The behavior will change in pandas 3.0. This inplace method will never work because the intermediate object on which we are setting values always behaves as a copy.\n",
      "\n",
      "For example, when doing 'df[col].method(value, inplace=True)', try using 'df.method({col: value}, inplace=True)' or df[col] = df[col].method(value) instead, to perform the operation inplace on the original object.\n",
      "\n",
      "\n",
      "  ds.NObeyesdad.replace(to_replace=NObeyesdad, inplace=True)\n",
      "/tmp/ipykernel_81480/3314704038.py:24: FutureWarning: Downcasting behavior in `replace` is deprecated and will be removed in a future version. To retain the old behavior, explicitly call `result.infer_objects(copy=False)`. To opt-in to the future behavior, set `pd.set_option('future.no_silent_downcasting', True)`\n",
      "  ds.NObeyesdad.replace(to_replace=NObeyesdad, inplace=True)\n"
     ]
    }
   ],
   "source": [
    "#prendiamo il dataset training, e lo splittiamo come richiesto\n",
    "#vedere funzioni sopra, ci separa il valore weight che è l'obiettivo dai dati\n",
    "X_train, Y_train = process_dataset(dataset_training, \"Weight\")\n",
    "X_test, Y_test = process_dataset(dataset_test, \"Weight\")\n"
   ]
  },
  {
   "cell_type": "markdown",
   "metadata": {
    "id": "1TNClbo2vzNC"
   },
   "source": [
    "Calcoliamo il vettore C dei pesi con le funzioni qui sopra"
   ]
  },
  {
   "cell_type": "code",
   "execution_count": 22,
   "metadata": {
    "colab": {
     "base_uri": "https://localhost:8080/"
    },
    "id": "jTMwcR3AGw5e",
    "outputId": "78ce4cf4-8df2-48cb-f3a8-f638305e8493"
   },
   "outputs": [
    {
     "name": "stdout",
     "output_type": "stream",
     "text": [
      "our Root Mean Squared Error: 5.3588782047426315\n",
      "our Mean Squared Error: 28.717575613265605\n",
      "our Mean Absolute Error: 3.7627825346996397\n"
     ]
    }
   ],
   "source": [
    "C = linear_regression_normaleq(X_train, Y_train)\n",
    "\n",
    "Y_predict = lr_predict(X_test, C)\n",
    "MSE = metrics.mean_squared_error(Y_predict, Y_test)\n",
    "MAE = metrics.mean_absolute_error(Y_predict, Y_test)\n",
    "\n",
    "#stampiamo MSE e MAE\n",
    "print(\"our Root Mean Squared Error: \" + str(np.sqrt(MSE)))\n",
    "print(\"our Mean Squared Error: \" + str(MSE))\n",
    "print(\"our Mean Absolute Error: \" + str(MAE))\n",
    "\n",
    "\n",
    "our_metrics = [MSE, np.sqrt(MSE), MAE]\n"
   ]
  },
  {
   "cell_type": "markdown",
   "metadata": {
    "id": "ghPliaWFVQJa"
   },
   "source": [
    "Validiamo il nostro codice comparandolo con Scikit Learn"
   ]
  },
  {
   "cell_type": "code",
   "execution_count": 23,
   "metadata": {
    "colab": {
     "base_uri": "https://localhost:8080/"
    },
    "id": "9eVlVwRbVPy8",
    "outputId": "909e69cf-2493-4640-ad3b-57ea3466c7e2"
   },
   "outputs": [
    {
     "name": "stdout",
     "output_type": "stream",
     "text": [
      "Scikit_learn Root Mean Squared Error: 5.358878204742587\n",
      "Scikit_learn Mean Squared Error: 28.717575613265133\n",
      "Scikit_learn Mean Absolute Error: 3.7627825346996118\n"
     ]
    }
   ],
   "source": [
    "#usiamo ora scikit_learn come comparativa\n",
    "lr_model = LinearRegression()\n",
    "lr_model.fit(X_train, Y_train)\n",
    "Y_predict = lr_model.predict(X_test)\n",
    "\n",
    "MSE = metrics.mean_squared_error(Y_predict, Y_test)\n",
    "MAE = metrics.mean_absolute_error(Y_predict, Y_test)\n",
    "\n",
    "#stampiamo MSE e MAE\n",
    "print(\"Scikit_learn Root Mean Squared Error: \" + str(np.sqrt(MSE)))\n",
    "print(\"Scikit_learn Mean Squared Error: \" + str(MSE))\n",
    "print(\"Scikit_learn Mean Absolute Error: \" + str(MAE))\n",
    "\n",
    "sklearn_metrics = [MSE, np.sqrt(MSE), MAE]"
   ]
  },
  {
   "cell_type": "code",
   "execution_count": 24,
   "metadata": {
    "colab": {
     "base_uri": "https://localhost:8080/",
     "height": 452
    },
    "id": "keRu2t44Qm4_",
    "outputId": "a3004f17-eb34-4789-92d0-4589005f1113"
   },
   "outputs": [
    {
     "data": {
      "image/png": "[encoded data removed]",
      "text/plain": [
       "<Figure size 640x480 with 1 Axes>"
      ]
     },
     "metadata": {},
     "output_type": "display_data"
    }
   ],
   "source": [
    "comparative_plot(our_metrics, sklearn_metrics, labels=['MSE', 'RMSE', 'MAE'])"
   ]
  },
  {
   "cell_type": "markdown",
   "metadata": {
    "id": "S6oUCWRpIySw"
   },
   "source": [
    "# Regressione Lineare con Equazione Normale e con One Hot"
   ]
  },
  {
   "cell_type": "markdown",
   "metadata": {
    "id": "IPZ6NdNvVPgJ"
   },
   "source": [
    "Facciamo ora brevemente le stesse cose con la codifica One Hot"
   ]
  },
  {
   "cell_type": "code",
   "execution_count": 25,
   "metadata": {
    "id": "-v_ACPEKGgql"
   },
   "outputs": [],
   "source": [
    "#qui con codifica one_hot\n",
    "X_train, Y_train = process_encoded_dataset(dataset_training_encoded, \"Weight\")\n",
    "X_test, Y_test = process_encoded_dataset(dataset_test_encoded, \"Weight\")\n",
    "C = linear_regression_normaleq(X_train, Y_train)\n",
    "\n",
    "Y_predict = lr_predict(X_test, C)\n",
    "MSE = metrics.mean_squared_error(Y_predict, Y_test)\n",
    "MAE = metrics.mean_absolute_error(Y_predict, Y_test)\n",
    "\n",
    "our_metrics = [MSE, np.sqrt(MSE), MAE]\n",
    "\n",
    "#usiamo ora scikit_learn come comparativa\n",
    "lr_model = LinearRegression()\n",
    "lr_model.fit(X_train, Y_train)\n",
    "Y_predict = lr_model.predict(X_test)\n",
    "\n",
    "MSE = metrics.mean_squared_error(Y_predict, Y_test)\n",
    "MAE = metrics.mean_absolute_error(Y_predict, Y_test)\n",
    "\n",
    "sklearn_metrics = [MSE, np.sqrt(MSE), MAE]\n"
   ]
  },
  {
   "cell_type": "code",
   "execution_count": 26,
   "metadata": {
    "colab": {
     "base_uri": "https://localhost:8080/",
     "height": 608
    },
    "id": "gZl22RhyQ-GF",
    "outputId": "f3c0ec26-2089-41a3-f0ba-145a51771ef9"
   },
   "outputs": [
    {
     "name": "stdout",
     "output_type": "stream",
     "text": [
      "MSE: \n",
      "\tSklearn: 27.92489389942025\n",
      "\tOur: 27.924893899420233\n",
      "RMSE: \n",
      "\tSklearn: 5.284400997220049\n",
      "\tOur: 5.284400997220048\n",
      "MAE: \n",
      "\tSklearn: 3.794663565347416\n",
      "\tOur: 3.7946635653474274\n"
     ]
    },
    {
     "data": {
      "image/png": "[encoded data removed]",
      "text/plain": [
       "<Figure size 640x480 with 1 Axes>"
      ]
     },
     "metadata": {},
     "output_type": "display_data"
    }
   ],
   "source": [
    "comparative_plot(our_metrics, sklearn_metrics, labels=['MSE', 'RMSE', 'MAE'], verbose=True)"
   ]
  },
  {
   "cell_type": "markdown",
   "metadata": {
    "id": "--RkgzjY6BwF"
   },
   "source": [
    "# Regressione Lineare con SGD e Regolarizzazione"
   ]
  },
  {
   "cell_type": "markdown",
   "metadata": {
    "id": "Ut2Bc3FrIZ3k"
   },
   "source": [
    "Qui creiamo funzione che calcola C usando lo Stochastic Gradient Descent, la funzione di loss usata è lo squared mean error, di cui calcoliamo il gradiente manualmente\n",
    "\n"
   ]
  },
  {
   "cell_type": "markdown",
   "metadata": {
    "id": "jUSdmTWD05wI"
   },
   "source": [
    "N: è il numero di campioni (cioè la lunghezza di Y) \\\\\n",
    "Y: valori che assume la funzione (nel nostro caso il Weight) \\\\\n",
    "X: valori da cui dobbiamo predirre \\\\\n",
    "c: i pesi della regressione lineare \\\\\n",
    "\n",
    "$L(c) = \\frac{1}{N}||Xc - Y||^2 = \\frac{1}{N}(Xc - Y)^T(Xc-Y) = \\frac{1}{N}(c^TX^TXc -2Y^TXc + ||Y||^2)$\n",
    "\n",
    "Si nota che $c^TX^TXc$ è una funzione quadratica con $Q=2X^TX$ il cui gradiente noto è $Qc = 2X^TXc$\n",
    "\n",
    "Calcoliamo il gradiente di $-2Y^TXc$ che risulta essere $-2Y^TX$ che può essere trasposto in $-2X^TY$, il gradiente di $||Y||^2$ è nullo.\n",
    "\n",
    "$\\nabla_{c}L(c) = \\frac{1}{N}(2X^TXc -2X^TY) = \\frac{2}{N}X^T(Xc - Y)$"
   ]
  },
  {
   "cell_type": "markdown",
   "metadata": {
    "id": "8z5Nd7PU6RBr"
   },
   "source": [
    "Scriviamo funzione che calcola la regolarizzazione\n",
    "\n",
    "Per L2\n",
    "$R(c) = ||c||^2,  \\nabla R(c) = 2c$\n",
    "\n",
    "Per L1, $\\nabla R(c)$ è il segno di $R(c)$"
   ]
  },
  {
   "cell_type": "code",
   "execution_count": 27,
   "metadata": {
    "id": "rkz230PQ6Dcl"
   },
   "outputs": [],
   "source": [
    "\n",
    "\n",
    "#alpha: parametro di regolarizzazione | regularization: tipo di regolarizzazione | reg_ratio: rapporto in elastic net\n",
    "#verbose: se fare grafico RMSE e stampare | epoch: separazione dataset in pezzi | lr: learning_rate dello SGD | iterations: iterazioni da fare\n",
    "def linear_regression_SGD(X, Y, regularization=None, reg_param=10e-4, reg_ratio = 0.15, verbose=False, epoch=10, lr=10e-5, decay_rate=1000000, iterations=1000000):\n",
    "  if not isinstance(X, np.ndarray):\n",
    "    X = X.to_numpy()\n",
    "  if not isinstance(Y, np.ndarray):\n",
    "    Y = Y.to_numpy()\n",
    "\n",
    "  MSE_list = list() #lista degli errori sul training set, li salviamo per fare il grafico\n",
    "\n",
    "  bias = np.ones(shape=(len(X), 1)) #colonna di bias\n",
    "  X = np.concatenate((bias, X), axis=1)\n",
    "\n",
    "  X_split = np.array_split(X, epoch)\n",
    "  Y_split = np.array_split(Y, epoch)\n",
    "\n",
    "  _, N = np.shape(X) #prendiamo numero parametri per generare C\n",
    "\n",
    "  C = np.random.rand(N,)  #generiamo C in maniera casuale, qua se metti (N,1) fa saltare in aria tutto\n",
    "\n",
    "  epoches =  iterations * epoch # un milione di epoche\n",
    "\n",
    "  for i in range(epoches):\n",
    "\n",
    "    X_batch = X_split[i % epoch]\n",
    "    Y_batch = Y_split[i % epoch]\n",
    "\n",
    "    G_complexity = 0\n",
    "\n",
    "    if regularization == 'l2': #Ridge\n",
    "      G_complexity = reg_param*2*C\n",
    "    elif regularization == 'l1': #Lasso\n",
    "      G_complexity = reg_param*np.sign(C)\n",
    "    elif regularization == 'elasticnet':\n",
    "      G_complexity = reg_param * (reg_ratio* np.sign(C) + (1-reg_ratio) * 2 * C ) #reg_ratio gestisce quanto applicare le due regolarizzazioni\n",
    "\n",
    "    a = lr\n",
    "\n",
    "    if decay_rate != None:\n",
    "      a *= decay_rate/(decay_rate+i)  #decading learning rate come dalle slide\n",
    "\n",
    "    G = 2 * (X_batch.T @ ((X_batch @ C) - Y_batch)) / len(X_batch) # / N\n",
    "    C_i = C - a * (G + G_complexity) #qui costruiamo il gradiente come la somma del gradiente dell'MSE e della regolarizzazione\n",
    "\n",
    "\n",
    "    if i % (10 * epoch) == 0: #ogni 10 epoche salviamo dati sull'MSE\n",
    "      Y_batch_predict =  X_batch @ C_i\n",
    "      MSE_list.append(metrics.mean_squared_error(Y_batch_predict, Y_batch))\n",
    "\n",
    "    if (i % (10000 * epoch) == 0) and verbose: #stampiamo ogni 10mila epoch\n",
    "      print(\"siamo all'iterazione: \" + str(i) + \"  (\" + str(i*100 / epoches) + \"%)\")\n",
    "\n",
    "    if np.linalg.norm(G) <= 10e-5: #ci fermiamo se il gradiente è quasi nullo\n",
    "      print(\"Early stopping G iterazione: \" + str(i) + \"  (\" + str(i*100 / epoches) + \"%)\")\n",
    "      break\n",
    "\n",
    "    if np.linalg.norm(C - C_i) <= 10e-6 : # ci fermiamo se ci stiamo spostati di poco\n",
    "      print(\"Early stopping C_diff iterazione: \" + str(i) + \"  (\" + str(i*100 / epoches) + \"%)\")\n",
    "      break\n",
    "\n",
    "    C = C_i ##aggiorniamo C\n",
    "\n",
    "  if verbose:\n",
    "    print(\"Grafico dell'MSE sul Train set durante le iterazioni dello SGD\")\n",
    "    MSE_list = np.sqrt(np.array(MSE_list))\n",
    "    interpolate_plot(MSE_list, xlabel=\"Iterazioni\", ylabel=\"Root MSE\")\n",
    "\n",
    "  return C\n"
   ]
  },
  {
   "cell_type": "markdown",
   "metadata": {
    "id": "ztgr9nCELjem"
   },
   "source": [
    "Come funziona il Mini-Batch SGD?\n",
    "\n",
    "batch più piccoli necessitano di più iterazioni, ma ognuna\n",
    "è meno costosa temporalmente\n",
    "batch--, epoches++, time--\n",
    "\n",
    "batch più grandi, necessiti di meno iterazioni, ma ognuna è più costosa\n",
    "batch++, epoches--, time++\n",
    "\n",
    "\n",
    "N_camp / batch_size = riduzione di computazione\n",
    "error_gradiente è proporzionale a sqrt(riduzione di comp)\n",
    "\n",
    "Esempio:\n",
    "1000 campioni | batch_size = 10 -> riduzione di computazione = 100\n",
    "Errore = sqrt(100) = 10, quindi necessarie 10 volte le iterazioni in più\n",
    "\n"
   ]
  },
  {
   "cell_type": "markdown",
   "metadata": {
    "id": "rZwvsWdOh9_8"
   },
   "source": [
    "Qui svolgiamo l'esecuzione della funzione che calcola i pesi con lo SGD"
   ]
  },
  {
   "cell_type": "code",
   "execution_count": 28,
   "metadata": {
    "id": "boXAxE1d4WyW"
   },
   "outputs": [
    {
     "name": "stderr",
     "output_type": "stream",
     "text": [
      "/tmp/ipykernel_81480/3314704038.py:16: FutureWarning: A value is trying to be set on a copy of a DataFrame or Series through chained assignment using an inplace method.\n",
      "The behavior will change in pandas 3.0. This inplace method will never work because the intermediate object on which we are setting values always behaves as a copy.\n",
      "\n",
      "For example, when doing 'df[col].method(value, inplace=True)', try using 'df.method({col: value}, inplace=True)' or df[col] = df[col].method(value) instead, to perform the operation inplace on the original object.\n",
      "\n",
      "\n",
      "  ds.Gender.replace(to_replace=gender, inplace=True)\n",
      "/tmp/ipykernel_81480/3314704038.py:16: FutureWarning: Downcasting behavior in `replace` is deprecated and will be removed in a future version. To retain the old behavior, explicitly call `result.infer_objects(copy=False)`. To opt-in to the future behavior, set `pd.set_option('future.no_silent_downcasting', True)`\n",
      "  ds.Gender.replace(to_replace=gender, inplace=True)\n",
      "/tmp/ipykernel_81480/3314704038.py:17: FutureWarning: A value is trying to be set on a copy of a DataFrame or Series through chained assignment using an inplace method.\n",
      "The behavior will change in pandas 3.0. This inplace method will never work because the intermediate object on which we are setting values always behaves as a copy.\n",
      "\n",
      "For example, when doing 'df[col].method(value, inplace=True)', try using 'df.method({col: value}, inplace=True)' or df[col] = df[col].method(value) instead, to perform the operation inplace on the original object.\n",
      "\n",
      "\n",
      "  ds.family_history_with_overweight.replace(to_replace=FHWO, inplace=True)\n",
      "/tmp/ipykernel_81480/3314704038.py:17: FutureWarning: Downcasting behavior in `replace` is deprecated and will be removed in a future version. To retain the old behavior, explicitly call `result.infer_objects(copy=False)`. To opt-in to the future behavior, set `pd.set_option('future.no_silent_downcasting', True)`\n",
      "  ds.family_history_with_overweight.replace(to_replace=FHWO, inplace=True)\n",
      "/tmp/ipykernel_81480/3314704038.py:18: FutureWarning: A value is trying to be set on a copy of a DataFrame or Series through chained assignment using an inplace method.\n",
      "The behavior will change in pandas 3.0. This inplace method will never work because the intermediate object on which we are setting values always behaves as a copy.\n",
      "\n",
      "For example, when doing 'df[col].method(value, inplace=True)', try using 'df.method({col: value}, inplace=True)' or df[col] = df[col].method(value) instead, to perform the operation inplace on the original object.\n",
      "\n",
      "\n",
      "  ds.FAVC.replace(to_replace=FAVC, inplace=True)\n",
      "/tmp/ipykernel_81480/3314704038.py:18: FutureWarning: Downcasting behavior in `replace` is deprecated and will be removed in a future version. To retain the old behavior, explicitly call `result.infer_objects(copy=False)`. To opt-in to the future behavior, set `pd.set_option('future.no_silent_downcasting', True)`\n",
      "  ds.FAVC.replace(to_replace=FAVC, inplace=True)\n",
      "/tmp/ipykernel_81480/3314704038.py:19: FutureWarning: A value is trying to be set on a copy of a DataFrame or Series through chained assignment using an inplace method.\n",
      "The behavior will change in pandas 3.0. This inplace method will never work because the intermediate object on which we are setting values always behaves as a copy.\n",
      "\n",
      "For example, when doing 'df[col].method(value, inplace=True)', try using 'df.method({col: value}, inplace=True)' or df[col] = df[col].method(value) instead, to perform the operation inplace on the original object.\n",
      "\n",
      "\n",
      "  ds.CAEC.replace(to_replace=CAEC, inplace=True)\n",
      "/tmp/ipykernel_81480/3314704038.py:19: FutureWarning: Downcasting behavior in `replace` is deprecated and will be removed in a future version. To retain the old behavior, explicitly call `result.infer_objects(copy=False)`. To opt-in to the future behavior, set `pd.set_option('future.no_silent_downcasting', True)`\n",
      "  ds.CAEC.replace(to_replace=CAEC, inplace=True)\n",
      "/tmp/ipykernel_81480/3314704038.py:20: FutureWarning: A value is trying to be set on a copy of a DataFrame or Series through chained assignment using an inplace method.\n",
      "The behavior will change in pandas 3.0. This inplace method will never work because the intermediate object on which we are setting values always behaves as a copy.\n",
      "\n",
      "For example, when doing 'df[col].method(value, inplace=True)', try using 'df.method({col: value}, inplace=True)' or df[col] = df[col].method(value) instead, to perform the operation inplace on the original object.\n",
      "\n",
      "\n",
      "  ds.SMOKE.replace(to_replace=SMOKE, inplace=True)\n",
      "/tmp/ipykernel_81480/3314704038.py:20: FutureWarning: Downcasting behavior in `replace` is deprecated and will be removed in a future version. To retain the old behavior, explicitly call `result.infer_objects(copy=False)`. To opt-in to the future behavior, set `pd.set_option('future.no_silent_downcasting', True)`\n",
      "  ds.SMOKE.replace(to_replace=SMOKE, inplace=True)\n",
      "/tmp/ipykernel_81480/3314704038.py:21: FutureWarning: A value is trying to be set on a copy of a DataFrame or Series through chained assignment using an inplace method.\n",
      "The behavior will change in pandas 3.0. This inplace method will never work because the intermediate object on which we are setting values always behaves as a copy.\n",
      "\n",
      "For example, when doing 'df[col].method(value, inplace=True)', try using 'df.method({col: value}, inplace=True)' or df[col] = df[col].method(value) instead, to perform the operation inplace on the original object.\n",
      "\n",
      "\n",
      "  ds.SCC.replace(to_replace=SCC, inplace=True)\n",
      "/tmp/ipykernel_81480/3314704038.py:21: FutureWarning: Downcasting behavior in `replace` is deprecated and will be removed in a future version. To retain the old behavior, explicitly call `result.infer_objects(copy=False)`. To opt-in to the future behavior, set `pd.set_option('future.no_silent_downcasting', True)`\n",
      "  ds.SCC.replace(to_replace=SCC, inplace=True)\n",
      "/tmp/ipykernel_81480/3314704038.py:22: FutureWarning: A value is trying to be set on a copy of a DataFrame or Series through chained assignment using an inplace method.\n",
      "The behavior will change in pandas 3.0. This inplace method will never work because the intermediate object on which we are setting values always behaves as a copy.\n",
      "\n",
      "For example, when doing 'df[col].method(value, inplace=True)', try using 'df.method({col: value}, inplace=True)' or df[col] = df[col].method(value) instead, to perform the operation inplace on the original object.\n",
      "\n",
      "\n",
      "  ds.CALC.replace(to_replace=CALC, inplace=True)\n",
      "/tmp/ipykernel_81480/3314704038.py:22: FutureWarning: Downcasting behavior in `replace` is deprecated and will be removed in a future version. To retain the old behavior, explicitly call `result.infer_objects(copy=False)`. To opt-in to the future behavior, set `pd.set_option('future.no_silent_downcasting', True)`\n",
      "  ds.CALC.replace(to_replace=CALC, inplace=True)\n",
      "/tmp/ipykernel_81480/3314704038.py:23: FutureWarning: A value is trying to be set on a copy of a DataFrame or Series through chained assignment using an inplace method.\n",
      "The behavior will change in pandas 3.0. This inplace method will never work because the intermediate object on which we are setting values always behaves as a copy.\n",
      "\n",
      "For example, when doing 'df[col].method(value, inplace=True)', try using 'df.method({col: value}, inplace=True)' or df[col] = df[col].method(value) instead, to perform the operation inplace on the original object.\n",
      "\n",
      "\n",
      "  ds.MTRANS.replace(to_replace=MTRANS, inplace=True)\n",
      "/tmp/ipykernel_81480/3314704038.py:23: FutureWarning: Downcasting behavior in `replace` is deprecated and will be removed in a future version. To retain the old behavior, explicitly call `result.infer_objects(copy=False)`. To opt-in to the future behavior, set `pd.set_option('future.no_silent_downcasting', True)`\n",
      "  ds.MTRANS.replace(to_replace=MTRANS, inplace=True)\n",
      "/tmp/ipykernel_81480/3314704038.py:24: FutureWarning: A value is trying to be set on a copy of a DataFrame or Series through chained assignment using an inplace method.\n",
      "The behavior will change in pandas 3.0. This inplace method will never work because the intermediate object on which we are setting values always behaves as a copy.\n",
      "\n",
      "For example, when doing 'df[col].method(value, inplace=True)', try using 'df.method({col: value}, inplace=True)' or df[col] = df[col].method(value) instead, to perform the operation inplace on the original object.\n",
      "\n",
      "\n",
      "  ds.NObeyesdad.replace(to_replace=NObeyesdad, inplace=True)\n",
      "/tmp/ipykernel_81480/3314704038.py:24: FutureWarning: Downcasting behavior in `replace` is deprecated and will be removed in a future version. To retain the old behavior, explicitly call `result.infer_objects(copy=False)`. To opt-in to the future behavior, set `pd.set_option('future.no_silent_downcasting', True)`\n",
      "  ds.NObeyesdad.replace(to_replace=NObeyesdad, inplace=True)\n"
     ]
    }
   ],
   "source": [
    "X_train, Y_train = process_dataset(dataset_training, \"Weight\")\n",
    "X_test, Y_test = process_dataset(dataset_test, \"Weight\")"
   ]
  },
  {
   "cell_type": "code",
   "execution_count": 29,
   "metadata": {
    "id": "D3P3sbAij9bU"
   },
   "outputs": [],
   "source": [
    "def lr_SGD_parameters(reg_penalty, reg_param, lr, iter, reg_ratio, epoch, decay_rate, verbose=False):\n",
    "  C = linear_regression_SGD(X_train, Y_train, verbose=verbose, regularization=reg_penalty, reg_param=reg_param, lr=lr, iterations=iter, reg_ratio=reg_ratio, epoch=epoch, decay_rate=decay_rate)\n",
    "\n",
    "  Y_predict = lr_predict(X_test, C)\n",
    "\n",
    "  MSE = metrics.mean_squared_error(Y_predict, Y_test)\n",
    "  MAE = metrics.mean_absolute_error(Y_predict, Y_test)\n",
    "\n",
    "  our_metrics = [MSE, np.sqrt(MSE), MAE]\n",
    "\n",
    "  if verbose:\n",
    "    #stampiamo MSE e MAE\n",
    "    print(\"our Root Mean Squared Error: \" + str(np.sqrt(MSE)))\n",
    "    print(\"our Mean Squared Error: \" + str(MSE))\n",
    "    print(\"our Mean Absolute Error: \" + str(MAE))\n",
    "    print()\n",
    "\n",
    "  #usiamo ora scikit_learn come comparativa\n",
    "  lr_model = make_pipeline(StandardScaler(), SGDRegressor(max_iter=iter, learning_rate='constant', eta0=lr, alpha=reg_param, loss=\"squared_error\", penalty=reg_penalty, l1_ratio = reg_ratio))\n",
    "  lr_model.fit(X_train, Y_train)\n",
    "  Y_predict = lr_model.predict(X_test)\n",
    "\n",
    "  MSE = metrics.mean_squared_error(Y_predict, Y_test)\n",
    "  MAE = metrics.mean_absolute_error(Y_predict, Y_test)\n",
    "\n",
    "  sklearn_metrics = [MSE, np.sqrt(MSE), MAE]\n",
    "\n",
    "  if verbose:\n",
    "    #stampiamo MSE e MAE\n",
    "    print(\"Scikit_learn Root Mean Squared Error: \" + str(np.sqrt(MSE)))\n",
    "    print(\"Scikit_learn Mean Squared Error: \" + str(MSE))\n",
    "    print(\"Scikit_learn Mean Absolute Error: \" + str(MAE))\n",
    "\n",
    "  return our_metrics, sklearn_metrics"
   ]
  },
  {
   "cell_type": "markdown",
   "metadata": {
    "id": "AcKpS0kBcMhR"
   },
   "source": [
    "# Prova Iperparametri Regressione Lineare (con SGD e Regolarizzazione)"
   ]
  },
  {
   "cell_type": "markdown",
   "metadata": {
    "id": "4l2np_6_CsOu"
   },
   "source": [
    "Le iterazioni sono ridotte altrimenti l'esecuzione del colab è troppo lunga"
   ]
  },
  {
   "cell_type": "markdown",
   "metadata": {
    "id": "YcZfvXiK4bX_"
   },
   "source": [
    "Varie metriche e fitting, proviamo diversi iperparametri\n",
    "\n",
    "\n",
    "*   Regolarizzazione | Elasticnet\n",
    "*   Moltiplicatore λ di Regolarizzazione | $10^{-4}$\n",
    "*   Learning Rate | $10^{-5}$\n",
    "*   Iterazioni | 500.000\n",
    "*   Rapporto di L1 | $R_{L1}=0.15$\n",
    "*   Rapporto di L2 | $R_{L2} = 1 - R_{L1} = 0.85$\n",
    "*   Decay Rate of LR | 1.000.000\n",
    "*   Batch Size | 10\n",
    "\n"
   ]
  },
  {
   "cell_type": "code",
   "execution_count": null,
   "metadata": {
    "colab": {
     "base_uri": "https://localhost:8080/",
     "height": 1000
    },
    "id": "sNaDHc946PIs",
    "outputId": "612863f7-9dac-42e8-cf20-ab0235be77ed"
   },
   "outputs": [
    {
     "name": "stdout",
     "output_type": "stream",
     "text": [
      "siamo all'iterazione: 0  (0.0%)\n",
      "siamo all'iterazione: 100000  (2.0%)\n",
      "siamo all'iterazione: 200000  (4.0%)\n",
      "siamo all'iterazione: 300000  (6.0%)\n",
      "siamo all'iterazione: 400000  (8.0%)\n",
      "siamo all'iterazione: 500000  (10.0%)\n",
      "siamo all'iterazione: 600000  (12.0%)\n",
      "siamo all'iterazione: 700000  (14.0%)\n",
      "siamo all'iterazione: 800000  (16.0%)\n",
      "siamo all'iterazione: 900000  (18.0%)\n",
      "siamo all'iterazione: 1000000  (20.0%)\n",
      "siamo all'iterazione: 1100000  (22.0%)\n",
      "siamo all'iterazione: 1200000  (24.0%)\n",
      "siamo all'iterazione: 1300000  (26.0%)\n",
      "siamo all'iterazione: 1400000  (28.0%)\n",
      "siamo all'iterazione: 1500000  (30.0%)\n",
      "siamo all'iterazione: 1600000  (32.0%)\n",
      "siamo all'iterazione: 1700000  (34.0%)\n",
      "siamo all'iterazione: 1800000  (36.0%)\n",
      "siamo all'iterazione: 1900000  (38.0%)\n",
      "siamo all'iterazione: 2000000  (40.0%)\n"
     ]
    }
   ],
   "source": [
    "our_metrics, sk_learn_metrics = lr_SGD_parameters(reg_penalty='elasticnet', reg_param=10e-4, lr=10e-5, iter=500000, reg_ratio=0.15, decay_rate=1000000, epoch=10, verbose=True)\n",
    "comparative_plot(our_metrics, sklearn_metrics, labels=['MSE', 'RMSE', 'MAE'], verbose=True)"
   ]
  },
  {
   "cell_type": "markdown",
   "metadata": {
    "id": "sHq06fFeg6gD"
   },
   "source": [
    "\n",
    "*   Regolarizzazione | L2\n",
    "*   Moltiplicatore λ di Regolarizzazione | $10^{-4}$\n",
    "*   Learning Rate | $10^{-4}$\n",
    "*   Iterazioni per Batch | 700.000\n",
    "*   Decay Rate of LR | 1.000.000\n",
    "*   Batch Size | 20"
   ]
  },
  {
   "cell_type": "code",
   "execution_count": null,
   "metadata": {
    "colab": {
     "base_uri": "https://localhost:8080/",
     "height": 608
    },
    "id": "3iRCqnJ_RlCJ",
    "outputId": "eb0d4338-abd0-46bc-822f-46d66d455e03"
   },
   "outputs": [],
   "source": [
    "our_metrics, sk_learn_metrics = lr_SGD_parameters(reg_penalty='l2', reg_param=10e-4, lr=10e-4, iter=700000, reg_ratio=0.15, epoch=20, decay_rate=1000000)\n",
    "comparative_plot(our_metrics, sklearn_metrics, labels=['MSE', 'RMSE', 'MAE'], verbose=True)\n"
   ]
  },
  {
   "cell_type": "markdown",
   "metadata": {
    "id": "6xf8pqeecYa7"
   },
   "source": [
    "\n",
    "*   Regolarizzazione | Nessuna\n",
    "*   Learning Rate | $2*10^{-5}$\n",
    "*   Iterazioni per Batch | 500.000\n",
    "*   Decay Rate of LR | 1.000.000\n",
    "*   Batch Size | 15"
   ]
  },
  {
   "cell_type": "code",
   "execution_count": null,
   "metadata": {
    "colab": {
     "base_uri": "https://localhost:8080/",
     "height": 608
    },
    "id": "V9KfJajHcYCr",
    "outputId": "e1d10ebd-fabd-45fe-bd19-546d6563f296"
   },
   "outputs": [],
   "source": [
    "our_metrics, sk_learn_metrics = lr_SGD_parameters(reg_penalty=None, reg_param=10e-4, lr=2*10e-5, iter=500000, reg_ratio=0.15, epoch=15, decay_rate=1000000)\n",
    "comparative_plot(our_metrics, sklearn_metrics, labels=['MSE', 'RMSE', 'MAE'], verbose=True)\n"
   ]
  },
  {
   "cell_type": "markdown",
   "metadata": {
    "id": "86kz_CB7GSvX"
   },
   "source": [
    "\n",
    "*   Regolarizzazione | L1\n",
    "*   Moltiplicatore λ di Regolarizzazione | $10^{-4}$\n",
    "*   Learning Rate | $10^{-5}$\n",
    "*   Iterazioni per Batch | 150.000\n",
    "*   Decay Rate of LR | Nessuno\n",
    "*   Batch Size | 15"
   ]
  },
  {
   "cell_type": "code",
   "execution_count": null,
   "metadata": {
    "colab": {
     "base_uri": "https://localhost:8080/",
     "height": 608
    },
    "id": "_pn958j6GS96",
    "outputId": "c01b42dc-4b1a-4dab-f193-2d0aeec2fd0f"
   },
   "outputs": [],
   "source": [
    "our_metrics, sk_learn_metrics = lr_SGD_parameters(reg_penalty='l1', reg_param=10e-4, lr=10e-5, iter=150000, reg_ratio=0.15, epoch=15, decay_rate=None)\n",
    "comparative_plot(our_metrics, sklearn_metrics, labels=['MSE', 'RMSE', 'MAE'], verbose=True)"
   ]
  },
  {
   "cell_type": "markdown",
   "metadata": {
    "id": "2Aqtxc1sID7l"
   },
   "source": [
    "<h3>Facciamo ora le seguenti osservazioni finali unendo conoscenze teoriche con fatti sperimentali</h3>\n",
    "\n",
    "Il dataset subisce uno shuffle a ogni chiamta di questo Colab, quindi i risultati possono cambiare\n",
    "\n",
    "In generale con un aumento di iterazioni abbiamo una maggiore convergenza ai risultati di Sklearn, a volte anche superandoli, è possibile fare un grafico dell'MSE sul train set per verificarla\n",
    "\n",
    "Alla fine della valutazione l'MSE sui test set mostra risultati molto simili con Sklearn\n",
    "\n",
    "In generale aumentare le iterazioni assicura la convergenza all'ottimo, un ottimo batch-size di circa 10-20 aiuta.\n",
    "\n",
    "La regolarizzazione L1 è risultata nella media la migliore nelle simulazioni\n",
    "\n",
    "Un Learning Rate superiore a $2 * 10^{-5}$ porta a divergenza, prevedibile considerando che il passo deve essere piccolo, tanto la funzione è convessa e converge a un minimo globale\n",
    "\n",
    "Il decay rate è effettivamente inutile in questi casi, è più utile per la classificazione\n",
    "\n",
    "Il fattore di regolarizzazione è preso il più alto possibile che non causi divergenza secondo fatti sperimentali, visto che ridurlo ancora renderebbe la regolarizzazione inutile da attivare\n",
    "\n",
    "-----------------------------\n",
    "\n",
    "In generale usare il gradiente è più rapido in caso siano presenti molte features, negli altri casi è preferibile usare l'equazione normale, che ha forme chiuse anche per le regolarizzazioni L1 e L2, non qui implementate\n",
    "\n",
    "Comunque va ricordato che la Regressione Lineare è tra i più elementari metodi di Machine Learning, e in caso di una relazione non co-lineare tra i dati non è in grado di produrre risultati accettabili\n",
    "\n",
    "Tuttavia è molto performante fare predizioni ed è facilmente utilizzabile anche su una miriade di sistemi, tra cui gli embedded, essendo previsto solo un prodotto matriciale come calcolo.\n",
    "\n"
   ]
  },
  {
   "cell_type": "markdown",
   "metadata": {
    "id": "FMXHYX7B8Yos"
   },
   "source": [
    "# Classificazione con Regressione Logistica (con Regolarizzazione)\n",
    "\n"
   ]
  },
  {
   "cell_type": "markdown",
   "metadata": {
    "id": "-hqgMX3J8dZq"
   },
   "source": [
    "Lo scopo ora è quello di classificare la classe di peso avendo tutti gli altri dati, cioè classificare in 0 le persone nell'intervallo [Sottopeso, Sovrappeso]\n",
    "e in 1 tutte le altre"
   ]
  },
  {
   "cell_type": "markdown",
   "metadata": {
    "id": "4vN9up4Z8lIb"
   },
   "source": [
    "Come prima cosa costruiamo il dataset, e convertiamo in binario le classificazioni dell'obesità\n"
   ]
  },
  {
   "cell_type": "code",
   "execution_count": null,
   "metadata": {
    "id": "ON36YPIa9bNT"
   },
   "outputs": [],
   "source": [
    "#copiamo i dataset già splittati\n",
    "ds_training = dataset_training.copy()\n",
    "ds_test = dataset_test.copy()\n",
    "\n",
    "#definiamo dizionario di conversione binaria\n",
    "binary_conversion_obesity = {\"Insufficient_Weight\": 0, \"Normal_Weight\": 0, \"Overweight_Level_I\": 0, \"Overweight_Level_II\": 0, \"Obesity_Type_I\": 1, \"Obesity_Type_II\": 1, \"Obesity_Type_III\": 1}\n",
    "\n",
    "#convertiamo con la funzione replace\n",
    "ds_training.replace(to_replace=binary_conversion_obesity, inplace=True)\n",
    "ds_test.replace(to_replace=binary_conversion_obesity, inplace=True)\n",
    "\n",
    "#splittiamo e trasformiamo i restanti dati in numeri\n",
    "X_train, Y_train = process_dataset(ds_training, \"NObeyesdad\")\n",
    "X_test, Y_test = process_dataset(ds_test, \"NObeyesdad\")\n",
    "\n"
   ]
  },
  {
   "cell_type": "markdown",
   "metadata": {
    "id": "g1Nd-tsbxTli"
   },
   "source": [
    "Grafico di come funziona la matrice di confusione, contenente visivamente già i dati di True/False Negative e True/False Positive, presa da Internet"
   ]
  },
  {
   "cell_type": "markdown",
   "metadata": {
    "id": "YmdzXNf2sjc7"
   },
   "source": [
    "![8_confusion-matrix-python.jpg](data:image/jpeg;base64,/9j/4AAQSkZJRgABAQAAAQABAAD/2wCEAAUFBQUFBQUGBgUICAcICAsKCQkKCxEMDQwNDBEaEBMQEBMQGhcbFhUWGxcpIBwcICkvJyUnLzkzMzlHREddXX0BBQUFBQUFBQYGBQgIBwgICwoJCQoLEQwNDA0MERoQExAQExAaFxsWFRYbFykgHBwgKS8nJScvOTMzOUdER11dff/CABEIAW8CAAMBIgACEQEDEQH/xAAzAAEAAQUBAQAAAAAAAAAAAAAABQIDBAYHAQgBAQADAQEAAAAAAAAAAAAAAAABAgQDBf/aAAwDAQACEAMQAAAA+xsDGzi2yhiMsYjPoMNmDDZgw2YMNmDDZowmbUYDNGEzRhM4YKQpMFICP8kfSNSQjUkI5IiO8khGpIRqSEakhGpIRqSEYk6iKSQjUmIxJCNSQjUmIySxsQqk4GeKwAAAAAIyT5OdX95JiHYI3iu/HRHLrxvmfzfVTuThnczDyPn++d7q4bsx0zB1qNOiuVdVI6R5rp53qLlOXnT8flOzmySnHpo3vI5xEnYIOMwDf3DMk7U5pGnXWnbiAAAAAURUlGlmbgpwuAAAAAAazsw1WakBC35Male2caxRtQhJsI6E2wa3i7cIqK2oRcoGoyc2Gq7UNc82Qa7dnRrtGyhreyDV20DVJ/MEfIAAAAABbipaILM5BTpcAAAAAAAAAAAAAAAAAAAAAAAAAAAAABRETEUYs7AzxcAAAAAAAAAAAAAAAAABzCfzBh4kfOmPbtTRRr2UN/1Db9YMK5HWzJzrGeW9p0vcyoAAAFMNNQxjz0FOlwAAAAAAAAAAAAAAAAAAA4AdamfnPrRe3aoaPsExr5emuTxB29ZvAAAAACFmoUx56CnS4AAAAAAAAAAAAAAAAAA0vQjuOHy3aDdgAMbJGra90oR0jouCdIcqyjpbTNzAAAELNQxjT0DOl0AAAAAAAAAAAAAAAAAETjT4gK5wAAAAQchmDXKthEHOAAAAipWHMWdgp0ugAAAAAAAAAAAAAAAAAcd7FqZjbrHyAAAAAsX8Q0HpOi70AAAAIeYijCnYOcLoAAAAAAAAAAAAAAAOE5+udb75tCdArmvPqtuy7V0qvcaInTW62pabY6BbieTSMZ2/Br5dkdJ9x9+a09QpvHMbHV7NZ5a6khyrzqiHNOrc9ndNN7Grmh5iHMebhJsugAAAAAAAAAAAAAAA+dOtcp6jsxZHuHlKZGPfs1vbV02payKKpe5NmrnfjPc+G9w8zdXau14NFm5Z9rbyvwjy5VbmFN+0nS5yLl+8bkPTzIqVijFmoSbLoAAAAAAAAAAAAAAAPnbrHLOoasNNftV6LvDrHPr3e186b5aOnrlCnlzHotHJ+58N7b5HpXaK6fO1ee89168dlq4/A3r36uIloWfKquN9fzMLL2ctyHocUPMQ5ZmYiZKwAAAAAAAAAAanBzkOez0NLmzgattOiEltPOejHAul866LqxVXbVaNOtbJHJ49C9q1NPXrt3BUt3avL1493HhfdvH9Hy5RT5m3jWZLdI0cuEY26dN6NW2emrPeukmNavWbt2+D1sqHmIcpk4mWL4AAAAAAAAABGHuf8u/UZUAAADgvTuSdW1Y/MgVsvK5rjZKzLHzbFNqZVVORz7cT7rwju3l7XlVXna7aqoqt01SeV2YV+UqTr2Rbr2ct7HpcEPMQp5KRskXwAAAAAAAAANd2LTjXOqAAAAB859a5P17VivYqhGRRTVMe49V6Y8p8uQx/ardo5J2/g30J5XpLNOTg72vKfKTV7RXE0XLfqantN41XMiM/RToY9DghZqFEnHSJfAAAKTj+zbBYIy3m0mu9R1bYTTsHZxpc1m3TWJnO8JvXdj1c3UAAAAHyPOyvX478L97gmeJXOyoni1zsNK/Hfey0I4/d7HVNPm3fMXtGLhx3F7Y504w7HRzciv8AWLieVe9RrtHI7HZrczxXp+t7TqneRoISbhCqSw8wvgAAAAAAAAAQM9qxA9H+a/pQAAAA4F1HlnV+W72im5KrDv8AsWt0V0L2r9u+m5TTTPPjva+G90xZaa6VMqzkVHnlumq7dtVXUU3aYc+2vVds1W3careQs3CF7Owc4vgAAAAAAAAAA+cPoi+AAAAOE9K5v0jluueVW5U+xcCncPMC9DP88rKffbcuEfQHz19C48vvvtVc0BH5PDeju3vH46j6Iv4mRze+qZc93DT9y1Tug1XphpeILufg5xfAAAAAAAAAAiJe0aLrfRrZqWbOWjagIKdhDC2jU9sOIb/o298t1Xlv104rvOh7VPHnGLuXJFfsCuuhdZvUr8D+iPnj6FxY/fPa656uI9mirOLTnU5Gzy1eq5KPKqTQd00/cdM7aNd6IiZhjJyrN4vgAAAAAAAAAAAAAAA4Z0vnHQ+ezz29bjpg5NVyYirMpdLlPtKtPlu5HThPfOG90xYV32mOFurz2C7brlVRVXdRZqqo0fbdZ2rTbZxqtRDzEMZ16zkl0AAAAAAAAAAAAAAAHDOkcc6bz2y9ELUvLWY+9F5NHezTLvYtMpCxbtKcp7NxTr+LLIUYd3nwz7UVkykacGi7O9jnNLWI+1drm78p6zpnYhovajZDAMi7auGUAAAAAAAAAAAAAAADm1zoo51a6UW5jT1BDl1vqqa8l8616nkFvsZHH73WhyXzraHIXXhyGrriHJa+rpcwu9KQ51vmSsAoi87BMuJ2GkivZX0ircwIfyYEXbl6CI8lxDpbwjEiMW1nDB8zBi+ZApouVFhk2i2uVltctHqu6Y54evB6p9KqrYVUVHjJtFum8LPt2g98XTHXvSxTkjFuX6zEZtZH+59wj0l6QeRK1H//xABGEAABBAEDAQQFCQYEBAYDAAACAQMEBQYAERITBxQVVRYhIjVzECMwMTRBUFNUMjNAUWFxFyAkckJSYnQlJidDRGM2RYL/2gAIAQEAARIAdeaYbcddcEAH1kXjlL5rF143T+axteO03msbXjlL5rF145S+axdeOUvmsXXjlL5rF147TebRteO03m0bXjtN5tG147TebRteOUvmsXXjtL5rF147TebRteO03m0bXjtN5tG147TebRteO03m0bXjtN5tG145TebRdeOU3m0XXjlN5tF145TebRdeOU3m0XXjlN5tF145TebRdeO03m0XXjtN5tF147TebRdeO03m0XXjdL5vE143S+bxNeN0vm8TXjdL5vE143S+bxNeO03m0XXjdL5vE143S+bxNeOUnnETXjlJ5xE145SecRNeOUnnETXjlJ5xE145SecRNeOUnnETXjlJ5xE145SecRNeOUnnETXjlJ5xE149S+axdePUvmsXXj1L5rF149S+axdePUvmsXXj1L5rF149S+bRdePUvm0XXj1L5tF149S+bRdePUvm0XXj1L5tF149S+axdNPMyGgdZcFwC+pcp9w2P9m9MQ4isMqsVlfmx0sKH+jY0sKH+jY0sKH+jY0sKH+jY14fE/SMa7nD/Rs67nD/AEjOu5w/0jOu5w/0jOu6RP0rOu6RP0rOu6RP0rOu6RP0rOu6RP0rOu6RP0rOu6RP0rOu6Rf0rWlYjL/8RjXdov6ZrXdov6ZrXdov6ZrXdov6ZrXdY/6VrXdY/wCla13dj9K1ru8b9M1pWY/6ZnSsx/0zOlZj/pmdKxD+6KGlYh/dFDSsQ/uihroM/pWtK0x+na0rTH6drStMfp2tK0x+na0rTH5DWlaY/Ia0rTH5DWlaY/Ia0rTH5DWukz+Q1pWmPyGtK0x+Q1rpM/kNa6TP5DWukz+Q1rpM/kNaVuN90YNdBr8gNdBr8gNK2z+Q3pW2fyG9dJn8oNdJn8oNdJn8oNdJn8oNdFv8oNdFv8oNTWmlhTdmgReg7rHvcld8HWX+4Jv/APGmVTucVP8AoT6axuaanSP4pbw4SvmjbOhVCRFRUVF9aLp11qO0brxi22AqRnSZHRZEw9IpreLPaaPpG58kWyr5sidGjzGnX4bgtyW/lWxr+UsSnRxOKKHJFt1p9ttxkxMDASEzcba4oRinJeKL8ldZQLWMkuumsSmFMwR35BtK4rIqoZzKzxYSSUX5LK4p6buyWdrEhd4dRpjSKioiou6LqVJjwYsmXKkAzHjtG6874xU9CrlDYsKzYm2MNzVfYQLRlx6DOakA2+4wZg428ImBCQqnqJV21S5Lj2RJIKlu4VgjCij38DM27nP+Aese9yV3wdZV7in/ANg0yqdzip/0J9NjVbUXOW9prttCjyrFmxZg7WaXknIrPHKTIlx6BS0EaQwEC/yPLnsCbYuXagLjFn7KWtzcZZedkivmxAmqayoNi/Y2mUV0TH++NQYD72QRIpg/b5jLXtWi0TrT0+tlRmalrDZ8mQ/cVk68vlsxjsvFFw2TZsWPaFBnWT1itfYsgD+NX+Vf+m1zOyUpzGUOGj9axe5gESoyF7JnXGnMvcqDr9WWLv3OWdo77AgjB2ceNapDu7T0PwmHSWNuNhExeslyWr560y2h7Lb7xyVWLPmVDpMZmeR4zisKVDyeU/NYtILZvRqPKGQuosrMpDjEhWChTcMW2tMJkNncqzO77bxwsOzrKLjMnLGxlz2Gm4YNQu46p3baL2l3NZKu3J0VaGPNbQL/AC8Ic3ICyd1WouZHUjXayvHrFi9kZNEpa67YOrSBNrkuXb+wwqjxi0doqeXjp2rT1vW5C1iMpp3K30mxWX3TnZDYOji/ZRYutPPveK1bphilvbZaxl0pLJ+ub8ROFCYwtbe2xe4jO3khmYzd2cQbDsprLiJgtJMYvpM0PC1SPWQJudOTI42GM07EVT2edxtETP8AtKTfb5mnQdT8izWbYZTKpnLNx6psliRarPctuKpy/n0E62dShY3msZFMv0zDFa2DeyIsO4hTkfCV6bNXWH40/lysnLh3Jy5uC2thaY7zspPeZMefYQzf+jkjyjSk/wDpPWO+4674Osp9w2P9m9Mqnc4qf9CfTXOH45ezmrGdV8pwB0klW2FYrejXjY04vd1Z6DSpV1wTYc0YoC/GinFYMceoxqXKdK8O4m4bhMXVRWX9e7XWUNJEU1FVAMFxZpmzAKtW0niyEoqrD8cpmLBmFBIO+N9OS7W4hj1RNKdAgG1KM1I3K7C8WqLV21gUzbMo1c2JMepUiMw+4B0GZ3fwb0zWV7Dto6EVEOwJDlEeEYwblefhQgsOM3FZ0OIY23RJj3hLa1YKitxiwfGHayLVvQHn4jDhOgDtNWv1rda404sQEBBGNhWLw4djAZrVCJNZcakstVFaxNSexCBqSkUIvPTGEYvGnNWDVcaSw4bPejlGsR+IVc2sd2f3829XGGYzeyjlWVcTrpto04triOOXMOvizalrpwU4wldxWhfrIlY7FeOJHQxAI2J49BjxIrFeiMxZQSmAex2meO3MoWxWZtFMKnxeioHXXayErBO81c1XYhj1TZP2VdBKPIe59QdTsSoJ9xEu34KrYsIAi9PwrGZ9mds5WqE4zbI37HCcYtpc6TMqRcdmtq1KBzB8WdkQZJ1pE9CDpxXHa6C9PhWJRhKZFaeaYegV8KsYNiGwLLRvvPkP0bybx30/+stY57jrPhayr3BPX+rWmP3EX4Ifjr37p7/YWsc9x1nwtZV7gnr/AFa0x+4i/BD8de/Ye/2lrHPcdZ8LWV+4J/8AdrTH7iL8EPx1z92f9i1jPro634Osr9wT/wC7WmP3EX4IfgttmN1Wz8ncDw0q+olw43dgy+GtjMgHV2QnGsG4Lxxs3pXUfddGVHhgxJlNzq7K5c+4tmAqJiAxTsTWodXlzXo4NnOJ9wisJMMGrPMpsKFWvsYvZmb1i1EeZlZUzXhBB2osjlyGDkrDyrPma+htpVGBzHWaoJ7crUXMoMqwfgJVz2zYnrBkuQ87o5LLso+9R4vhrtnHfHMIoVxWb1XYR4qyITLTt7kchK3JpFQfReo5aMSEyfI5lFKx5qPQSpwz5xMGU3K24LlfD8HsHrCVFWSkFF3RF2VP6fQF+yv9tY57irPg6yz3DO/u1pj9xF+CH4LGxerj3lvdnHafnTH2nRdqaF+stryeVu5IGxfF42oPZXi9alrHahsdzmRJUQggY3LhSJMsshlSJjsFmGkiPg6t079a5kEz3kdlGkzqGRZVQwpd1IWQ3KZktTL/AAGBkrlNKtJAyZsBl1rq2uBxZ8OwgRrORBgza5mA/F1SULtRMv5B2RyktJXeXm8Z7O6jFO8JVEwyqxSjMvt9m0Du96C2Dzb1kcJ1Tbw1vuWWRH7mU6N8YvPOT6B+fAr2X7p9Z0OWMpibkeH+lFeFfY2ym10SAzaBG2m2xJVQEQeX0C/frGvcdV8LWWe4p392tMfuI3wQ/CXLx1++i1deAOo1yOyOdYwKtpH5s9iM1/zPZLa2SoGM0xyEVfXNJFNFTdRVU236uX4/6nmvHYA/U5V3tVdNudzlIrzfqdZW6iM3PhMgXGH3Gkdjl9NjXuOq+FrLPcU7+7WmPs8X4IfhHaX2wRaOycxqrJ1LH1I87j9teu16x69JcOKqq485jOK04xo1rJrpTs93kql8t7UUNgyj9oLTRNqiNS7anyXuittyW8irhNDAaXtZYqpYVeU9SMvLg3NZdbfbbdadE2zQSE/pMa9x1XwtZZ7inf3a0x9ni/BD8IcgxCkJKKGyUjgIdb/LMhRLCM5HlxG32S4qbfoPiJc9qCOKkmyradkWAW7aty6QyRU1V1cClr4dbXxhjxIrSNMtfSY57jrPhayz3FO/u1qP9ni/Bb/BcsbWZNxCrdkm1EnWZpKbzfILvG7DLGq6WbFdDxJgI7T9pdOplduF8+ytRbQoseE9Faqs1qnYTytDaRZiTI30FzHC1zGkq5rirBarJk1YdhIvmco9HWprvRsngsWpWGzrW2n2hy490oMXNw23Nxt2yZtiqcjnWK2T0WUas4wwlZY5RUx5BFCiymXIzP0GOe5Kv4Wss9xTv7taj/Z4vwW/wW5pYl5GYaldUSjvhIjPysapLJiezZREmd+hsw5pScZx+VPasH6pk5IdEkNijiMXMq4cffkzHGlZaX6C1o4lo9Alq8/HmwzNWJTkCG5PjTyYFZTDLzAOsYrQw5izI0Z5p0pDkgkg4vR1TpPwIPQfVk2QfpKOLRsPNMuvvPPvK/Kk/QYym9LXf0Z1lnuKd/drTH2eL8Bv8ex33LWfC1lnuKd/drTH2eL8Bv8ABslAbjN51bPg2M+DEra5GI3ZzZzLjB8ZmzpXeZRxEF2R9FJY7yxIZVw2+q2Q8+z6EFfM7Qa9t+U4zFv0Br6PHvc1d8LWWe4p392tMfZ4vwG/wa9xCJeT257NnY1s7uxRHJNZWQqasgVkBhWYkRhthhv6KXHOTFksjLdjk60YI/jmErjtnPsG8qupyzTV6Sz9FQKngNan38C1lnuKd/drTH2aL8Bv8Bm9oOcyL24r6PH65+NCM+Rs5D2wusq8GHUrgfWOmsn7WZMdX2sMp+kO/txcu7WJKrxwWs3X1iMbMO1GWTqN4VUjwTclZyntSfVOOI0objyDTOR9qzzwB6MUQKYKoIuRdrAbH6MY90iXYXAvO16R7bGP42ot+1pm97XpLDjrFFi/AV9axrjtlsQU4tViYIB8S0xcds83rpHh4cCtrsehz7tGrJs1u0Zo3EFIyACdpWVmacKplEVPUq59lYonOFGBdFm+Vgg7swk5Lp3M8taBSNuIifzXNssQeW0BU0ud5Zty5QFQl22HPslVQ5O1yKq8VFe0TIQMhJ6rBUXZELtHuwJAJ+pTf6tF2m2TaBym0qb/AFqXajNaFCKyo03XRdpti23z7zRPJuns0dm1d0lPatAghNiMyRT5cdVPAa9P6FrK/cc7+7WmPs0X4Df4DiaoueZej+/dBde6muCoTywWycgct3WjZS0dcehCiMIidVHQG5JUaTpI17LxGCWjjUZ1Qbbj8m+su1kYQpvERRV4E44bxJCnGhNCaikpyQ6RdxdNCYReJvGDkbqswjcOKior+nGklPGdY38yiB1hdRLI0CAPR4BwfNY7dmvBhoGUjjwNMuf75eWIOijfRm1HMhNt1Om/82gDu2IntxSXvwVPmzBVaUTkIqtbKgq2hey66i9BP2BXm0vXEVVhF3QOSIBTENPWm+kFXFclK4jTofcK97UzeImiAUUAQzdNAkrt9yFz5qKyFVY6b8CRrpKL7rO7KfshnzDTeLTpzcYEFt1gxTs7F5vCcPZL6mqWC1/kx1U8Br0/oWsq9wT/AO7WmPs0X4Df4DiSvFm+fJxLuqPKj5HyYFwYDhnCVEV1CQSNBplQebadZC4zTCPAE45AHF40bZloEAGkYVgeLmnDX3e8KdIFTmbrhAK1nUA2F4J13QWAPh4rzYLiquE4cde5RHeTC7cnHGCa28IJUJQXqA003KRPDUJlQHi/o0SbwZiisZ5hNjPKTE7TJWFBtk2vCxMdxmGguqogn7GgVH+Lb6orX/ASepR6qqUVC9kkQm99lU4Yl69DuhdURVYwrugo0puLIab3aQuSBxGcvVAuIB6hXks10APYDBN0VBSQgsOoiNjoV2UBkEpMfU2f18DNSWIhezrtDDqYledDfoD0SJMD6yYjjgmo7BXRwT/JjpJ6P1yfzEtZV7gnr/VrTH2aL8Bv8Bwk53pz2ijD5bjIFTVXCjKCVSKrrorzjARNICVDpm64Jq+DQMPAy3WGbcgUVXHfU6jcFppWJbXrVTdJsQqhZHvSly5cDrEWIAC51d9E4kRlYkMuuj4qRaVPDG0bimkhp4FNU2KP6oEgjQh5OmbbZ9Mq7dqWg+0obTESPH5R5LO/WPMT5z8khrGFuQgVXFEXvRdA1RCBFQl59RVYdVOmi7ERnuSskfzKLsThIoqYjyKIJe2hCjpmLCKsZFRXEJOqZjHRVZ/9xDRHjXuyJ/I9cG5SI0I8UBdyJD6vFh5R6YrxQ1NXSRp0vmd9uZGYKrAuKrKbIR5s1/5VvUbRViCzuqYIRridCBiqKENoVX5aBU8BrU+/gWsp9wz1/q1pj7NF+A3+A4TPKBm/aYaBz5ymQEFjmwjMmO/1bCQRKugUgJvuhn4mZL1hFtQVruauDZclR0UdbcZBlps/E+aquhZaYbciyGVcmPFzFx15yAJx5LYyJEj2QMxcpdjU+s++qbk2jsNFOKSOTHt+u0JjEFtyuJXTc3RxhsF4icBxTkluTquPMqxHFhsknIaoymYDwn5NHMOc4hrHFcNUlGEcG+mYLuS8lTjEIRFUXYXFUmzWIn7v6iIzJtDZYNVYRE5EaKCo3DJVEh3NNxQQCGvrJNiRA+6Kqoe3zirtI2ZZRW+mmxknF1EiKIhsmxI6ZNbxUVCAtkQk2b3YFzdhVRTdzMVTGMgZbVUZSE6Rrg7iFitIir7aRR5f5Me9y1vwtZT7gsF/q1pj7NF+A3+A4K73PNO02UrCOIk1lotIpV4hLjEDzkhdlYbbaNgJbUkjnuubclP1FzQ0teXsrm2NZ9VM5Tk4dqcmKcVmVNYgYZTZ3cQ8byC07T5hhIahzDq7bNsqx/thsGLKSczHGu4xJ7F7b3dF2n4DCOefdJ8KeUmM6ydWAPC51HT9SCAGpJIZe/8AEnV3IFfBkDktmTM8SQXmUVHOcjkSWpOcVbyzphKzBJZIEpGaxwzZcF8WQFgmpCrz3NSUUhoAq6S7qREsdO6psqmu6Odp2TXWEY4zLo1ilLfsI8cUAO36Jv05GFkp/dnWWZbheGY5PYKscv5tjHhTNXGS9tmIQnreyqMds4UUTOcGP28LIaWpsqzmAS4rb4K+odIWEZXrb+wiKTHJhzZTcX98aFE3bbXkhJuqZaaR8UvhZLkBwH0RMD4Hi9OaoqETS7/5Me9y1vwtZR7hnr/VrTH2aL8Bv+HdtLKXlRU0F9phiBDjTJ51WfrPmyIjtaDLjV+/Xao8ysbUqA5tQ1Bh38Y3ql6hsLJ2Rc1VqbLkqA63xf8Alym+l0jVQxXwwl2VnOSHEbxnIJlwV5CsIrcayrJgsSB1hD6Qcq7SJZMIYrZACK2w5DRLRtQJXD9pgFBWyt2XhSUZ8CbVGH2n5ct5WZbZbrrPXSdwXN/Eh4yUopqsD2fNtf4fYc7ZGoClLF7s4lNFyftA7YKm6EUdnU1c0wWP5K7Y5x2Qy7mWZz4MS4rrFplp2u6c1xnkJIohHNsY7HiIyG/X7ZEpd7Qpz5q1KRNowNApPG5McJicg7tu5i73yxyd+QotK1GrSZRVEgRjoqMkl5bqSxhNh0Obzq+yf2NDF5EcV1P2+3cX4mEwzABeNbqAoN12U9rKWUMZnZU3GjvPtg8/2/vsRcTx6TyJS9I4TjiZR2lDlFDZ0OK4ffzrW0jPRFPDaRcXxDHqV0v9dAiNtGoJ63EeRe9EvqUyRpCadb5uuL7OkU64dz+cQ9kRcsBY2LXjyEJG7DdRQwBkAxepNEVTVox3+XHvctb8LWUe4bD+wagfZo39GQ/h5VVZw8pS7rEjOtzY0aFZMM4ErEullJakixbi0nvN0+GSqh2nR64GXBooys08XH620ivWtlbEyk6wdaImflzqlm2YUMyDAGedZPV52D2e0Uqnbu5EirWsYlPRmoFdrCd2Mj7Q5qt82WrjZ0RAmES1ZaBY6Kpiwgo+rlwy6204Kl7DBDbuHNccRju6IrbeQ1gZZRXdVMf7p3mA+0yWMV4UtJQ1Vo/1YcCEDEV6tw8a3L8lymxeV2JbxozIMwuzFmt7TY/aCdgTcQ1cNWAadhL3vo7MeteiqddxbFppO6o6hNMsxlnq9PFxBNC3QVeS53bfIWmmEUi1lhH4nkXeN+CNVisEnQJs+aKTxLyEtkZ5pNBDJxERDRe7+3KEjbUdhLtKxa3yPHoMWCLRON2cSSoqfQ4ujxPqboLfajh9vldJRs1RMHIavIsx1CMFA3+oovCvr0mxqbj5KD6bcEIkVCSSJI96lDQ+wpJMHcyT1LyKMXUlIpIqcQXLgJjGb18kT2ojyI32eMg3itUSEqqjZht8uPe5a34WskRPALNf5A3qL9mi/Bb/AIe0t6ujhOzrWexDhtKiG+BiYCYEhISIqF9BgimWT9pJEKnGYuQNwGm+qZTWQRYYn1BZOOtq85LjAKNIo+zxC5XrN/MuM7Ii9QLpwWZSi22yins24lgbQTyRYqovRJtxTNjvbjjlWDio070za+eSOTlcirxZJR2XgrrlM26iloI5yTKYw2hR9+XQd/8AFXlOHuAimzpiy3aoiAiMdAU4JlTrs+5yVh8xDglYjiezzUZKKDiJ80qOC4qlL2QeK8dABgoPSBJWURUBN1ioLyiqs/UAttkygy04ry+sAJNiloSJ/wAw8Fkc5akgKHrAeYPoTj6q2babiKLzXeYqgvH2FQkLZJiLwVPm1ElDY5XImkT2FywTZxi9dcBeCwX0bDs7AUxKpVBVFVHhX/JjvuSt+FrJvcc//amon2SN8EP4a3t4dNE7zK5LzLgyznFbcZzkVXWXP7oZcYSgiIAIgCIgimyJ9Bg/XXKu09FBSh+LN94EgOS44cBFWOqobgCAz1cKGCAwKIDwPtpbGosIrJMioOn7FyYxDAGW2EXnonFnmlfKMOgJqBOC4qEDEg1OvFzgjzxm0r0Vh5wq8FFHzWO4Rm7Xt/6YdiJhT3U0qhPoEm77AMhMFCr/AGQEeLqmqWpo2zzjvMepwshIZmSXkYui2LLlYOyEMwybfRBQU32RFNQSUqq19TZI4obE+Skwi7gbTZgoyCb2aTdRbQFTaS2CKzupdNQWUpSGkRG0X1CJDLJXkUREE324jMVTcVW1BNw0LnelEZJigIiqCovUUUkbqwiqgr9SiT+5x036a5YpsYtfOnurawXhHXZ4K+ilYXUU0XrIn+THfclZ8PWSe4rL/Ymov2aN8IP4a7CrrFkZHIZU3oUQxbWso59dLw+RKbVyTLsJE2xL6HBnXhy/tPD62DtEV3RtkRvN1ZmTKInedexJEBrV6JiHEyJUmuBCigsV9kFR41AJasV4NpGeYTdSRzqkFO6202o+oyfddjCVbzFWFEQ65bxUWMwRdwBdyJ0liGrFaSmBjyNruqO8fC3tnuHz7u6m6qVrRRpYDxkNbDN6UaEBxpDQqjzl65vklzAbji0QP1IEDKddGG3l2QU+bJTV1ei6ScE3QlAeookaKsVF9jXtD6xQjiiX1F/qCMmUVWUXc0JO8EaMJsCbI5riMv2gRARtETbn380AlEUBF30hd8IWS2QR9e4qh/NuLvHFePNEUFEnAVY+/spmyq1ity5upMK0iBrs56nojUC4K7ojy8vlxz3HWfC1kSJ4Dar/ACbHUX7NG+EH8NcEltklRSB64sREsZ30eCuyxzLtKYYRUE7IycNV7kjTdUSOi6HLpOIPJlKp5VlmKqZthHkNx4sZpxmc0RERuOkgNVxMoMznuDjjItMjWPNorpnyYeR5xhSrzIV6rhbyHiOlTosL1RcTlwbE69BSCaPE+3zJOSNkLVQ4pvkPJ43mmOMViEhjP5KvMGuCtxRBWrMVVUcsRBcxtIRsospbGrQnTLrqkU0TmnrIgRXOMdwkVhF4oZuLurZn8yi7E48ZBzbbVe7p+2rgqhKEMl9Y7uIIIYqsUdkFEFxsv9aqCz7CCOxGQpKUGRBAMEXSfPbRVQUIVVSNokNRYPbogvFCdIkIm9yOMK+2vaNyTE7QGFUmXCYEtdmRmWG0okK7oDhKXy437jq/g6yL10ln8LUX7NF+C39Djufw5eQ5L1sialx1izZLNf4xmEminzjpK+GqwO8RVh3t1Gpsfk2USKbs2TCjCs/LJjUF92JEhrKC0lwwYlWxW59k+QQ350UbaeAOxtOZHfJkNxTw6CPJWAMF8iqM+dtLtmGNWHcn7CdAada7QpwVGSz5tNGhv11VNsAq7WxS1k5PRmMiP3GqhTwk5BdZDAwTHp9Y82sp12jB929yC+o4dQRUcd1+TINuQ5VTTn1tfMJyOayGGnedZwgZbkMR4ecmewzNaf8AoqefmHj2ezsbiIpBdzWZSRF7awE5cdhsEdUyc1Ed7YzZdlMg0DiFyccIO2JhCddRhiSK8ydRO2NoHSmBEF1z21dT/GToGzKCKBOonMkd7XmI5I+1GJk1QOowx20QGzm7skip7SxWe2NuM9LjOtAju5mUV3tZYbV1hVD2k6umXO1YAflm46D++7jgze0F1twLCHLSQXz3Uj1eS2mVrDcfJq2NxqWWvR3PZSnGK0MDHQY32ifZ1uHURE4ITdD2iNj0lt5BsLuIuM492jx0NEtJSx0Lbm1Rdo7LZuBPmdH16Cg7QXk7yzOmCIoo7xaTPZAk5HnzAEdhQWafOZIn0pkgUaX1q3TZtIQme+EC7b7hi+ePijK2wttGOzWlw3NeCqV/xjqqojtRish69mUtzZPOAFecpU7M2hZweiBP+BHh/wAmNe4qv4Wsh9yWPwdRfs0X4Lf0BDyFUXfZU20xjtPFi0cRmLxYqQRqEFRi9NQhIarmnwYeBA6DOE45Hqn6huJKSAZtm216D422KI3FlNKktyWhLh2OnTRqVYTowor3WijFjtw48eM2ThA02LYaiYtUQL6ffRklJPlAgPuR8Zpodm7ZxWpLDzhuGbcTCMdhFNVYkiWsmK5Ed1V4hRUsp+VCYf6r0UIjxRcOoItNJpBhvFXOqnzD2JVD9fEgE/bI1HUyAoEGHVw4kGHHFmNGaBphrLFWssMYvt1QI8wosn6PsvFxu07Rnza5xkyiahi82M1TkMcVjbopgIJYqs4DRlGvU1oE8WcUnjVpWUQmgYeSxebCYSdNEVWdOl3skB5xVhAS7Pt7kTXeEVYSKotqKEpIaI45WtO7oLvz7rrsJNmU9t3XRSYhSmERtpr6kYVLZ1HXF6fST5sHDalqAzSQG09pkwB+Z2tOg46oqSAKHuklRhmItmC/tpu5whPKKNIvHm4XLeJyToAqIbpL0lVpTVYKFxVS35mjXJYaEnIVYWUbhQx2ZTbqCYJLJe6orRiPF1VTvRA200jbjacVEWwm8mV2Ag3U15rJXusjZBRdiXrERiy45uyhIguuIidokxljkTA0fEtdnC8sMpyUt1Xr/wCTGvcVX8LWQ+5LL4S6i/ZovwW/4bIa9m7p7erQhJ1yNuAR8yeZwSLcg2j01kmYzrX0PZe1JN3tCJBIo65XYo6L0bmZnATnGXZXmdhs1J+NsAgiCSObXLqsinSRndHVcTxAhgvCI9NdzNt1XHGoTzydzbNQRx1VcJyO0plXgSI6rpk0pMQyJyLshHpGieU1hCSxQVOoKIlo4RxRQWgREJHAC0NemvQNpOJKjp2hpFfRBFvfnqMqv9qnQYeLcH+DT4bO8IBAgOgu5k44Yp3AuG6+pHF3jIUXn8zy9t15VBSYa3KOn7SGqtdRmKZHF2RXFUelssI/ZId1UuBq2EX2HkTZVQEeMWG06b7aL1DJEkEEZARp1n6zcLrqEEhASRdlJwiHeCZCgquxOOg432hy4rLiqyNAfI+zn14ZTqv39dflX6l/trGvcVX8LV8ieCWq/wAmF1F+zRfgt/w1/DlRpEa/rGVdlxG1B+PbWkWNOfYiPc625nRZ8YvoezFyYCZ+kYiVTy21VwVEXU41qmraCnX06AyHRGt3ZcQOLpIIPi3HitLGlMJsRKpSlbrhAWXG15OE6u4N1QiCJ6hVw3XKz/RNEhNl+yaskKmxXmZtqKFIU21eI26tCRpATriLYSjFa1CYcAOLyOJ4grbEYFjPsjxdIV710qtGRYVstnFjtPl2mHGZdHqBMMGzcBttsYZNbv8ALkBhuHKI4KK86vqdI1ibxUXm2q/tKrkVOlGNCUxQiVQ7ogdyLqK4m6gjiMIJQiUyd35tJwHppEdU3jQiIhIVFqMyPz37aOGpD04YCKPcuSOLsyCQlAVcP9knlWOJxEXdCXkbz6dxz+Q0yvMCx4ttdne3odU7fUvX2+U/2T/trGvcVX8LV8ieB2nwT1F+zRfgt/w/bB2fZC8DFvh9ecp5JJPSIMWQr8aM50jbVxoDUPoOy9XUYzbua7unltwTmidFtQCtUkkmio4020AA13EiSXuqHpVF5G2WgMJ4kSkZAjYNwUb2mIfIXFPujSwnGBOQ6vsKQuQOcdTFw3hRTfeR2sXu8J1SEg5HoWxEWm61z50h3MjaBFY7lyamJ6lENnemy02bM8FVTN0GxZbhoxtK33b1VgYdoziq6XXC1lbOAie2EhpVkl+yjq9IVjPJ1TdVNnE5w0Vt4RcN1OLZWWTY7iT6R7PIq2O+6COqwnaDgcUFfDN6Jx1z1mFnkOP0bMObOyKBEfmbkyVRkNHbD1aS8hz5fJReBETgiNETksyVTFsm22jAwVx5w/reQmRJh4Qedf22MTKsQxd2Pn6xdktHGz6SQInM8eP5vs929DqbZPVs9t8rn7s/9q6xr3FV/C1ee5LX/tj1F+zRfgt/gPZwb8OJmEhhOSu5dcobTIj0gkx31OW6Wy6Ak3UxUhsOWxg8goKKqEljy+uyvaPG4rh5DPjw3nT9gxz7AgBxZWY0ciQ6iIhy8hpsebhBPt4PK09cJ2ysYOIRDkzp0Zlg9kJ4x8LFp6I71ieX2mmVA2geZeU5zhfWaMqPFxCCeJbirxcBNt9lTnOEnBahso+fvm6qm8lxKJHCLbl3wFWSW3T0IoyJ99BTI/UKqvdWzOYPMCHjva4bjFtIbn5FjsKe6jSMg52UYViNlCzaTPxmvlKxlc6KyHaRV1k7O+xuHLgMSYrztmBxO1rCcbxDFvS/H44Ul/VzIxMHFeJyO1IfUmJ5ADhIRp7bjobSl9hGWzGMLyyh5OGmxKqFGRX5bak0qbIkpHYmey/UhE7jRoidnybYdTf7HPld/duf7C1jXuKr+Fq99zWv/buai/ZYvwW/4a8svBqO6tekrvcIL8np93ucexliySzlWUxlWZlmVllF0rFBYJYzYkK5tH1jDb2V/Ai486FrPSrejPuzLPIn3a2LRZLFs3XXElVcR8PlyOJZS6wwrrt6sMV6hv4POlWmFYjYTHVdlSqeC+87rs5aNmDlM5rZVHK7gVaHdBKyYcFJCnxcaJ5p1o5RvE3NAtkEDAFeenmrUsU5IvbFHCysOzJq2jqbcjJGAOMzgfZ7DVQmYXSOGe3TPtvxVLm87LqM3lZCUloy1rM7x6/7BJ86SW88H4sGyAGnYijYKgKTpbDH6ZC2tmy+HXJfbE3Y77LjzymMsS4A2JdFX1sW1KW4idNacDYz8npbpdUbWUvNtBNTKd7LvHdEbPls9O/d8VRrQctwkyhJGERemgbR9n3EXoD+wPYmoBCz6Xx3BMwsUQe12HZz857JkrrcqydKdtOjKi9kjtxMjT84ziffrBNHWoJKMgXHZak2oDu0KKokpTzIHeO7Rju+qPTN21Qd2tdUoyi7IbVRT1NA+05EziW6qIonjJ7hgfsYhShsnqA/ld/dO/7C1jfuOr+Dq79dNaf9q5qL9li/Bb/hnWWn2nWXgQ23AIDGopTqalap20fmsABNMFKxiBJj0bXXlM+E/Yzl42zMaaadtbVODTrRFIxeO94FGB5WamrVg2a75b2HdTIXQqbSLBfM1Q3MMo7XGqGBTzrhieEFhiNFc12aB0azJZyuoqBk90qgQ9TrWvMWCBfZBsVmuOzXHUjymk3ABcC0InZZqyLQobYdtEMLaV2Z110ypxZORsMvaoeyXs8xiyYtm8dViQyirHPPEdhdpPYs/LdVG+92aiPbbzxdzJ4LcQwqsqWPYw0aFRHxFEHp+2vSX5zqWjZiCoXqAQSUTs1x7oymvUIkbMgXjngqOiiIDFEzIDtB5vve2ltK2US8Qc6T24ICb8Qc70bfeCToJuoaBzkoOPcliCu7ZAi8kf4L3MC5A3TUdTRhOk10EGIsmW5MebkUFbbWNVeSYAOyq83Dg6cELBSkCaAy2m4k0ffDQpBK2QJyaEUWeQJI/c7L09C5sgpJcU4yfu3R5cgemCasqmzRSQcczaa7wUmUxlxQTBh44lRov6f5Xv3Ej/aWsb9xVvwdXXua0/7V7UX7LF+C3+A9m8eSVbfvonVYDJ7YyZEPFDSYyoI22qdMTELoyIdmwZTZSA0sHAGQSNOtpyZKVWVWQPQHLqEy8sFzvEIgUt2Sn8jietGDl1dbZT62fYQwfbrTcWHKtcXp79tk7SjZnV7ThGzGVEkIU+Mooyi81BAWYZzWFRtxtf3XWZsecknUjnHFFRGi7891ph9A22+bI03WldoR7ggkVvM20oDLMIjmwcOW5gSzCbjvqnQFVRCUlfMG3TVYoltzJV9apyKE2XrQWyecWQy1uwhIQtubzTPuwr0v/eQAGYqGwIo0GycTALReKpwbb9Sr1FkEkWSqcEXZT36xti+W8ZC2AtlMtuRFAAtt57G+UzSZL/Sej7iLrCfXidF/NY6fK7+5kfCPWOe46v4WrhE8HuP6RHdRfssX4Lf4D2cxn3K/JlYBVD0isFdbcNLFw0iIrWybSV6IWHsM7Md3TbSkNwfdnhFvpoSnrn3hwIk4kVtCVAdN12SaRXHN2EXiTopx/ZQ3Kts/Vpf+JGUJytRfbHplKdOXFFOghIvAkG3dM46IAtpwMlBLp7f1NdEfZ0hpPNtiXsCNkqiVO2cntD4oSe97BBf9UzpwyEW+CbqoKp7QnFTiJcVccJTVYiHswKoJnv1F6fJVgtlspvi6y443DUtlTk6Asg+G8NOIImziEneVVYyK0QJxd0hd6UWmBVlxtNnF2blIkPpoAgic0IiFViPH8xvxV0yVrdnmvdBVBJyeXPKH2mF2YGgfVdYZv6KUG/3xAX5XkTucpf8AoXWN+5K74erZE8GuF/lFd1F+yxPgt/gPZw9LchZKzDI1Lx2b1UWK08gJWKrZNDxM0PxFRjMh3Z1keLqkqT3G4ANowbHrM3HSeQKs2mkX9nfl0yKAb3KGJ8XXzeMOUUXiSE2qC4+4yqk6EQFKGOyPNOIcg3RreaNKm76E01OQGoQqzwDg6pcZ5hEAOgbCbOE7ymuDWkINo2uzhxIZf4iNxUVUULGZwNVU1bhqiC4J7q+pG2AV2wCZKiC4qoKrBQ0Frlsbzrhw9mGfWCp6kBCjIrcY1IFQScI2vaEoJbEoop6Uxc6YxRVuQiKKobYqrLTAkEod1U2yU0biICtvAu5HzVV7hxQSVPWTqnF3iga9Fdtzt94mXgzGJCbdx2V6sPH/AMrUHq23gsr8r/2aV8BzWOqno/WJ9/AtWyJ4NcL/ACiu6jKnca9P5MN/gPZjdxYkXL2ls4zBu5DKc07kOOkrbddfwm3eJdQzv8eUWGY9vCZlt+rmd5QEyzGbtoQSwLfqJd0zgJBK0hI+pbk6N3VgPhgW0Hiq7E+drXwv9LHtoyxFROROWUGIpNQLFg45DuQlNrmRYWssI6uuD9RS4bpNhBlC1KFNn3An1yttRBkMsSG91U3bStAG64ZUUHeW/UYksNZ/yCwYbBiVJVJAXFIUforZQlfVd0RJ0MUciLMjGbvtK+VpVwWiZKfENs99teKwoHspaQzU0/eeK1cVBSLbRHFNFUh8YqWAQ4ttFPmqqTZ2tKLQPNXMUpBLvzbt6oQJfFIiTVPfkVrTizwSyiLJ5bqSXNOywbT1jEUyPfmWU4/B5sPXkAyNfUdnawX8urCrJQyWjr5jLpYp/wDi+P7Jsnh8b5ZX2aV8FzWOKno/Vp9/BdWyJ4NcL/KK7qF64UJf/oa/AV7K8YR2SYJJZV11XSAOzHGg5bLLXdd10XZhjBLuoSdF2V4qRIShJ5J9S/4TYoq78ZOl7JMTVCTaVsS7qi9kWJrv9r1/g/iSfV3rX+DOIIpKiSxVfrX/AAYxD7ym6XsUw5f+Ob9el7EMPVd+rO0PYliLS7g/M3X69L2LYj90mVpexPFlL97I30fYriQ/VKlLr/BXFeP2mamv8FsU+6XP0nYpiietJ09FX69L2J4qPrSfPUtf4N4snrSbZaTsgxpPX3yeq6Tslxofqlzf5aXsqxlE2WVONND2ZUDagoTbQFEuaaixY8OLGiR2+DTLYg2PyTNu5z/gHrHVT0frE+/gWrZE8GuF/lFd1XrvAg/1jtfgK/Lt/kX5N/4Ob9im/Ad1jqp6P1iffwLVwHGltlL74ru2oN/Tt18NsrFkTFhtDT0hpfNY+lyGj82jaTIqEf2rRhf6ekdF5m3r0kpPNGtekdF5m1pMlxxE9dkKrpMnx777DXpRQeYLpcqoP1xa9K6D9aevSug/WnocqpFTYJTq/wA9ek1P+Y/r0upv+d/QZRTp6yWSWkyeqRPUEkl16R16/UEpdLkUBUTizM316Qwv08zQ5JEFPsczSX8JPqhTi148x+ina8cj/oZ+vHGP0E/XjbX6Cx14635fYa8cb8vsNeON+X2GvHG/L7DXjjfl9hrxcfLbLXi4+W2OvFx8tsdeLj5bY68YDyyx14yPl1lpLhn762x140z+in68cj/pJ+vG4v6WfrxyH+nna8dh/p52vHYf5EzXjsL8mZrx2F/yS9Je1v8AxJLTSX9Uie0UpF0mQ1SL7TjyJr0iqP1D2vSOn/UuaLJaUUTeaqa9JaL9fr0jofNB16SUfmIa9JKPzENekNJ5k3pMipfM2teP0XmzWvSKl81j6mX9IcGY2FkwRkwaIOPKno/WJ9/AtfWmui39zIaRtr/hAU1sH/KOuDf/ACDrpN/lJrotfkjrotfp29d2jbfZg0UWMX1xWdFDhl/8NjXh0P8ARR9eHwv0MfS10D74EbS11eX1wI2vDa3y6Lrw2s8ui68Nq/LYmvCanyyLrwWpL/8AVxNeC0/lcXXglN5VE14JS+VxdLR03k8XXo9TeUxNeB0nlMXXgNJ5TG0tBj/3U7GloKD7qdjXgFD5XH16P0XlDGvRii8ua16O0vlrWvR2l8ta16O0vlrWvR2l8ta16P0flzevR2l8sa16PUvlrevR2l8sa16P0flzevAaLypnXovR+Xt6XH6Db1VzWlx+g29Vc1rwCi8oY16P0flEfXgNH5XH14DR+Vx9eA0KJ6qhldeBU3lMbXgdP5PF14LT+VxdJTVHlkXXhNT5ZF14VVjvtWxdeGVw+rw6Lpa6vT/4MbQwoAou0CPpYcJP2ITQ67vHT1JGa0jLSJ6mQ1wbT/hHSIgJ9SIKfd//xABKEAACAAMGAgUGCwcDAgcBAAABAgADEQQSITFBURNhInGBgtEQFDJCUmIFICMwUFORobHB0jNAQ3KDwvAVkrJjcyQ0k6Kj4fHT/9oACAEBABM/AGNAI4gjiCL8cQRxBHEEcQRfEXxF8RfEcQRxIviL4i+IviL4i+I4gjiCOII4gjiCOII4gjiCOII4gjiCOIscRY4ixxFjiLHEEcURxRHEWOIscRY4ixxFjiLHEWOIscRY4ixxFjir4xxV8Y4q+McVfGOKvjHFXxjir4xxV8Y4q+McVfGOKvjHFXxjjL4wpqD2x3oMsbRcEXBFwRcEXBFwRcEXBFwRcEXBFwRcEXBFwRcEXBHDWLoi6IuiLoi4IuCLgi6IuCLgi4IoIoIoIuCLgi4IuCLgi6IuiLoi6IuiLgi6IuiLgi4IuCLgi6IuiLoi6IuiLoi6IuiLoi6IuiKDYx3jHeEdnz1pnpJ4jtkiXyKnkIHkc0VVXElichFmmCaqvQGhI1ofLLcF5TsocBxoaGvxDMVTJRhUF8eitMcYU1DBsQQdRBNKnZfLJcOt6WSjCo1BFPLfHFEljcEy7ncqKV8tonLJ4jtkqXyKnkPI7BVly0FWZicgoFTF8XJ5nKXRZZ9YsoqKeSU4YLMkmjqSNVIoYU1B7fJZZyzrhbKtwmlf3HumO8Y74js+enqs5pdhNklOkoB63JbszMdGiy2WQ4eZOaYiXxOVwJMoSaXVAizSZLsJqNZ6GSZyvT9pE+c1maZ5tbDZQyypUt1PFCVcVAEWGebTKeyzMCC06TKIJMTAgRDMscmaw0DNeckX4+FbNY5U2QswuizZRsqXGBK7kRMkyJM5w1klTqP5ukoMatQR5tJSTZuNIe1IbOyAP8lcuNfZoNmkCQ9nmfCT2MEsFv30FCCG8jUBm2RLBZbSEyN7GWU6naLDZbHOkKk+SLky1G106FUPRluGizy7O8qXOnoz8UGdLdr4rdAJuxaJNmpaktNrSSZc0JJACBWzQBoWRZha7O6sTOSnC4RltQUqpIgSJCspkWubLSaUVBKJotThEhapNm3RNa2h3UMZU3+BQ3SnknyLOjSjNtM1OGHky0YoAgoGJgWaQJD2VvhHzXpvdv31V8GDeS2UWaJKM8wmyu4Zavfo6NQNFnkSRNMqWZcqVZ5YnK6oAHqaLEmyWYG0oqtdSZLmpNTat0CpiTLBd3azvW4iUECVJ87sHmqqjmarq4Ex2qwDVF2kSJFlWddstrdAxXh8IuwWhNyLQLPJsyOpN0X5UjiiJHwrNnuo3CGzICe0Ry4LxJstnayTxJVHZLQ7/Kh5obBlICiEstlb4OWakoT7k95lycS6OKmUxuwsqQ3ANlVXE6SXlkmYbxWjErFns8gzpsuzTpXAYcVCqzbj0ei3YuBDNFktLyFmFUwDsEq1AB852R3jH9RY7PnpM2bZ55l1rwy8hkZpet0kiBMdDwfqXKFS8o6o1VMKKcOS5VjLUZAVQfZAJu3pk0zmOdcXJaCxUgqahlZCpVwRUMCCDkYlz5yNN4N26xZWreF30q1MPPnTp8xdEM6azPQVwxjjzWvm5cq4LEMboAxi8xWXxTV+ChN2VfOL3AL0VNBaeMZ/Fzz4hveQE/KustZILd1QMISY6KZEkEJKmKhAmy00V6gQzM4QqaqyFjVCpFVpE+12iceIzB6lncs1CKipNIE+YG6OXTBvGBOmlZiTiTMFGbC+TjTOJfRrJlksksgYEAk0208htE4tSW19UJLYqDjdMVNGtXGE/i553wG8iz50tZyUIuzlRgrryYERKLyHswoEpIeSUZBQU6JhrROJImZ32vXmr7xMNMmOJU6WtxSl4mlBhTKJUx5ZmvJoVY3CMQBSoxIwMCdNYMZj32NHZhVjiTCT5qyKzDfYiTe4YLHEkLXyJOmyrwQ3lExUZVmhSSVDg0iTOm2dp3CwXj8FkEwAYKHi+6yp4ZQlZssEKzKooGIvAQbROvyl2Bva0xg1qizrvEA67ghakGZaHMx2x1LMT852R2mO+I7Pp3sjtMd8R2fTvZHaY78dn093jHfjs+hXExLTaDPlSn+Te9dLVm0RLnSMCUrpLacF4TsUYm498UNKrmwET5JSzz5Vj/avLbZRiLwF5cVrDyVS0zDOmzFFCzXKOEFASCDnSEs12cZy2lrOtnCI00FwRdLVoc4mS5UtpbM6inTmKHJDdAqWWsS5KzZ0mVJIDNMuMVwLZBiT6ohJJmWRBPBMkzDVSQ/LrbyPKUy5M24s5LxRmwmqwKkVprSJ0kotosckKXnyqVJQBxgQGhxKJnG3TlkIUCOxoGcVvUIEWiQJizTwZc+iUYUF2cIkmULg4bzKDiunTNyJayeNLRSAb5ZwlQWpQMYPzXaY76x2fQsyUhez8OSkm5LalQKJWGlKoRlRJS0K40VUhbJZ5M9JFpqroJ8pEcoFNBE2TJwSSzOGuoqglr+MS0lJOs9pe0PamIwKuCz0KsCLsS0lIyTJDrMUXaMpHRoQRiIn2Szz5c2XOIYh5U1SoIKgqVizypIlhJKlFeWCvQNDdIHkeUqBZnCSRhd0uywIFiswtEpGIoDOCK02lAOnnrFnkSLOkufYphnSpySkS6Xv0Llq3gBFyUrypvASQWl0FMpYIBBAhJUoMHUMtCl0oQVYqYNkkPMv/XSy6twpg0IyMMak3dz812mO+sdn0ScRIl3Tw1r9YzabROcIPvi1q0mzAboGoz9YEDSJQCW1BzXBX2woTD1SdLOzS2oREygS0D1hLPtpqPn+0x31js+iAjC7eGUs6ndhFksM20Wm0O2ZLaHvLSPhM8Set0mhIOAOo+Jf83my2bK5NBUjqh3Eq2ySMmkzkpVxnWJqXG6p40MIaqwbIg6j53tMd9Y7PogoC91SSFvUrQE1p8aaoZDdNRgecJVPwMC0TgR1G9UQuSqv58/ne0x31js+hVJU2iXJs82cJNVINCyBiBmqwgRUstrni18GcC3OQstRCBeC8pZUmbMScCtS84ziK6Cl2AxuTXk3HW0Xa0DpW6WAxvfMkkLaZyTZMtXcesssOeiaipBioV7NZLLcFqkKKavcCnaafZg2iQLEySLY8pJQlLMv4KoXFIncF7DbUDorTbPcWqCUJgW41DQ6wzlvNhPlgtIQtUhQReA0DfM9pjvrHZ9CynuTpE5KgPKbQ0NDoQaERNztEqQXKh7lACpmMcAMTBBoXkGsp3XJnQ+gSCVicwK2eSxDGVKVQAoYqCTizamgHzNnYLMRZlL8s3gQ0t6YqwIqAYxqEnFGdRyJliFtM4SjNmsXdjKvXekzVMBi7SkYglJd+8FSqg3RhE9xMn2icwAMyYQAK0WgAAUAAAfM94x31ju/T3aY76x3foaxzTKuP8Iz50t7W9GT9kJYo2axWvGMslOLXW/d+blNcdbwu1U6HYxabTNtLqGsUiYRfmlmOLE/N94x31ju/Q1gmLLedZmNeFMvq4opJIIAZTFS11EAUCpxOAzOPzcm7xJZYUvpfDCq5ioI3EWtrOZcybcWWHPCkoaqqAD5vvGO+sd36BnzmR1CTDLJMC3OCwg/CFMsyQYb4QCkiH+EwMNxQNURN+EXW8o9ZSENREy3zVD8weGY8/nlTzrwYS3TyG/+PUZQ1ttGgqQOgIe0WoEEZgi5E2da4s6T6Ezg7K8u+QWBCYw1knEHqIZqw1gthB2yrH+m28gHQejH+mfCNB11WB8H2/8ATA+DrdUnbFVg2G3Bh2XYex20E8xDWW2ip5QZFtoNsbscK20HWbsILYGPVVIBrQTlDj4naY76x3foEb8c0v8AKBk514PLcZHIQ1VSeVpRCNKZE05QcGvD+FgdNT9hhQCWbIJtd30JwhAQJzLVaodLu0BaXyvqbA7nI5RSoI2O43++B6S3sSEbc6nSFNxZ12lANiBFLtBpJI3/AAgmvENfQO6VGepjZgJoomxxxgdEUX1h4aQ2A7dmhvVDbjn90H1Ru3+YQcx7w8I0pt1wclXZuuMQV97nGQN3QbHeCtA/8/5bw2JlDf8AzKFUVA4y4j8xG5WSoPxO0x347v0CnpBWnNgOW5hMTKBzEs8xppnCG6lzTTB8KA/bFKGWuPyfMk/ZmDANSo9lDqG1O2YgY8MLQi5rX71zimCI2Qe7gDsRSsAVaVU4HDXDoc8oQ1uhsqHIM3XQxpTL1spld9c4YlS3uPrf97MZwBQyRT0KDOu2VMYrUTBLLYIdRjiTiIGBY78uW8UoJp3g67XtxsYzI8UEf3Dlyivpn2hoPzj2iuOI2B0hT94OvV9sDAPd22Ahhg2178t4z6ifdjQlZyNUQDWpVACfid8x3xHd+gaCgDO/2naD0rt0enVjhj9sOMjrMcN6L1wprDDpJiaiaNWJ06zGZlDVw3rVO+esVqAMzOrne5Z1hhUNewLnnoVybSGW80seizOKYj3TiMobpYNnNJ1GPbDCpTSr4Z4UGFV2IjMXP+rnerocSTiIJq0u9p71/OKBlRFJBdTqMaCDjxLpp9mGMb3dOquvZG3uk/nAFesDdd4GTHZf7oU0DHYc94yDcmH3R6yty57mAKByunKMr525fnGZQbHxiuqkHCCa1NPid4x3xHd+gciXvTYHovuDsiZQ/ovuZg0QaUx0iZjf1JmaU2I6hDYOj4VmOfY+4jCA1DObR0b1bu3qjKDQCccqMPVAr1awT+0KjENeOAGjaDOCoGIqSaVF0Cu9DDKQSyjEkKMKajqAi6KqdSRljkFrQ6bwDiSx6RJOae3UQ3/coWrotMAIHqU9nrhcqU096mkAVuhtOs7dsAVMsHY6/lC4hRuDuY/l/AwcOw89to1X3edYB0X2P8wgitwdX5QMxe0J576CPYCitBHP4neMd8R3foH1qM009CEFcNk1ASBgS/sMNAo+yBmx0A04W40zhbCpW4oLiSky/iog2BKz5RImcKXNDj/dFEKSBbZICH/1IzQiVKJRXY1wQ4loTMmn7NBrLGgzXOsZo66f0wMmhhUzXY4CgzroRpFKFNlptTXWHzrxc0O1IbAre17doJqKe1vXlB0vHN+dct4tSF0+XJFSFIMKLYTFya9lLTUepAqGABEfBzz5c9JSg1cmbDjpIswVo+hMA5H2r35wcjXcachlBxu7sY1HQIJjUXWOHxO8Y74ju/u7yr7zRandJUqXiAuEpi5IMCdfvWZOMEtQFMKvZnS6ciDC2njTq3OMqT5TIoV2l9PolwIkIUWfInLWWxUlrrKQysKkGnxJjmVKDXHnNMmMoJCIksnAEmJLmbJmB5Szpc2WxANCr5EYHyaqemYApUMaAJs3LsgDBshwSM72GedY1keyoGoO/rGGwWnBbEe/CVAQKgyP1hgpUrNaUplMV9sGHozybRY5LS2R6avCG80kNiFl78wOyEPRF45JuNx6xhfUC5k74+mNMoPo02pkRuIIqG+VFWAbOGONfbrFfTO/KkH1jsR2wXAqVYkJUwPhaRM4ctiLzhVhFqSFSYYm2MyZMsTxcYzWeENb01hVrhbNIGHVcOwjRz+VIGdduqNOkMk6oY1IAc/E7xjvfvE9zLKpZ3d0nSWVXq6iawKGgbcQJVFny7fNmzhJOxlGbg0ebiW6fJcAGfNvPfZU6AKqsWdi8qRKkoEWSjkIXxqxYgYt8QzBKNpkT5EyyTURnKqHuzSwqQDDTVnPZrHYrOkiUJjIXBc3C2Z8mqjpNe50gnJWFL6aByNNsIcUUKoIImah+ekNSqYVvzK5g6aUh0JCcRCnHpVa3a+jDS+Ek7hil91qaFgKgGHQ37MJChAZjVxJh5F9i8ySZN52Ui6WregGpkKdU0O7AdkE0474gzAMgdq9ZitLpUa7EcxjmYwBYrrjWlNdobojCYKO+uWhyEKaljoUP+U1jQ+7yg4kciImvThpJYsQDjUwun8n5w73AySQ9QkfgtIHq7Ab1hPu4f5xmCNhsfxg0N33TzO8bXhpzgnIK7fE7xjviO6P3ee4lopYgCpO5MA1BG4+ZX0iaNRqagQTQOVzmjQchkc4aoFoaWfXHLKCAWJzowyMv8cxCn9qy1W+hYYosUKraD7R2wyGuYhsnOF0zTqtcjkczBxKBhS+F1X3dBlGfYNWlKc4DUEzehyrvofRhqgPT1HEYMxOh5y9t4XETSs1fQ5VzELkB7lNdxBHRYf59sNiUG7/AOYRmUrtvX7oGIUHKkHIDx/GDpTVucUIIG/bFaBRv1wRSvM7NBFf93OCatL6Bhs+jNcfE7xjvD93lremznOUuWupMS2vpZuNUhHPrTLoqxgaD5lcWI6cK11Zh9Kq7MfvzMGqCYV/hkaUGBPZBwP/AGSFOI3xptCkEsVqlJZ9kanshQVE8p6g2I1oeqCMHK4BJh2BwrkTgYXFpA1QHMjfVRCNdDYZrs5Gm2MAUunWgOR3GukNVROOfDYfidMoyeXe9QUONadVIUdFyrIOhsF1EVpXmIIpU6FtjtHtc2/I6xqgOv8A9aRX/wBw0B5R7ZU5nwg5PTU8hpGRX3opQP72P4QcK9cMK9pGvKMygYZHesHS7Of4neMd8R3R+7MxN0bIMg7k0rmYCk3ZzyHug7BPms7oUt03Gq7iA9A5zIlnSYRmcopdCBcAjjfbUZxWpRfZFD0q1rXSEOMsKB+zOta9gzhKXWVaNRBoxrlmIIrwpbVFJgpSuFFOW8UqZYriTuld9c8IU3ruRLIdyDVhAJVWFMEI0bbVRBoFAUYV0LeyYNb0sNWoJ9YscaxeqECtLxB254GAKXjuOW2+sZB6aeMHHvHltGZ6xuggGnEPL/MYxUOfZ8TB1Ox5R7fV7u8DJuYilAxXIHam+pg5jmR+AgnVmAr4QTWtZrH4naY7wjuj920LIaSZZ73Sp82gq0taitBqYHTCD60Gv3amCcCmNTNFM64DCoMP6co+s7n1r9e2NFvHGbXOv/IxepVq1vk5iYPv0g5TThUPsdD9ggiryzSl7DNcMtNIUXri/WJuPd1OUE1Tpes3/UJg+mmPSebv+ekZhwc5hOo5Zw9GoWMurV1qNI/NeePZFKCYVyTs++KU7p8eyAK3OQ5fhCnADcbMYJpe93r5xSlPd5xnTTA6iF13I57wBQOV07PvgCpA25jeBqeKpoPzjQlprn4naY7wjuj5mS0qa9iT4KntIcnhdL5dSswK0C3tOK3gTSZ8lQOF2qCYkzmbC0AVmG8iUeugwifOnLfl2diCycCVOatQL3RoIM91QyZ1hnz7kyUpulgyDyG1lC1ntbulQClOInCY3a0I1hJrzJ8t7CXBefKuBVlu0ogEOT6MTp81LawsYrR0myUF3RnQsoMWa0zJE0vPadRayipABkxPc1ItVokyn0et+/QmFmz3s1nRQWDu0qS7Ygaqq84ss7jSDxFBrLmUF5cei1BURlWVL+R4VPcpWtca/NidKQKstyims1HGNyHm2UhzXM9AXYadZ6sWGBK3ctABDTLOXauvo0Ih3kdMUy9Hb1YmPIJYdZXSKyMwcFPRwpBezkhV1HRwEB7KQedLsE2Z77NqdmMBLMSQ2Qu6ropilnQ0XIobrUpFo6DMZaki+UyK0qlAKQnwjNxNTUoSK9cC3PRiugwpUR5+1Oo4wLaejvrkIFvH+8co/wBSC8RRvhhyg/CYxOteg1If4TxvdapgI/1OcO9VRhyhrfaeld1yzg2+0HtJu5aAxLnsVU1AAq4WhFamDss56fE7xjvCO6PmAaRxGoiCUZF1semLppRtYmWufPkSkXJJMua7LLTSiACkG22luAZJBTzdi9ZATQIQBEq22iWwmzqcTFHU3JhFXX0WbFhCWmdLezPjRpE1GDygoJUBSAFJXKHd5rEIKC+7ksxwxJJJ1h7baHRlUkovDd2QAFjSi4VMS7VPWzNMnEl3NnVuFeYmpa7UmLfbLRb/AJCdS/KHnTvdV9QIn2ufauLKRmdQ3Hd7xW+QCcQIm2qfOVAtLokma7GUEugoEICmF+Fras4lzeN+cJodxsGJAhBRURBQAdkZASbUKEtyDAH5sYmqT3o5gmizyuvKlM9dYIByxrMG2w0GMDMH62pGI203gAqs4r/EB5ZqO2CKX2XSuw9rI5QRQbYjaCa1K680UxWiuV1FcA3X1mG9a7neHjnHrA+1jpC1UTGX11OnIQpoaLZmOmuhpCGl27lc2P5QBQTLvqjY7xT0R7G1eekDT3SfYgZD+U6CKlVmnYDTDWD0f6Z8RlpByoDkaZp+Jgmpdq0rzXCPrLpyB/5QRgdq6V201hcbvTGHMR/Wf4nePk7o/diRVWxKEja8sNUFpquqNXYsDX5oZkCcx6EXqLMOybHfQ5Q1RxCuNxxsIqC15sLg5YY6HKBk136vbntlAWgcrkh0FPvgCpXeWNSNxmIGIQNsdovU4rZmm3OGqomMuN0gZAbxma+yRkV/HSFODlfZMbKlmoTzEBq87yakmuuWsHJU3PPaNVvY0c7nfQZwBW4NabryhBeMsNncOtfuhcQq/ny1EA6Nuda1rWAchTIUzB+4QmFwUHode2msD0aU9TnTSKZK2JB5tAzQcSpWupj+s/xO8fJ3R+7Af+aszGpl/wA4PSSMgrqWLgjQ1BqNKfNChKLxPSEBqXuQJymbmALoVaUCsN9tRGfCH9waA1SoXWWc6tXPMawBgF0HJv8A9EUxlg51hSNfqzoxHZSAbo/kFcmpntBqoI0Q8+YxEZGUvsYZ100pjCkHBcaSzuftAilLgWUwrhrSAcSfbrmDBODDHHcEbbxqL2hP47QBXhjK8BqNhBN6/h6ddPwMEY3tWpoeUAYpjiadfqnMxWtBrMrqScKHXOK5Z9Pep2hjg3vHWop4QcSgY+k/PYxmRWbnzj+s/wATvGO7HdH7uhUFGu/tUBIrXVRDrRwWFaEaFdvmcLtzi4E7ND40u5tMrk3PWH9Y68UfgfshvSl7sTkQ2gyMBszrNBzqdQYOImH2jsRnSGFbgbA8Tl7Oh1gi80oVxfnXY6wTUEe0/vV1zg/fxd+vUw2JS9mxOTA7RoT6RmXtq4nWsVqSemKnlpSK0rzVhlTXaPa2w0OGGmsE4H3W7TnrFptUuRMYMSoYBzW7C2+QKk96LRaEkpOGFQt8rUKCIs9oScCedwtQLoYfA3vaPs3a6aQcC77H2SPwxEMaAnnsFrhSNWPvdUUwxmYnlH9V/id4+Tuj6B3pOoGEe2dUI0A+6G9bYEfV7HSB6VeW8vllE+aJQnNpw2YjEfaI8/k0XYVB6IETp6ILUWu7nEAMMRE9xKWW2ABYn1NAMxkI+tLeslMvwpGVCuakaKu0KekzNqp1XDqAzhSQCVrQofVA+6E9JmZpgw2zpSAcB/IRlTXWKVvV9X+b7to9IqPqzv166xPlic8qWCSsurZirRNkq5SUgQqiQ6ApdSXKuoVix/JAl3CFCmREEVDXgOgBqNKZgxStRoo3GtYOPUuPq8/titSmwNc+vSBjcDTTgOQpH9VvL2R3jHYY7o/dlFS3BQvQddInEzTakVQJ4lIA3D6NWSXLABYRYrAbXaEsUqzO0k8IJNYmayCYTSqqaQ3waHtMqaxRpCzrOqgpKuswc3KrSJU5vM7XIttoSQWElmZAflr6uOlgATT4kmXLmzSgB6C8UFVLHWhggAu8ySru7U3Pkb1//EMBTZoIoGyHD3vc94A6Us6Jd1B13jZfc3GhEMOgZLAAiEsklg7exSgoYlAESLkqVcUVzQQ7AzZNqsk8I6GF0D40l+8c20MU6L404VM6jKudYXB5TaKo575EQuTbLLOhBhMSGYzBQCmMZADdeePWIYYXd298iHFbinV+ZH2awc5Vde37o1WqpEqUJ5k0SVkpIDExOlLIsildZsoFg8CoZcukNyTpplGQUAY097caxSg5nXHCtI2vbDntmBA9S9OOCR328vZHaY7pjuj92OIYMLpBicBxUk0oEd19MqMLxFTEmaVZfkjJxOvRamMS7a8ouk41N+4RitMGHSGhiWihGezfsb7NU3JRAZVHrAE/En2VrWplsCpAUTJVDU51iVZDZSJMlAgDgzZt5vI23nDAkH2oYZBRT5Qe0a9ghx6CgY365g17IUkEH60GmPKASivJcBX9A1DmGnz3zBQgqzkFyDDEsUW4kLQJKtlmdRP/AN60YxX9mupByD4YjLSCMGu4dMZhzluMoI/ZLs41rn+EY1S9kVOpJGekMcsZmfPeMiTvGSziNeoZ01zg67M/LY9pjUD2gNuX2QGJvzplA07EnE3YLEGVxgA5FDS+1II9IrqeQgdH+pj+GkYgTD7XLDIQcK7Fz+B1zhs05vTInfSCAP4zY0jvHy9kd4x3THdH0DWhY8cmsHKYV1mDSmmog0JZvzQffC+sfbBOY5Q6kLxF/jIdCNBpDj7DN5kZGJi1eSXpex2N2hO2Bicl4y6ihdAcq+zDGizrvrnamh+2HFKlR/EGhocDoMYIBI1q41XaMrq6vU59WmsEUBFZhDEZjHEDMGB6THYH/lvCggTiug2pnT7IpTinRTy/E4QMfs3QQcOIV9caDlXOK3b59nkaZ/YYyEwrTAjQDSMLxbbq/GBgJpXQbY588IIwmNpXltoTGdT+csQWoDdnEkA+z8TsjvGO6Y7o+gWNEm9MGgg1W8fYPPD0tBFBn9WRquGO+hgGpY5VQ+yPxgYCa66V0K7amKUv7A6V+45wMT0fvaWDAx6wm8vcdggmizyvrcqaHWG/iNnccA4qIADFzXPnLqO2FymMuFQdAv3mAM7oc1AhTnd1Q7QooHu43Rs28UyHsbdsUzu6E6qNTC+rzTYnaCSof3TsdzB6Nf8Apmn4jLSMjLHs86//AHA02Cn843H1Z57naBnLHs1256QMqrNHo9UfzeXsjtMd0x3R9AilEXoGoJ9Y6RUi97j613OYjVBlcWlKg77QpFZYXACWRv8AcM4A6DKvsDSm2YyEUx6XqOcu9AGMsexX+7QZwpADHVZf9wyOUA3AT7K1yemeXOCCtBpKI/ygyhTjLwoFUjMH8ITIgDKXsaHEaCFFKDgVz2oaGBpzHM5bRpTO9T2sPtxj+b1TpeO8ZmWN+YhRUywdV3qNNM4BqrLp27GD6o1v78tawTio1LnW9Gq7kHUmMxd3FfW5HrgYmUrHLt0gmtwXq1rsaR1qPL3Y7THdMdg+gXmotZfBlC8l84tUECDaFoo98McXrHnMs0vZ416YOZhbSmBbUGuIb7hHnCECmTKa4HaBOQi62hFacQwJqs0gMdMca6aiBNVjKGpU1qRjWkcRbjKubvtTKsM69EY4TNGJOUGapKDVlb1q/wD6IM5aKPrASa3scs6w7gKwmSqVJyqx1rnAnpQncGvow01SCN88xoIM1K1bRhXHrgzlJlZKa44gQZ6HH261z5awZ61Y6tngdxAnqCx2Irly0gz0x68fRppBnpiW9YmuW0ecIKvuTXDrGkcZDeLe2FOEAEUZpUx8yMo7g8vdMd4x3THdH0DKdQhds/VgzBiY4kcQRfXevsxfWhP+2OIv6Yvp+mA6D+yLyfpgOn6Y4q/pgtKc/aUi5J/RFJH/APKKSf0R8kP7IvIP7Y4i/pjir+mOIn6YLp+iKyv0QXWn/GEtNypoRjdArgxEZ3VUUA+zy90x2mO6Y7g+ne6Y7THdMFsioHRi+IviFPkx8Io3hF1/CLjeEcN44TxwXjgvAkuY83eOA8ebvBkP4R5u8ebv4R5u/hHm8zwg2Z/CPN38I82aPNWjzZo81aPNWjzVo81aPNWjzV481meEeazPCPNZnhHmszwjzWZ4R5rN8I81m+EeZzI80mx5pMjzSbHms39Meazf0x5rO/TAs079MCzTP0x5vN/THAmRwXgynEcNo4b+EXX8Iuv4RRvCMfCMYvRfFSWBwjvHyXRFIpFIoIuiLoi6IuCOGI4a+EcJPCOEnhHCTwjgp4RwU8I4KeEcJfCOEvhHCXwjhL4RwV8I4QjhiOHHDi4IuiLvkp8areMVbxjHx8lW8l2LvluxdgoI4YjhCOEvhHCXwjhL4RwU8I4SeEcJPCLg8IuiLgi6IpAj/8QAQBEAAAQCBAoGCAQHAAAAAAAAAAEC8BESAyFhcQQiMTJAQlFicqITIEGC4fIFEIGRssLi8RQjUtJQgJKhscHR/9oACAECAQE/AP5MSQmRuIlRkPyg0ILUHRkdcBIh/wCxIjtxflGF0nRKQSc7lH4pT1bx+JVnarrC8JWR1NO0Fhh/s+oHhSjyeXwFHhCV6IhOIT94MoVv2gsr94uzXWDPZ5rwe0YfUuj3tT9QNMUxnexVgI4VPu2AiLJnJ+JW6JZc/Gm5gZJTwv8AsMEz63w2aIjMq8wOx+AjGon4AoPWEY1iWLdQ9IljoLV+LhBv9oKhUrGNcvy8ITRVIOd2DNKJvdFp+WwYOZGury3aIjMqe6D2u4Fli/YIRyO4FjHF3CL/AEj0mVdHD6fuIw3fl4ghSCo0TIjLyglJQlClof8A0Tzqnf3EdfN+XiGDF+cgpHt0RBYrcQ+EZKmkZTbiDryO+0RhUWryj0iqC0J5NUESTrU77ASVTRad66wTT1K7m9vA7dbmvEVP5rNgwYoKRoic1D94IoVv2h+IIoVO8R2O8FLCL+w9IIx0OYF+ZWt+AM+zUebYMU8uNNzcNwI1duNNzboOWWL+wwepUH3bNEKkUVQKmWOmWOmXLAdMuI6ZWUU9IpVJX5hN2u4GqHdfuFsn1cILd8wikpP6BRV6miH6ldSkLGi+ER7TdgNJqEdV90ZEgy7TdgoKqtEPZ64Cz1UtVI3EQ7WkEVGVHHNl5QVHRqk337wWK3WLS8vEMH0Q+tSZ4Kt/FYJ8Uyd9wnUSUQdohGsneLs55Rg9mbosvVpixnjDVrdlwtPNeSwFtN3DLWnzA68r8Bg6YV6IfWpExWt+wSqf+AUylcPKDLY+EQVlS/EZ+V2ChKWrRodWAgICAlT/AAT/xAA7EQAABAIFBwkHBQEAAAAAAAAAAQLwESEDEjFhcQQQEyIyQOFBQlFicoGi0fIgUpKhwcLxIzNQgNKC/9oACAEDAQE/AP6YqpFEsaRdrUCpaQxpVENKsaVb5woCrp1hUSKibASEjRpGjSFUcN0pTgt/IEcZPuBvyGLuBXgugZNYsWA5tzzYAm+kUuy3HdKXbn6QRN8ohBMTW/MGhT5oskI9D4jJdl/ME/MR6HiIjnQIXPEK2d0pNt/EC6HiDNNSD7wS0lI3iLJPEQ5WoZIeqIRe1gDI4g5nIQhJ/gXNWAX+2rdKQ9cQF7ULG5ApWvgCKIyWaVmI9DwEX9BCE3gCfAQfkKQ4p3RZfqLfwgzjIPgDnN4DF4CCowGSnqvVFkiBFmw9I5YP8hezHdNBRnUMy/7fKDyei5S1U+EFk1ESoGh3A8koiOT4gskoIT1ftB5NRFqGh/ULToVIIhXUNIoaRY0lINIoVlK3RMSJBvvFky9OIRKTT1gRw7PJ/o7ws9WLT2gmRdnw3jKtpB5oewjdElKvzXtApqbgIlyvgCVE/e+78DrFsvauBTOT4DKS1o5yLOjdEHEpvqiCUy+P/JXC01FUdw1tb3REzfhBQsfdcMpq6RDTmjmtzI3RJmokuqK0Uw5qfD5xBFBT+QPoJ8RY9m4xCBS9IynaQXtI3RJ6qIPtAiSVnpvwGqmSX1gRR2XjeIxsfaBHA5O8ZRWUr2i3SKhXUK6hWFZQrK/iv//Z)"
   ]
  },
  {
   "cell_type": "markdown",
   "metadata": {
    "id": "nbY5YP6d-UGI"
   },
   "source": [
    "Definiamo ora la funzione Sigmoide, che viene clippata per evitare NaN, tanto già a 50 vale 0,9999999\n",
    "\n",
    "Implementiamo poi la funzione di threshold vista a lezione"
   ]
  },
  {
   "cell_type": "code",
   "execution_count": null,
   "metadata": {
    "id": "Me_-y4Kp-X1L"
   },
   "outputs": [],
   "source": [
    "def sigmoid(w,X):\n",
    "  if not isinstance(X, np.ndarray):\n",
    "    X = X.to_numpy()\n",
    "\n",
    "  z = X @ w\n",
    "\n",
    "  z=np.clip(z,-50,50)\n",
    "  Y = 1/(1+np.exp(-z))\n",
    "  return Y\n",
    "\n",
    "def threshold(z, value):\n",
    "  ris = np.copy(z)\n",
    "\n",
    "  ris[ris >= value] = 1\n",
    "  ris[ris < value] = 0\n",
    "  return ris\n",
    "\n",
    "def cross_entropy(p):\n",
    "    eps = 10e-6\n",
    "    return -p*np.log2(p+eps)-(1-p)*np.log2(1-p+eps)\n"
   ]
  },
  {
   "cell_type": "markdown",
   "metadata": {
    "id": "lfWSTqcNY3xD"
   },
   "source": [
    "Regressione logistica allenata con SGD e funzione di loss Cross Entropy come visto a lezione"
   ]
  },
  {
   "cell_type": "code",
   "execution_count": null,
   "metadata": {
    "id": "rnN9XW-aBonh"
   },
   "outputs": [],
   "source": [
    "def logistic_regression(X, Y, regularization=None, reg_param=10e-4, reg_ratio=0.15, verbose=False, epoch=10, lr=10e-4, decay_rate=10000, iterations=10000):\n",
    "  if not isinstance(X, np.ndarray):\n",
    "    X = X.to_numpy()\n",
    "  if not isinstance(Y, np.ndarray):\n",
    "    Y = Y.to_numpy()\n",
    "\n",
    "  ACC_list = list()\n",
    "  tres=0.5\n",
    "\n",
    "  X_split = np.array_split(X, epoch)\n",
    "  Y_split = np.array_split(Y, epoch)\n",
    "\n",
    "  _, N = np.shape(X) #prendiamo numero parametri per generare C\n",
    "\n",
    "  w = np.random.rand(N,)  #generiamo w in maniera casuale, qua se metti (N,1) fa saltare in aria tutto\n",
    "  #w=w.reshape(-1,1)\n",
    "\n",
    "  epoches =  iterations * epoch # un milione di epoche\n",
    "\n",
    "  for i in range(epoches):\n",
    "\n",
    "    X_batch = X_split[i % epoch]\n",
    "    Y_batch = Y_split[i % epoch]\n",
    "\n",
    "    a = lr * decay_rate/(decay_rate+i)  #decading learning rate come dalle slide\n",
    "\n",
    "    Y_eval = sigmoid(w, X_batch)\n",
    "\n",
    "    Y_pred = threshold(Y_eval, tres)\n",
    "\n",
    "    G_complexity = 0\n",
    "\n",
    "    if regularization == 'l2': #Ridge\n",
    "      G_complexity = reg_param*2*w\n",
    "    elif regularization == 'l1': #Lasso\n",
    "      G_complexity = reg_param*np.sign(w)\n",
    "    elif regularization == 'elasticnet':\n",
    "      G_complexity = reg_param * (reg_ratio* np.sign(w) + (1-reg_ratio) * 2 * w ) #reg_ratio gestisce quanto applicare le due regolarizzazioni\n",
    "\n",
    "\n",
    "\n",
    "\n",
    "    G = (Y_eval - Y_batch) @ X_batch  #Binary Cross-Entropy Loss function\n",
    "    G = G / len(X_batch)\n",
    "    w_i = w - a * (G + G_complexity)\n",
    "\n",
    "    if verbose and (i % (100 * epoch) == 0): #stampiamo ogni 10mila epoch\n",
    "      print(\"siamo all'iterazione: %d (%.2f%%)\" % (i, i*100 / epoches))\n",
    "      print(\"costo Cross Entropy Loss: %f\" % (np.sum(cross_entropy(Y_eval)) / len(Y_batch)))\n",
    "      #calcolo dell'accuracy (da scikit-learn) per aggiungerla alla lista\n",
    "      ACC=metrics.accuracy_score(Y_batch,Y_pred)\n",
    "      ACC_list.append(ACC)\n",
    "\n",
    "\n",
    "    if np.linalg.norm(G) <= 10e-5: #ci fermiamo se il gradiente è quasi nullo\n",
    "      print(\"Early stopping G_norm iterazione: \" + str(i) + \"  (\" + str(i*100 / epoches) + \"%)\")\n",
    "      break\n",
    "\n",
    "    if np.linalg.norm(w - w_i) <= 10e-6: # ci fermiamo se ci stiamo spostati di poco\n",
    "      print(\"Early stopping w_diff iterazione: \" + str(i) + \"  (\" + str(i*100 / epoches) + \"%)\")\n",
    "      break\n",
    "\n",
    "    w = w_i #aggiorniamo w\n",
    "\n",
    "\n",
    "  if verbose:\n",
    "      print(\"Grafico dell'Accuracy sul Train set durante le iterazioni dello SGD\")\n",
    "      ACC_list = np.array(ACC_list) * 100\n",
    "      interpolate_plot(ACC_list, xlabel='Iterazioni', ylabel='Accuracy (%)')\n",
    "\n",
    "  return w\n",
    "\n",
    "def logistic_predict(w, X, tres=0.5):\n",
    "  Y_score = sigmoid(w, X)\n",
    "  Y_pred = threshold(Y_score, tres)\n",
    "  return Y_pred\n",
    "\n",
    "def logistic_predict_proba(w, X):\n",
    "  Y_score = sigmoid(w, X)\n",
    "  return Y_score"
   ]
  },
  {
   "cell_type": "markdown",
   "metadata": {
    "id": "Ko7kWoaj4O8Z"
   },
   "source": [
    "Calcolo della regressione logistica con la funzione qui sopra, comparazione con sklearn, stampa delle metriche, e grafici\n"
   ]
  },
  {
   "cell_type": "code",
   "execution_count": null,
   "metadata": {
    "id": "JEGqJu0OGuJr"
   },
   "outputs": [],
   "source": [
    "def logistic_parameters(verbose=False, epoch=10, lr=10e-4, iterations=10000, decay_rate=10000, regularization=None, reg_param=10e-4, reg_ratio = 0.15):\n",
    "  w = logistic_regression(X_train, Y_train, verbose=verbose, epoch=epoch, iterations=iterations, decay_rate=decay_rate, regularization=regularization, reg_param=reg_param, reg_ratio=reg_ratio)\n",
    "  Y_pred = logistic_predict(w, X_test)\n",
    "  Y_score = logistic_predict_proba(w, X_test)\n",
    "\n",
    "  accuracy = metrics.accuracy_score(Y_test, Y_pred)\n",
    "  print('Our Accuracy: %.2f%%' % (accuracy*100))\n",
    "\n",
    "  F1_score = metrics.f1_score(Y_test, Y_pred)\n",
    "  print('Our F1 Score: %.2f%%' % (F1_score*100))\n",
    "\n",
    "\n",
    "  #curva ROC e AUC\n",
    "  fpr, tpr, thresholds = metrics.roc_curve(Y_test, Y_pred)\n",
    "  AUC = metrics.auc(fpr, tpr)\n",
    "  print('Our AUC: %.2f%%' % (AUC*100))\n",
    "\n",
    "  display = metrics.RocCurveDisplay(fpr=fpr, tpr=tpr, roc_auc=AUC, estimator_name='Our estimator')\n",
    "  display.plot()\n",
    "  plt.show()\n",
    "\n",
    "  #matrice di confusione\n",
    "  metrics.ConfusionMatrixDisplay.from_predictions(Y_test, Y_pred)\n",
    "  plt.show()\n",
    "\n",
    "  #Precision e Recall curve\n",
    "  metrics.PrecisionRecallDisplay.from_predictions(Y_test, Y_score)\n",
    "  plt.show()\n",
    "\n",
    "  our_metrics = [accuracy, F1_score, AUC]\n",
    "\n",
    "  #saga è lo stochastic average gradient adapative, il più vicino metodo che supporta tutte le regolarizzazioni.\n",
    "  logreg_model = LogisticRegression(penalty=regularization, C=1, solver='saga', max_iter=iterations, l1_ratio=reg_ratio)\n",
    "  logreg_model.fit(X_train, Y_train.values.ravel())\n",
    "  Y_pred = logreg_model.predict(X_test)\n",
    "  Y_score = logreg_model.predict_proba(X_test)[:, 1] #pigliamo il [:, 1]\n",
    "\n",
    "  accuracy = metrics.accuracy_score(Y_test, Y_pred)\n",
    "  print('Scikit_Learn Accuracy: %.2f%%' % (accuracy*100))\n",
    "  F1_score = metrics.f1_score(Y_test, Y_pred)\n",
    "  print('Scikit_Learn F1 Score: %.2f%%' % (F1_score*100))\n",
    "\n",
    "  fpr, tpr, thresholds = metrics.roc_curve(Y_test, Y_pred)\n",
    "  AUC = metrics.auc(fpr, tpr)\n",
    "  print('Scikit_Learn AUC: %.2f%%' % (AUC*100))\n",
    "  display = metrics.RocCurveDisplay(fpr=fpr, tpr=tpr, roc_auc=AUC, estimator_name='Scikit_learn estimator')\n",
    "  display.plot()\n",
    "  plt.show()\n",
    "\n",
    "  #matrice di confusione\n",
    "  metrics.ConfusionMatrixDisplay.from_predictions(Y_test, Y_pred)\n",
    "  plt.show()\n",
    "\n",
    "  #Precision e Recall curve\n",
    "  metrics.PrecisionRecallDisplay.from_predictions(Y_test, Y_score)\n",
    "  plt.show()\n",
    "\n",
    "  sklearn_metrics = [accuracy, F1_score, AUC]\n",
    "\n",
    "  return our_metrics, sklearn_metrics"
   ]
  },
  {
   "cell_type": "markdown",
   "metadata": {
    "id": "-ngidQDUZi-H"
   },
   "source": [
    "# Prova Iperparametri Regressione Logistica (con Regolarizzazione)"
   ]
  },
  {
   "cell_type": "markdown",
   "metadata": {
    "id": "dqIOr4KpJhn5"
   },
   "source": [
    "\n",
    "*   Regolarizzazione | L2\n",
    "*   Moltiplicatore λ di Regolarizzazione | $10^{-4}$\n",
    "*   Learning Rate | $10^{-4}$\n",
    "*   Iterazioni per Batch | 20.000\n",
    "*   Decay Rate of LR | 10.000\n",
    "*   Batch Size | 10"
   ]
  },
  {
   "cell_type": "code",
   "execution_count": null,
   "metadata": {
    "colab": {
     "base_uri": "https://localhost:8080/",
     "height": 1000
    },
    "id": "z66DRsDEhCZD",
    "outputId": "1e1b85af-7abc-418b-da2f-90a141394790"
   },
   "outputs": [],
   "source": [
    "our_metrics, sklearn_metrics = logistic_parameters(verbose=True, epoch=10, lr=10e-4, iterations=20000, decay_rate=10000, regularization='l2', reg_param=10e-4, reg_ratio = 0.15)\n",
    "\n",
    "comparative_plot(our_metrics, sklearn_metrics, labels=['Accuracy', 'F1 Score', 'AUC'], verbose=False)"
   ]
  },
  {
   "cell_type": "markdown",
   "metadata": {
    "id": "qm8SyL5HZzlU"
   },
   "source": [
    "\n",
    "*   Regolarizzazione | Elasticnet\n",
    "*   Moltiplicatore λ di Regolarizzazione | $10^{-4}$\n",
    "*   Learning Rate | $10^{-3}$\n",
    "*   Iterazioni per Batch | 15.000\n",
    "*   Rapporto di L1 | $R_{L1}=0.15$\n",
    "*   Rapporto di L2 | $R_{L2} = 1 - R_{L1} = 0.85$\n",
    "*   Decay Rate of LR | 10.000\n",
    "*   Batch Size | 15"
   ]
  },
  {
   "cell_type": "code",
   "execution_count": null,
   "metadata": {
    "colab": {
     "base_uri": "https://localhost:8080/",
     "height": 1000
    },
    "id": "Gspf-0gjZp5k",
    "outputId": "78ce614b-d73a-4a80-f26e-9c14104829f5"
   },
   "outputs": [],
   "source": [
    "our_metrics, sklearn_metrics = logistic_parameters( verbose=False, epoch=15, lr=10e-3, iterations=15000, decay_rate=10000, regularization='elasticnet', reg_param=10e-4, reg_ratio = 0.15)\n",
    "\n",
    "comparative_plot(our_metrics, sklearn_metrics, labels=['Accuracy', 'F1 Score', 'AUC'], verbose=True)"
   ]
  },
  {
   "cell_type": "markdown",
   "metadata": {
    "id": "Ddb3GCArHBPX"
   },
   "source": [
    "\n",
    "*   Regolarizzazione | Nessuna\n",
    "*   Learning Rate | $10^{-4}$\n",
    "*   Iterazioni per Batch | 15.000\n",
    "*   Decay Rate of LR | 10.000\n",
    "*   Batch Size | 5"
   ]
  },
  {
   "cell_type": "code",
   "execution_count": null,
   "metadata": {
    "colab": {
     "base_uri": "https://localhost:8080/",
     "height": 1000
    },
    "id": "9P66X9goHOBX",
    "outputId": "34a3f00c-718d-455e-c2af-74deef5176ff"
   },
   "outputs": [],
   "source": [
    "our_metrics, sklearn_metrics = logistic_parameters(verbose=False, epoch=5, lr=10e-4, iterations=15000, decay_rate=10000, regularization=None, reg_param=10e-4, reg_ratio = 0.15)\n",
    "comparative_plot(our_metrics, sklearn_metrics, labels=['Accuracy', 'F1 Score', 'AUC'], verbose=True)"
   ]
  },
  {
   "cell_type": "markdown",
   "metadata": {
    "id": "BTuBuPDoosmF"
   },
   "source": [
    "<h3>Facciamo ora le seguenti osservazioni finali unendo conoscenze teoriche con fatti sperimentali</h3>\n",
    "\n",
    "Il dataset subisce uno shuffle a ogni chiamta di questo Colab, quindi i risultati possono cambiare\n",
    "\n",
    "In generale con un aumento di iterazioni abbiamo una maggiore convergenza ai risultati di Sklearn, a volte anche superandoli, è possibile fare un grafico dell'accuracy sul train set per verificarla\n",
    "\n",
    "Alla fine della valutazione la nostra implementazione supera anche Sklearn in termini di Accuracy, F1 e AUC\n",
    "\n",
    "In generale aumentare le iterazioni assicura la convergenza all'ottimo, un ottimo batch-size di circa 10-20 aiuta.\n",
    "\n",
    "La regolarizzazione L2 è risultata nella media la migliore nelle simulazioni, in particolare migliore è il primo esperimento qui sopra.\n",
    "\n",
    "Un Learning Rate superiore a $10^{-4}$ porta a divergenza, prevedibile considerando che il passo deve essere piccolo.\n",
    "\n",
    "Il decay rate aiuta di molto a stabilizzare verso la fine dell'allenamento a valori alti di accuracy\n",
    "\n",
    "Il fattore di regolarizzazione è preso il più alto possibile che non causi divergenza secondo fatti sperimentali, visto che ridurlo ancora renderebbe la regolarizzazione inutile da attivare\n",
    "\n",
    "-----------------------------\n",
    "\n",
    "Teoricamente la regressione logistica ci ritorna una probabilità tra 0 e 1, e poi applicando la threshold decidiamo quale dei due ritornare\n",
    "\n",
    "Anche in questo caso l'implementazione del modello anche su sistemi embedded è facile poiché comunque sia è un applicazione log-lineare(?????) e avendo i pesi e il threshold è facile applicarla con pochi calcoli\n",
    "\n",
    "I risultati ottenuti sono eccellenti, eguali a Sklearn e i valori di Accuracy, F1 Score, AUC e la matrice di confusione (di conseguenza) rispecchiano un ottimo classificatore"
   ]
  },
  {
   "cell_type": "markdown",
   "metadata": {
    "id": "q5q7Ow8jNGLS"
   },
   "source": [
    "# Classificazione con Decision Tree\n"
   ]
  },
  {
   "cell_type": "markdown",
   "metadata": {
    "id": "o56egfJl0SUX"
   },
   "source": [
    "Lo scopo ora è quello di classificare la classe di peso avendo tutti gli altri dati, cioè classificare in 0 le persone nell'intervallo [Sottopeso, Sovrappeso]\n",
    "e in 1 tutte le altre"
   ]
  },
  {
   "cell_type": "markdown",
   "metadata": {
    "id": "TekFYom-N78x"
   },
   "source": [
    "Partiamo con il costruire il dataset necessario, cioè associando alle classifiche di obesità i valori giusti, e troncando a intero i dati eventuali (tipo height)\n"
   ]
  },
  {
   "cell_type": "code",
   "execution_count": null,
   "metadata": {
    "id": "3Z_n9BXYOHp_"
   },
   "outputs": [],
   "source": [
    "ds = dataset.copy()\n",
    "\n",
    "ds['Height'] = ds['Height'].apply(lambda x : x * 10) #convertiamo l'altezza in un intero, dopo averla moltiplicata per 10.\n",
    "ds = ds.astype({\"Age\": int, \"Height\": int, \"Weight\": int, \"FCVC\": int, \"NCP\": int, \"CH2O\": int, \"FAF\": int, \"TUE\": int}) #amche gli altri dati vengono convertiti in intero\n",
    "ds.Gender.replace(to_replace=gender, inplace=True)\n",
    "ds.family_history_with_overweight.replace(to_replace=FHWO, inplace=True)\n",
    "ds.FAVC.replace(to_replace=FAVC, inplace=True)\n",
    "ds.CAEC.replace(to_replace=CAEC, inplace=True)\n",
    "ds.SMOKE.replace(to_replace=SMOKE, inplace=True)\n",
    "ds.SCC.replace(to_replace=SCC, inplace=True)\n",
    "ds.CALC.replace(to_replace=CALC, inplace=True)\n",
    "ds.MTRANS.replace(to_replace=MTRANS, inplace=True)\n",
    "\n",
    "binary_conversion_obesity = {\"Insufficient_Weight\": 0, \"Normal_Weight\": 0, \"Overweight_Level_I\": 0, \"Overweight_Level_II\": 0, \"Obesity_Type_I\": 1, \"Obesity_Type_II\": 1, \"Obesity_Type_III\": 1}\n",
    "ds.NObeyesdad.replace(to_replace=binary_conversion_obesity, inplace=True)\n",
    "\n",
    "ds = ds.sample(frac=1).reset_index(drop=True) #fa lo shuffle pazzo sgravato\n",
    "\n",
    "ds_training = ds[:int(len(ds) * TRAIN_TEST_SPLIT_PERCENTAGE)]\n",
    "ds_test = ds[int(len(ds) * TRAIN_TEST_SPLIT_PERCENTAGE):]\n",
    "\n",
    "\n",
    "#qui manipoliamo il dataset per renderlo digeribile da scikit_learn\n",
    "X_train = ds_training.copy()\n",
    "X_test = ds_test.copy()\n",
    "del X_train['NObeyesdad']\n",
    "del X_test['NObeyesdad']\n",
    "\n",
    "Y_train = ds_training['NObeyesdad']\n",
    "Y_test = ds_test['NObeyesdad']\n"
   ]
  },
  {
   "cell_type": "markdown",
   "metadata": {
    "id": "kM8dvGs2TD5m"
   },
   "source": [
    "Costruiamo ora le strutture dati che ci serviranno...\n"
   ]
  },
  {
   "cell_type": "markdown",
   "metadata": {
    "id": "0NdZtd-J2oFt"
   },
   "source": [
    "Implementazione della classe DecisionTree e della classe Node. La prima contiene un campo, utilizzabile per l'attributo scelto per lo split in quel passo, e una lista di figli. Ogni figlio è un ogetto di classe Node, con label per contenere il valore dell'attributo dell'insieme delle parti e il sottoalbero corrispondente."
   ]
  },
  {
   "cell_type": "code",
   "execution_count": null,
   "metadata": {
    "id": "2_gaay7P2EVR"
   },
   "outputs": [],
   "source": [
    "class DecisionTree:\n",
    "  #costruttore del nodo dell'albero\n",
    "  def __init__(self,attr):\n",
    "      #l'attributo splittato o il valore predetto nei nodi foglia\n",
    "      self.attr = attr\n",
    "\n",
    "      #lista di figli\n",
    "      self.nodes = list()\n",
    "\n",
    "  #funzione che aggiunge un figlio\n",
    "  def addChild(self,node):\n",
    "      self.nodes.append(node)\n",
    "\n",
    "  #funzione di stampa dell'albero\n",
    "  def printTree(self, depth=0):\n",
    "    #stampa dell'ultimo nodo (con il valore predetto)\n",
    "    if not self.nodes:\n",
    "        print(\"| \" * depth, end=\"\")\n",
    "        print(\"--> \", self.attr)\n",
    "    else:\n",
    "        #stampa del percorso all'interno dell'albero\n",
    "        for node in self.nodes:\n",
    "            print(\"| \" * depth, end=\"\")\n",
    "            #stampa del valore dell'attributo dello split corrente\n",
    "            print(node.label, end=\"\")\n",
    "            if node.subtree.nodes:\n",
    "                print()\n",
    "            #chiamata ricorsiva per stampare il prossimo livello dell'albero\n",
    "            node.subtree.printTree(depth + 1)\n",
    "\n",
    "  #funzione che calcola l'altezza dell'albero\n",
    "  def height(self):\n",
    "    #caso base\n",
    "    if not self.nodes: #cioè il minimo è altezza 0\n",
    "      return 0\n",
    "    else:\n",
    "      h=0\n",
    "      max=0\n",
    "      for node in self.nodes:\n",
    "        #chiamata ricorsiva per calcolare l'altezza del sottoalbero\n",
    "        h=node.subtree.height()\n",
    "        #si sceglie ovviamente l'altezza del sottoalbero più alto\n",
    "        if h > max:\n",
    "          max = h\n",
    "      return 1 + max\n",
    "\n",
    "class Node:\n",
    "  def __init__(self,label,subtree):\n",
    "      #il valore dell'attributo splittato\n",
    "      self.label=label\n",
    "      #sottoalbero corrispondente\n",
    "      self.subtree=subtree"
   ]
  },
  {
   "cell_type": "markdown",
   "metadata": {
    "id": "p4YiLqqe2Cg7"
   },
   "source": [
    "Definizione delle funzioni utilizzate nell'algoritmo learn_decision_tree.\n",
    "Vengono definite e implementate le funzioni:\n",
    "\n",
    "\n",
    "*   Entropia\n",
    "*   Remainder\n",
    "*   Guadagno\n",
    "*   Importance\n",
    "*   Plurality Value\n",
    "\n"
   ]
  },
  {
   "cell_type": "code",
   "execution_count": null,
   "metadata": {
    "id": "lEUXqJV02vfn"
   },
   "outputs": [],
   "source": [
    "\n",
    "#funzione di entropia di una variabile binaria come visto nelle slide\n",
    "def entropy(dataset):\n",
    "  if(len(dataset['NObeyesdad'].unique())==1): #se è da solo\n",
    "    return 0\n",
    "\n",
    "  sum = dataset['NObeyesdad'].sum()\n",
    "  p = sum / (dataset.shape[0])\n",
    "  return -p*np.log2(p)-(1-p)*np.log2(1-p)\n",
    "\n",
    "\n",
    "def remainder(dataset,A): #il remainder è l'entropia su tutto il restante\n",
    "  rem=0\n",
    "  #partiziono il dataset a seconda del valore della colonna corrente\n",
    "  part=dataset.groupby(A)\n",
    "\n",
    "  for value,group in part:  #per ogni valore\n",
    "    #applico la formula del calcolo del remainder\n",
    "\n",
    "    #group.shape[0] è pk + nk | dataset.shape[0] è p + n\n",
    "\n",
    "    rem += (group.shape[0]/dataset.shape[0])*entropy(group)\n",
    "  return rem\n",
    "\n",
    "#definizione della funzione gain\n",
    "def gain(dataset,A):\n",
    "  return entropy(dataset) - remainder(dataset,A)\n",
    "\n",
    "#definizione della funzione importance, la quale si limita ad identificare\n",
    "#l'attributo con il massimo guadagno all'interno di un dataset, tra\n",
    "#quelli contenuti in un insieme (insieme degli attributi ancora non splittati)\n",
    "def importance(dataset,attributes):\n",
    "  max_gain=0\n",
    "  chosen=''\n",
    "  for column_name in attributes:\n",
    "    #calcolo il gain di ogni attributo\n",
    "    g=gain(dataset, column_name)\n",
    "    #seleziono l'attributo a gain massimo\n",
    "    if g > max_gain:  #attenzione, sceglie solo se hanno gain positivo\n",
    "      max_gain = g\n",
    "      chosen=column_name\n",
    "  return chosen\n",
    "\n",
    "#definizione della funzione plurality_value, che identifica all'interno\n",
    "#di un dataset il valore più presente per l'attributo\n",
    "def plurality_value(dataset,attribute='NObeyesdad'):\n",
    "  #partiziono il dataset in base al valore dell'attributo\n",
    "  part=dataset.groupby(attribute)\n",
    "  max=0\n",
    "  for value,group in part:\n",
    "    #prendo il valore più presente\n",
    "    if group.shape[0]>max:\n",
    "      ret=value\n",
    "      max=group.shape[0]\n",
    "  return DecisionTree(ret)"
   ]
  },
  {
   "cell_type": "markdown",
   "metadata": {
    "id": "kLmv3nM52ueY"
   },
   "source": [
    "Definizione della funzione Learn-Decision-Tree.\n",
    "La funzione presenta tre parametri:\n",
    "\n",
    "*   Dataset dell'iterazione corrente\n",
    "*   Insieme degli attributi dell'iterazione corrente\n",
    "*   Dataset della precedente iterazione (None alla prima)\n",
    "*   Altezza massima per evitare overfitting\n",
    "\n",
    "Segue la definizione della funzioni di predizione. Una esegue semplicemente l'altra iterativamente, mentre quella che effettua effettivamente le predizioni segue il percorso dell'albero corrispondente ai propri valori per poi restituire la label (0,1) presente nella foglia in cui si è giunti"
   ]
  },
  {
   "cell_type": "code",
   "execution_count": null,
   "metadata": {
    "id": "jZ-prdi420sq"
   },
   "outputs": [],
   "source": [
    "def learn_decision_tree(examples,attributes,parent_examples,h_limit):\n",
    "  #caso base: non ho più samples da elaborare\n",
    "  if examples.empty:\n",
    "    return plurality_value(parent_examples)\n",
    "\n",
    "  #caso base: non ho più attributi, o ho raggiunto la massima altezza\n",
    "  if not attributes or (h_limit != None and h_limit < 0):\n",
    "    return plurality_value(examples)\n",
    "\n",
    "  #caso base: tutti i samples hanno lo stesso valore per il target\n",
    "  if (len(examples['NObeyesdad'].unique())==1):\n",
    "\n",
    "    #prendo il valore che hanno tutti i samples\n",
    "    v=examples['NObeyesdad'].iloc[0]\n",
    "\n",
    "    #creo nodo albero con quel valore\n",
    "    return DecisionTree(v)\n",
    "  else:\n",
    "\n",
    "    #prendo l'attributo più importantet\n",
    "    attr=importance(examples,attributes)\n",
    "    if attr=='':\n",
    "      #nessun attributo ha un guadagno positivo, non ha senso splittare oltre\n",
    "      return plurality_value(examples)\n",
    "\n",
    "    #partiziono il dataset in base al valore dell'attributo splittato, cioè in vari sotto-dataset per ogni valore dell'attributo\n",
    "\n",
    "    part=examples.groupby(attr)\n",
    "    #creo il sottoalbero corrispondente allo split\n",
    "    tree=DecisionTree(attr)\n",
    "\n",
    "\n",
    "    if h_limit != None: #se ho imposto un limite di altezza\n",
    "      h_limit -= 1\n",
    "\n",
    "    for value,group in part: #per ogni coppia (valore, gruppo) generata dallo split\n",
    "      #rimuovo l'attributo su cui ho splittato dagli attributi su cui\n",
    "      #può splittare il sottoalbero corrente\n",
    "      new_attr=attributes-{attr}\n",
    "\n",
    "      #calcolo il sottoalbero corrente (ricorsivamente) su ogni altro gruppo\n",
    "      subtree=learn_decision_tree(group,new_attr,examples,h_limit)\n",
    "\n",
    "      #popolo il nodo con il sottoalbero corrente\n",
    "      tree.addChild(Node(value,subtree))\n",
    "    return tree"
   ]
  },
  {
   "cell_type": "markdown",
   "metadata": {
    "id": "IxqiHtGg2r7V"
   },
   "source": [
    "Ora implementiamo le funzioni utili ad effettuare le predizioni\n",
    "\n",
    "\n",
    "* predict_tree: predice sullo specifico sample\n",
    "* predictAll: esegue su tutti i sample del dataset"
   ]
  },
  {
   "cell_type": "code",
   "execution_count": null,
   "metadata": {
    "id": "2_TbpNmn3Bnx"
   },
   "outputs": [],
   "source": [
    "#la funzione predict esplora ricorsivamente l'albero, a seconda del valore\n",
    "#in corrispondenza dell'attributo contenuto nell'albero prende il ramo\n",
    "#corrispondente, fino ad arrivare a una foglia, in tal caso il valore\n",
    "#dell'attributo dell'albero è proprio l'output desiderato\n",
    "def predict_tree(sample,tree):\n",
    "\n",
    "  #caso base: il nodo non contiene effettivamente un attributo di split\n",
    "  #ma il valore da ritornare\n",
    "  if tree.attr==0 or tree.attr==1:\n",
    "      return tree.attr\n",
    "  else:\n",
    "\n",
    "    #se c'è un valore solo viene preso quello\n",
    "    if len(tree.nodes)==1:\n",
    "      return predict_tree(sample, tree.nodes[0].subtree)\n",
    "\n",
    "    #prendo con \"loc\" il valore che ha quell'attributo nel sample\n",
    "    val = sample.loc[tree.attr]\n",
    "\n",
    "    nearest = 1000000\n",
    "    nearest_sub = None\n",
    "\n",
    "    #cerco nei nodi quel valore, e chiamo ricorsivamente l'albero.\n",
    "    for node in tree.nodes:\n",
    "\n",
    "\n",
    "      if node.label == val:\n",
    "        return predict_tree(sample, node.subtree)\n",
    "\n",
    "      if(np.abs(node.label - val) < nearest): #se non trovo il valore, seleziono il più vicino al valore\n",
    "        nearest = node.label\n",
    "        nearest_sub = node.subtree\n",
    "\n",
    "    return predict_tree(sample, nearest_sub)\n",
    "\n",
    "\n",
    "  #se non ha trovato nulla deve comunque ritornare qualcosa???? da approfondire\n",
    "  #return 0\n",
    "\n",
    "\n",
    "#esegue predict su ogni riga del dataframe (cioè su ogni sample)\n",
    "def predictAll(dataset,tree):\n",
    "  ret=[]\n",
    "  for index,row in dataset.iterrows(): #itero su ogni riga del dataset\n",
    "\n",
    "    pred = predict_tree(row,tree) #faccio singola predizione\n",
    "    #if pred == None: #BUG perché a volte ritorna None?, vedi sopra deve comunque ritornare qualcosa???\n",
    "    #  pred = 0\n",
    "\n",
    "    ret.append(pred) #appendo risultato\n",
    "  return np.array(ret) #lo ritorniamo come array numpy\n"
   ]
  },
  {
   "cell_type": "markdown",
   "metadata": {
    "id": "Ol8cGroZ3N4J"
   },
   "source": [
    "Facciamo training, predizioni e stampiamo metriche di classificazione come al solito\n"
   ]
  },
  {
   "cell_type": "code",
   "execution_count": null,
   "metadata": {
    "colab": {
     "base_uri": "https://localhost:8080/",
     "height": 1000
    },
    "id": "3gpkh9bE3PY5",
    "outputId": "0ed9bd83-a637-4fd2-8ad2-04e943b9b990"
   },
   "outputs": [],
   "source": [
    "\n",
    "print('Decision Tree Classifier')\n",
    "height = None\n",
    "\n",
    "tree = learn_decision_tree(ds_training, set(ds_training.columns) - {'NObeyesdad'}, None, height)\n",
    "Y_pred = predictAll(ds_test, tree)\n",
    "\n",
    "print(\"Our tree height: %d\" % (tree.height()))\n",
    "\n",
    "accuracy = metrics.accuracy_score(Y_test, Y_pred)\n",
    "print('our Accuracy: %.2f%%' % (accuracy*100))\n",
    "F1_score = metrics.f1_score(Y_test, Y_pred)\n",
    "print('our F1 Score: %.2f%%' % (F1_score*100))\n",
    "\n",
    "#curva ROC e AUC\n",
    "fpr, tpr, thresholds = metrics.roc_curve(Y_test, Y_pred)\n",
    "AUC = metrics.auc(fpr, tpr)\n",
    "print('our AUC: %.2f%%' % (AUC*100))\n",
    "display = metrics.RocCurveDisplay(fpr=fpr, tpr=tpr, roc_auc=AUC, estimator_name='Our estimator')\n",
    "display.plot()\n",
    "plt.show()\n",
    "\n",
    "our_metrics = [accuracy, F1_score, AUC]\n",
    "\n",
    "#matrice di confusione\n",
    "metrics.ConfusionMatrixDisplay.from_predictions(Y_test, Y_pred)\n",
    "plt.show()\n",
    "\n",
    "\n",
    "#Precision e Recall curve\n",
    "metrics.PrecisionRecallDisplay.from_predictions(Y_test, Y_pred)\n",
    "plt.show()\n"
   ]
  },
  {
   "cell_type": "markdown",
   "metadata": {
    "id": "K_uu2d6g3RbM"
   },
   "source": [
    "Comparativa con scikit_learn\n"
   ]
  },
  {
   "cell_type": "code",
   "execution_count": null,
   "metadata": {
    "colab": {
     "base_uri": "https://localhost:8080/",
     "height": 1000
    },
    "id": "s5-xn0Xb3TL-",
    "outputId": "05c68eec-c371-488f-d7e8-79f5b465bbcb"
   },
   "outputs": [],
   "source": [
    "\n",
    "#Confronto con Scikit-learn\n",
    "\n",
    "#ho notato che l'implementazione di scikit conta la profondità a partire da 1, quindi bisogna mettere height+1\n",
    "\n",
    "if height == None:\n",
    "  dtc_model = DecisionTreeClassifier(criterion='entropy', max_depth=None) #(max_depth=height+1)\n",
    "else:\n",
    "  dtc_model = DecisionTreeClassifier(criterion='entropy', max_depth=height+1)\n",
    "\n",
    "dtc_model.fit(X_train, Y_train)\n",
    "Y_pred= dtc_model.predict(X_test)\n",
    "\n",
    "accuracy = metrics.accuracy_score(Y_test, Y_pred)\n",
    "print('Scikit_learn Accuracy: %.2f%%' % (accuracy*100))\n",
    "F1_score = metrics.f1_score(Y_test, Y_pred)\n",
    "print('Scikit_learn F1 Score: %.2f%%' % (F1_score*100))\n",
    "\n",
    "\n",
    "fpr, tpr, thresholds = metrics.roc_curve(Y_test, Y_pred)\n",
    "AUC = metrics.auc(fpr, tpr)\n",
    "print('Scikit_Learn AUC: %.2f%%' % (AUC*100))\n",
    "display = metrics.RocCurveDisplay(fpr=fpr, tpr=tpr, roc_auc=AUC, estimator_name='Scikit_learn estimator')\n",
    "display.plot()\n",
    "plt.show()\n",
    "\n",
    "sklearn_metrics = [accuracy, F1_score, AUC]\n",
    "\n",
    "#matrice di confusione\n",
    "metrics.ConfusionMatrixDisplay.from_predictions(Y_test, Y_pred)\n",
    "plt.show()\n",
    "\n",
    "#Precision e Recall curve\n",
    "metrics.PrecisionRecallDisplay.from_predictions(Y_test, Y_pred)\n",
    "plt.show()\n",
    "\n"
   ]
  },
  {
   "cell_type": "code",
   "execution_count": null,
   "metadata": {
    "colab": {
     "base_uri": "https://localhost:8080/",
     "height": 452
    },
    "id": "QGsmYkFqSylM",
    "outputId": "0dd65ca5-8f05-4908-939e-a1bc50badcc6"
   },
   "outputs": [],
   "source": [
    "#stampiamo con Seaborn un bellissimo istogramma comparativo\n",
    "comparative_plot(our_metrics, sklearn_metrics, labels=['Accuracy', 'F1 Score', 'AUC'])"
   ]
  },
  {
   "cell_type": "markdown",
   "metadata": {
    "id": "uCT8uVHgYyRv"
   },
   "source": [
    "<h3>Facciamo ora le seguenti osservazioni finali unendo conoscenze teoriche con fatti sperimentali</h3>\n",
    "\n",
    "Il dataset subisce uno shuffle a ogni chiamta di questo Colab, quindi i risultati possono cambiare\n",
    "\n",
    "Non sono presenti iperparametri, oltre al fatto che abbiamo implementato un taglio rozzo dell'altezza per evitare l'overfitting, potrebbero essere usate tecniche più avanzate come il $χ^2$ pruning\n",
    "\n",
    "L'albero per alcuni valori delle etichette classifica direttamente, per altri usa più parametri come previsto, in caso del peso o altezza, se non trova quello previsto sceglie il più vicino\n",
    "\n",
    "I risultati ottenuti sono eccellenti, eguali a Sklearn e i valori di Accuracy, F1 Score, AUC e la matrice di confusione (di conseguenza) rispecchiano un ottimo classificatore\n",
    "\n",
    "La sua implementazione può essere articolata, bisogna comunque considerare che bisogna tenere un albero n-ario sbilanciato immagazzinato in memoria che può avere un costo di attraversamento fino a $O(n)$"
   ]
  },
  {
   "cell_type": "markdown",
   "metadata": {
    "id": "YzlalpmilJg1"
   },
   "source": [
    "# Classificazione con K Nearest Neighbor\n",
    "\n",
    "\n",
    "\n"
   ]
  },
  {
   "cell_type": "markdown",
   "metadata": {
    "id": "j8LcC5fkcp3W"
   },
   "source": [
    "(non oggetto di Lo Homework)\n",
    "Ci posso fare fare anche regressione, ritorno media o mediana o moda dei k campioni\n",
    "\n",
    "Esiste un'articolo che dimostra l'efficacia consistente di kNN, però è molto costoso tenere tutto il dataset in memoria\n"
   ]
  },
  {
   "cell_type": "markdown",
   "metadata": {
    "id": "_kRW-0HOS7gg"
   },
   "source": [
    "Implementiamo un classificatore multi-label, cioè ci classifica in esattemente ogni dato tra Insufficient Weight, Normal Weight, Overweight 1-2, Obesity 1-2-3..."
   ]
  },
  {
   "cell_type": "markdown",
   "metadata": {
    "id": "rvA6gZFDrFtv"
   },
   "source": [
    "Manipolazione del dataset\n",
    "\n",
    "Dividiamo in dataset in test e training, dopo averlo normalizzato nel seguente modo: $X[i,j] = \\frac{X[i,j] - \\mu[j]}{\\sigma[j]}$, dove $j$ è la colonna\n"
   ]
  },
  {
   "cell_type": "code",
   "execution_count": null,
   "metadata": {
    "id": "aCFX-DnurE7i"
   },
   "outputs": [],
   "source": [
    "norm_ds = dataset.copy()\n",
    "\n",
    "\n",
    "NObeyesdad = {\"Insufficient_Weight\": 0, \"Normal_Weight\": 1, \"Overweight_Level_I\": 2, \"Overweight_Level_II\": 3, \"Obesity_Type_I\": 4, \"Obesity_Type_II\": 5, \"Obesity_Type_III\": 6}\n",
    "\n",
    "norm_ds.Gender.replace(to_replace=gender, inplace=True)\n",
    "norm_ds.family_history_with_overweight.replace(to_replace=FHWO, inplace=True)\n",
    "norm_ds.FAVC.replace(to_replace=FAVC, inplace=True)\n",
    "norm_ds.CAEC.replace(to_replace=CAEC, inplace=True)\n",
    "norm_ds.SMOKE.replace(to_replace=SMOKE, inplace=True)\n",
    "norm_ds.SCC.replace(to_replace=SCC, inplace=True)\n",
    "norm_ds.CALC.replace(to_replace=CALC, inplace=True)\n",
    "norm_ds.MTRANS.replace(to_replace=MTRANS, inplace=True)\n",
    "#norm_ds.NObeyesdad.replace(to_replace=NObeyesdad, inplace=True)\n",
    "\n",
    "\n",
    "obesity_column = norm_ds['NObeyesdad']\n",
    "del norm_ds['NObeyesdad']\n",
    "\n",
    "\n",
    "norm_ds=(norm_ds-norm_ds.mean()) / norm_ds.std() #essendo i componenti nel dataset >= 0, la deviazione standard non viene mai zero!\n",
    "norm_ds = pd.concat([norm_ds, obesity_column], axis=1)\n",
    "\n",
    "#dividiamo in test e training set.\n",
    "norm_ds_training = norm_ds[:int(len(norm_ds) * TRAIN_TEST_SPLIT_PERCENTAGE)]\n",
    "norm_ds_test = norm_ds[int(len(norm_ds) * TRAIN_TEST_SPLIT_PERCENTAGE):]\n",
    "\n",
    "Y_test = norm_ds_test['NObeyesdad']\n",
    "del norm_ds_test['NObeyesdad']\n",
    "X_test = norm_ds_test\n",
    "\n",
    "Y_train = norm_ds_training['NObeyesdad']\n",
    "del norm_ds_training['NObeyesdad']\n",
    "X_train = norm_ds_training\n"
   ]
  },
  {
   "cell_type": "markdown",
   "metadata": {
    "id": "wMWOeyjh4pJB"
   },
   "source": [
    "Definiamo ora la funzione distanza tra due punti di tipo $L_p$ cioè $Dist_{p}(X_j, X_q) = (|| X_j - X_q ||^p)^{\\frac{1}{p}}$\n",
    "\n",
    "\n",
    "La distanza coseno si fa in modulo andando così tra 0-1, ma si potrebbe anche shiftare tutto di 1 così che si trovi tra 0-2, bisogna decidere, anche se fa molto ma molto pena"
   ]
  },
  {
   "cell_type": "code",
   "execution_count": null,
   "metadata": {
    "id": "sZ2UTxE14rTC"
   },
   "outputs": [],
   "source": [
    "#X_q è la colonna del dataset training,\n",
    "def distance(X_j, X_q, p=2):\n",
    "  if not isinstance(X_j, np.ndarray):\n",
    "    X_j = X_j.to_numpy()\n",
    "\n",
    "  if not isinstance(X_q, np.ndarray):\n",
    "    X_q = X_q.to_numpy()\n",
    "\n",
    "\n",
    "  if p == 'cos':\n",
    "    norm_X_j = np.linalg.norm(X_j)\n",
    "    norm_X_q = np.linalg.norm(X_q)\n",
    "\n",
    "    L = np.dot(X_j, X_q) / (norm_X_j * norm_X_q)\n",
    "\n",
    "    return np.absolute(L) #L+1\n",
    "\n",
    "  elif p == 1:\n",
    "    return np.sum(np.abs(X_j - X_q))\n",
    "  elif p == 2:\n",
    "    return np.linalg.norm(X_j - X_q)\n",
    "  else:\n",
    "    abs_diff = np.abs(X_j - X_q)\n",
    "    abs_pow = np.power(abs_diff, p)\n",
    "\n",
    "    L = np.power(np.sum(abs_pow), 1/p)\n",
    "\n",
    "    return L\n"
   ]
  },
  {
   "cell_type": "markdown",
   "metadata": {
    "id": "hfXYgIIWAxbz"
   },
   "source": [
    "Per ogni riga dobbiamo calcolare la distanza"
   ]
  },
  {
   "cell_type": "code",
   "execution_count": null,
   "metadata": {
    "id": "JYrRcht5Bh8e"
   },
   "outputs": [],
   "source": [
    "\n",
    "def predict_knn(X_j, X_train, Y_train, k=1, p=2):\n",
    "  distances = list()\n",
    "\n",
    "  for x,y in zip(X_train, Y_train):\n",
    "    bisect.insort(distances, (distance(X_j, x, p), y)) #lista di tuple (distanza, classificazione), facciamo inserimento ordinato in lista così risparmiamo costo computazionale\n",
    "\n",
    "  knn_list = list()\n",
    "\n",
    "  for i in range(k):\n",
    "    knn_list.append(distances[i][1]) #prendiamo le prime k classificazioni dalla lista\n",
    "\n",
    "  return max(set(knn_list), key=knn_list.count) #ritorniamo la più presente, se uguali viene preso a caso\n",
    "\n",
    "\n",
    "def predict_knn_all(X_test, X_train, Y_train, k=1, p=2):\n",
    "\n",
    "  Y_pred = list()\n",
    "\n",
    "  for X_j in X_test:  #scorriamo il test set e calcoliamo la sua predizione\n",
    "    prediction = predict_knn(X_j, X_train, Y_train, k, p)\n",
    "    Y_pred.append(prediction)\n",
    "\n",
    "  return Y_pred"
   ]
  },
  {
   "cell_type": "markdown",
   "metadata": {
    "id": "97x6H7CjEE3m"
   },
   "source": [
    "Facciamo i vari predict"
   ]
  },
  {
   "cell_type": "code",
   "execution_count": null,
   "metadata": {
    "id": "huKV0y-6EDs3"
   },
   "outputs": [],
   "source": [
    "k = 3\n",
    "p = 2\n",
    "\n",
    "#in numpy è molto più veloce\n",
    "X_train = X_train.to_numpy()\n",
    "X_test = X_test.to_numpy()\n",
    "Y_train = Y_train.to_numpy()\n",
    "\n",
    "Y_pred = predict_knn_all(X_test, X_train, Y_train, k=k, p=p)"
   ]
  },
  {
   "cell_type": "markdown",
   "metadata": {
    "id": "dW4ZQF0lTisw"
   },
   "source": [
    "Calcoliamo le metriche"
   ]
  },
  {
   "cell_type": "code",
   "execution_count": null,
   "metadata": {
    "colab": {
     "base_uri": "https://localhost:8080/",
     "height": 1000
    },
    "id": "iLRs7gD9TdIo",
    "outputId": "2ff43c13-f113-4f28-99c2-e90612e12cb0"
   },
   "outputs": [],
   "source": [
    "\n",
    "print(\"Our model: \")\n",
    "accuracy = metrics.accuracy_score(Y_test, Y_pred)\n",
    "print('Total Accuracy: %.2f%%' % (accuracy*100))\n",
    "\n",
    "our_metrics = [accuracy]\n",
    "\n",
    "precision, recall = calculate_precision_recall(Y_test, Y_pred)\n",
    "\n",
    "# Print precision and recall for each class\n",
    "for cls in precision.keys():\n",
    "    print(f\"{cls}: Precision = %.2f%%, Recall =  %.2f%%\" % (precision[cls] * 100, recall[cls] * 100))\n",
    "    our_metrics.append(precision[cls])\n",
    "    our_metrics.append(recall[cls])\n",
    "\n",
    "\n",
    "fig, ax = plt.subplots(figsize=(20,20))\n",
    "metrics.ConfusionMatrixDisplay.from_predictions(Y_test, Y_pred, ax=ax)\n",
    "plt.show()\n"
   ]
  },
  {
   "cell_type": "markdown",
   "metadata": {
    "id": "lbS_9LYvUqav"
   },
   "source": [
    "Facciamo stessa cosa con scikit_learn per comparare"
   ]
  },
  {
   "cell_type": "code",
   "execution_count": null,
   "metadata": {
    "colab": {
     "base_uri": "https://localhost:8080/"
    },
    "id": "lH20OHDBUtJF",
    "outputId": "83ff305f-1951-4b59-a6a0-2bbec5706b53"
   },
   "outputs": [],
   "source": [
    "\n",
    "knn_classifier = KNeighborsClassifier(n_neighbors=k, p=p)\n",
    "\n",
    "\n",
    "knn_classifier.fit(X_train, Y_train)\n",
    "Y_pred = knn_classifier.predict(X_test)\n",
    "\n",
    "print(\"Scikit_learn model: \")\n",
    "\n",
    "# Calculate the accuracy of the classifier\n",
    "accuracy = metrics.accuracy_score(Y_test, Y_pred)\n",
    "print('Total Accuracy: %.2f%%' % (accuracy*100))\n",
    "\n",
    "sklearn_metrics = [accuracy]\n",
    "\n",
    "precision, recall = calculate_precision_recall(Y_test, Y_pred)\n",
    "\n",
    "# Print precision and recall for each class\n",
    "for cls in precision.keys():\n",
    "    print(f\"{cls}: Precision = %.2f%%, Recall =  %.2f%%\" % (precision[cls] * 100, recall[cls] * 100))\n",
    "    sklearn_metrics.append(precision[cls])\n",
    "    sklearn_metrics.append(recall[cls])\n",
    "\n",
    "\n",
    "\n"
   ]
  },
  {
   "cell_type": "code",
   "execution_count": null,
   "metadata": {
    "colab": {
     "base_uri": "https://localhost:8080/",
     "height": 1000
    },
    "id": "-vzVQs0xI54H",
    "outputId": "237fcbe1-9bf2-457c-9b38-3fa7a24006b5"
   },
   "outputs": [],
   "source": [
    "#stampiamo con Seaborn un bellissimo istogramma comparativo\n",
    "\n",
    "#labels e posizione\n",
    "labels = ['Total Accuracy']\n",
    "for cls in precision.keys():  #accorcio le labels sennò non entrano\n",
    "  txt = str(cls)\n",
    "\n",
    "  if txt == 'Obesity_Type_I':\n",
    "    txt = 'Ob_I'\n",
    "  elif txt == 'Obesity_Type_II':\n",
    "    txt = 'Ob_II'\n",
    "  elif txt == 'Obesity_Type_III':\n",
    "    txt = 'Ob_III'\n",
    "  elif txt == 'Overweight_Level_I':\n",
    "    txt = 'Ow_I'\n",
    "  elif txt == 'Overweight_Level_II':\n",
    "    txt = 'Ow_II'\n",
    "  elif txt == 'Normal_Weight':\n",
    "    txt = 'NW'\n",
    "  elif txt == 'Insufficient_Weight':\n",
    "    txt = 'IW'\n",
    "  labels.append(txt + \" PR\")\n",
    "  labels.append(txt + \" RC\")\n",
    "\n",
    "\n",
    "\n",
    "label_locations = np.arange(len(labels))\n",
    "\n",
    "#spessore del rettangolo, e li creo con varie cose strane.\n",
    "width = 0.35\n",
    "fig, ax = plt.subplots(figsize=(20,20))\n",
    "our_rects = ax.bar(label_locations - width/2, our_metrics, width, label='Implementazione')\n",
    "sklearn_rects = ax.bar(label_locations + width/2, sklearn_metrics, width, label='Scikit_Learn')\n",
    "\n",
    "ax.set_ylabel('Valore')\n",
    "ax.set_title('Metriche di classificazione (PR = Precision; RC = Recall)')\n",
    "ax.set_xticks(label_locations)\n",
    "ax.set_xticklabels(labels)\n",
    "ax.legend()\n",
    "\n",
    "plt.show()\n",
    "\n",
    "fig, ax = plt.subplots(figsize=(20,20))\n",
    "metrics.ConfusionMatrixDisplay.from_predictions(Y_test, Y_pred, ax=ax)\n",
    "plt.show()"
   ]
  },
  {
   "cell_type": "markdown",
   "metadata": {
    "id": "tusBvmdsacT7"
   },
   "source": [
    "# Prova Iperparametri K-Nearest Neighbor"
   ]
  },
  {
   "cell_type": "markdown",
   "metadata": {
    "id": "tNDcMJPzS_wK"
   },
   "source": [
    "Proviamo un po' di K e P, dove K non lo aumentiamo di tanto perché è dimostrato che"
   ]
  },
  {
   "cell_type": "code",
   "execution_count": null,
   "metadata": {
    "colab": {
     "base_uri": "https://localhost:8080/"
    },
    "id": "HcDe36iOagF5",
    "outputId": "7a91c07d-e48f-4f3f-d98f-b48611f52aac"
   },
   "outputs": [],
   "source": [
    "\n",
    "k = 3\n",
    "p = 2\n",
    "\n",
    "Y_pred = predict_knn_all(X_test, X_train, Y_train, k=k, p=p)\n",
    "accuracy = metrics.accuracy_score(Y_test, Y_pred)\n",
    "print('Total Accuracy (k=%d, p=%.2f): %.2f%%' % (k,p,accuracy*100))\n",
    "\n",
    "\n",
    "k = 5\n",
    "p = 1\n",
    "\n",
    "Y_pred = predict_knn_all(X_test, X_train, Y_train, k=k, p=p)\n",
    "accuracy = metrics.accuracy_score(Y_test, Y_pred)\n",
    "print('Total Accuracy (k=%d, p=%.2f): %.2f%%' % (k,p,accuracy*100))\n",
    "\n",
    "k = 7\n",
    "p = 3.46\n",
    "\n",
    "Y_pred = predict_knn_all(X_test, X_train, Y_train, k=k, p=p)\n",
    "accuracy = metrics.accuracy_score(Y_test, Y_pred)\n",
    "print('Total Accuracy (k=%d, p=%.2f): %.2f%%' % (k,p,accuracy*100))\n",
    "\n",
    "k = 3\n",
    "p = 'cos'\n",
    "\n",
    "Y_pred = predict_knn_all(X_test, X_train, Y_train, k=k, p=p)\n",
    "accuracy = metrics.accuracy_score(Y_test, Y_pred)\n",
    "print('Total Accuracy (k=%d, p=cos): %.2f%%' % (k,accuracy*100))\n",
    "\n",
    "k = 1\n",
    "p = 2\n",
    "\n",
    "Y_pred = predict_knn_all(X_test, X_train, Y_train, k=k, p=p)\n",
    "accuracy = metrics.accuracy_score(Y_test, Y_pred)\n",
    "print('Total Accuracy (k=%d, p=%.2f): %.2f%%' % (k,p,accuracy*100))\n",
    "\n",
    "k = 1\n",
    "p = 1\n",
    "\n",
    "Y_pred = predict_knn_all(X_test, X_train, Y_train, k=k, p=p)\n",
    "accuracy = metrics.accuracy_score(Y_test, Y_pred)\n",
    "print('Total Accuracy (k=%d, p=%.2f): %.2f%%' % (k,p,accuracy*100))\n",
    "\n",
    "k = 5\n",
    "p = 4.67\n",
    "\n",
    "Y_pred = predict_knn_all(X_test, X_train, Y_train, k=k, p=p)\n",
    "accuracy = metrics.accuracy_score(Y_test, Y_pred)\n",
    "print('Total Accuracy (k=%d, p=%.2f): %.2f%%' % (k,p,accuracy*100))\n",
    "\n"
   ]
  },
  {
   "cell_type": "markdown",
   "metadata": {
    "id": "tk5hYoWMbrsX"
   },
   "source": [
    "<h3>Facciamo ora le seguenti osservazioni finali unendo conoscenze teoriche con fatti sperimentali</h3>\n",
    "\n",
    "Il dataset subisce uno shuffle a ogni chiamta di questo Colab, quindi i risultati possono cambiare\n",
    "\n",
    "Gli iperparametri presenti sono il valore del k e il tipo di norma da utilizzare, si vede che all'aumentare di k dopo una certa soglia la valutazione peggiora\n",
    "\n",
    "La classificazione comunque è ottima, anche comparata con sklearn\n",
    "\n",
    "I risultati ottenuti sono eccellenti, eguali a Sklearn e i valori di Accuracy, F1 Score, AUC e la matrice di confusione (di conseguenza) rispecchiano un ottimo classificatore\n",
    "\n",
    "Il fatto di tenere immagazzinati in memoria tutto il dataset per cercare i vicini, sebbene alcune tecniche tipo l'inserimento ordinato ci fanno risparmiare computazione, lo rende estremamente inefficace da usare in sistemi consumer locali o embedded\n",
    "\n",
    "In realtà si nota che già colab con questa implementazione ci mette un po' a valutare, pure di più dell'albero di decisione\n",
    "\n",
    "Si potrebbe valutare l'utilizzo del Locally Sensitive Hashing (LSH) per migliorare questo fattore."
   ]
  },
  {
   "cell_type": "markdown",
   "metadata": {
    "id": "bfkYkK7r9YKL"
   },
   "source": []
  },
  {
   "cell_type": "markdown",
   "metadata": {
    "id": "oEG0dlfu9aND"
   },
   "source": [
    "# Regressione con Rete Neurale\n"
   ]
  },
  {
   "cell_type": "markdown",
   "metadata": {
    "id": "PaGTU5QW9fFJ"
   },
   "source": [
    "Ci prendiamo il dataset per la regressione sul Weight"
   ]
  },
  {
   "cell_type": "code",
   "execution_count": null,
   "metadata": {
    "id": "ahUmX25F9jUX"
   },
   "outputs": [],
   "source": [
    "X_train, Y_train = process_dataset(dataset_training, \"Weight\")\n",
    "X_test, Y_test = process_dataset(dataset_test, \"Weight\")"
   ]
  },
  {
   "cell_type": "markdown",
   "metadata": {
    "id": "bzWOSWS6xThx"
   },
   "source": [
    "Convertiamo tutto a Numpy"
   ]
  },
  {
   "cell_type": "code",
   "execution_count": null,
   "metadata": {
    "id": "ddZcOx0g7C7W"
   },
   "outputs": [],
   "source": [
    "X_train = X_train.to_numpy()\n",
    "Y_train = Y_train.to_numpy()\n",
    "X_test = X_test.to_numpy()\n",
    "Y_test = Y_test.to_numpy()"
   ]
  },
  {
   "cell_type": "markdown",
   "metadata": {
    "id": "UzZ9myjFAvll"
   },
   "source": [
    "Definiamo ora le funzioni che ci serviranno, tra cui la sigmoide (di nuovo) e la sua derivata\n",
    "\n",
    "Anche se in realtà usiamo solo la ReLU"
   ]
  },
  {
   "cell_type": "code",
   "execution_count": null,
   "metadata": {
    "id": "iTWWh2ksA23t"
   },
   "outputs": [],
   "source": [
    "def sigmoid(x):\n",
    "  if not isinstance(x, np.ndarray):\n",
    "    x = x.to_numpy()\n",
    "\n",
    "  x=np.clip(x,-100,100)\n",
    "  y = 1/(1+np.exp(-x))\n",
    "  return y\n",
    "\n",
    "def threshold(z, value):\n",
    "  ris = np.copy(z)\n",
    "\n",
    "  ris[ris >= value] = 1\n",
    "  ris[ris < value] = 0\n",
    "  return ris\n",
    "\n",
    "def sigmoid_derivative(sig):\n",
    "    return sig * (1 - sig)\n",
    "\n",
    "def relu(x):\n",
    "    if not isinstance(x, np.ndarray):\n",
    "      x = x.to_numpy()\n",
    "\n",
    "    y = np.maximum(0, x, dtype='float64')\n",
    "    return y\n",
    "\n",
    "def relu_derivative(x):\n",
    "    return (x > 0).astype(float)\n",
    "\n",
    "def relu_backward(dA, Z):\n",
    "      dZ = np.array(dA, copy=True)\n",
    "      dZ[Z <= 0] = 0\n",
    "      return dZ\n"
   ]
  },
  {
   "cell_type": "markdown",
   "metadata": {
    "id": "WaWaEgYYBrv0"
   },
   "source": [
    "Creiamo ora la classe Neural Network\n",
    "\n",
    "In cui inizializziamo i pesi con varie tecniche (He, Xavier...)\n",
    "\n",
    "Effettuiamo Forwardpropagation, Backpropagation e Training con Mini-Batch SGD\n",
    "\n",
    "Inoltre è presente una funzione di restart se ci blocchiamo nel training\n",
    "\n",
    "E le regolarizzazioni L1 e L2"
   ]
  },
  {
   "cell_type": "code",
   "execution_count": null,
   "metadata": {
    "id": "Y2wfjmvgPRrv"
   },
   "outputs": [],
   "source": [
    "class Regression_NeuralNetwork:\n",
    "    def __init__(self, layers):\n",
    "        self.layers = layers    #numero di nodi per layer\n",
    "        self.weights = list()   #archi pesati da un layer ad un altro\n",
    "        self.biases = list()    #bias per layer\n",
    "        self.A_list = list()    #sigmoide(Z)/relu(Z)\n",
    "        self.Z_list = list()    #pesi_layer @ flussi_layer + bias_layer, dovra poi passare per sigmoide/relu\n",
    "\n",
    "        self.init_method = \"he\"\n",
    "\n",
    "        self.init_weights(self.init_method)\n",
    "\n",
    "\n",
    "    def init_weights(self, init):\n",
    "\n",
    "      self.weights = list()\n",
    "      self.biases = list()\n",
    "\n",
    "      for i in range(len(self.layers)-1):\n",
    "        input_layer = self.layers[i]    # Number of inputs to the layer\n",
    "        output_layer = self.layers[i+1] # Number of outputs from the layer\n",
    "\n",
    "        std_dev = 0\n",
    "\n",
    "        if init == \"he\":\n",
    "          std_dev = np.sqrt(2.0 / float(input_layer))  # Standard deviation for He initialization\n",
    "        elif init == \"xavier\":\n",
    "          std_dev = np.sqrt(2.0 / float(input_layer + output_layer))  # Standard deviation for Xavier initialization\n",
    "        elif init == \"lecun\":\n",
    "          std_dev = np.sqrt(1.0 / float(input_layer))  # Standard deviation for Lecun initialization\n",
    "\n",
    "        weight = np.random.randn(output_layer, input_layer) * std_dev  # Random initialization for weights\n",
    "        bias = np.zeros((output_layer, 1))  # Zero initialization for biases\n",
    "\n",
    "        self.weights.append(weight)\n",
    "        self.biases.append(bias)\n",
    "\n",
    "\n",
    "    def forwardprop(self, X):\n",
    "      A = np.copy(X)    #primo layer sono esattamente le features\n",
    "\n",
    "      A = np.asmatrix(A, dtype='float64').T\n",
    "\n",
    "      Z_list = list()   #inizializzo la lista Z\n",
    "      A_list = list()   #inizializzo la lista A\n",
    "\n",
    "      A_list.append(A)\n",
    "\n",
    "      for i in range(len(self.layers)-1):  #-1 perché l'ultimo layer non va calcolato\n",
    "        weight = self.weights[i]\n",
    "        bias = self.biases[i]\n",
    "        Z = weight @ A + bias\n",
    "\n",
    "        if i == len(self.layers) -2:  #se siamo nell'ultimo layer\n",
    "          A = relu(Z)\n",
    "        else:\n",
    "          A = relu(Z)\n",
    "\n",
    "        A_list.append(A)\n",
    "        Z_list.append(Z)\n",
    "\n",
    "      self.Z_list = Z_list\n",
    "      self.A_list = A_list\n",
    "\n",
    "    def backprop(self, Y_pred, Y):\n",
    "\n",
    "      dW = list()\n",
    "      dB = list()\n",
    "\n",
    "      dA_prev = (Y_pred - Y)\n",
    "\n",
    "      for i in reversed(range(len(self.layers)-1)):\n",
    "\n",
    "          dA_curr = dA_prev\n",
    "\n",
    "          A_prev = self.A_list[i]\n",
    "          Z_curr = self.Z_list[i]\n",
    "          W_curr = self.weights[i]\n",
    "\n",
    "          dZ_curr = relu_backward(dA_curr, Z_curr)\n",
    "\n",
    "          m = A_prev.shape[1] #che in realtà è sempre 1...\n",
    "\n",
    "          dW_curr = (dZ_curr @ A_prev.T) / m\n",
    "          dB_curr = np.sum(dZ_curr) / m\n",
    "          dA_prev = W_curr.T @ dZ_curr\n",
    "\n",
    "          dW.insert(0,dW_curr)\n",
    "          dB.insert(0,dB_curr)\n",
    "\n",
    "      return dW, dB\n",
    "\n",
    "    def train(self, X, Y, lr, epochs, reg_lambda=10e-5, reg=None):\n",
    "\n",
    "      idx = 0\n",
    "      restart_val = list()\n",
    "\n",
    "      while idx < epochs: #qui scorriamo tutto il dataset\n",
    "\n",
    "            loss = 0 #calcoliamo loss medio sull'epoch\n",
    "\n",
    "            dW_list = list()\n",
    "            dB_list = list()\n",
    "\n",
    "\n",
    "            for x, y in zip(X, Y):\n",
    "\n",
    "              self.forwardprop(x)   #computiamo valori rete su x\n",
    "              y_pred = self.A_list[-1] #prendiamo le predizione\n",
    "\n",
    "              loss = loss + np.power((y_pred - y), 2) / 2\n",
    "\n",
    "              dW, dB = self.backprop(y_pred, y) #calcoliamo i gradienti con la backprop\n",
    "\n",
    "              dW_list.append(dW)\n",
    "              dB_list.append(dB)\n",
    "              for i in range(len(self.layers)-1): #facciamo gradient descent\n",
    "\n",
    "                dW_reg = 0\n",
    "                dB_reg = 0\n",
    "\n",
    "                if reg == 'l2':\n",
    "                  dW_reg = 2 * reg_lambda * self.weights[i]\n",
    "                  dB_reg = 2 * reg_lambda * self.biases[i]\n",
    "                elif reg == 'l1':\n",
    "                  dW_reg = reg_lambda * np.sign(self.weights[i])\n",
    "                  dB_reg = reg_lambda * np.sign(self.biases[i])\n",
    "\n",
    "                self.weights[i] = self.weights[i] - lr * (dW[i] + dW_reg)\n",
    "                self.biases[i] = self.biases[i] -  lr * (dB[i] + dB_reg)\n",
    "\n",
    "            loss = loss / X.shape[0]\n",
    "\n",
    "            #restart se ci blocchiamo\n",
    "            if idx <= 5:\n",
    "              restart_val.append(float(loss.item()))\n",
    "            elif idx == 6:\n",
    "              mean = np.mean(restart_val)\n",
    "              restart_val[:] = [x / mean for x in restart_val]\n",
    "              std = np.std(restart_val)\n",
    "              if std < 0.02:  #se la deviazione standard delle prime 5 epoch è minore di 0.01 (quindi siamo rimasti fermi praticamente) allora ricominciamo\n",
    "                print(\"Siamo bloccati! restart...\")\n",
    "                restart_val = list()\n",
    "                self.init_weights(self.init_method)\n",
    "                idx = 0\n",
    "\n",
    "\n",
    "            print(f'Epoch {idx+1}, Loss: {loss.item()}')\n",
    "            idx += 1  #uso contatore manuale perché se faccio \"for i in range\" non posso modificare i\n",
    "\n",
    "\n",
    "    def predict(self, x):\n",
    "      self.forwardprop(x)\n",
    "      return float(self.A_list[-1].item())\n",
    "\n",
    "    def predict_all(self, X):\n",
    "      Y_pred = list()\n",
    "\n",
    "      for x in X:\n",
    "        Y_pred.append(self.predict(x))\n",
    "\n",
    "      return np.array(Y_pred)\n"
   ]
  },
  {
   "cell_type": "markdown",
   "metadata": {
    "id": "k-Bxl0A78Zz3"
   },
   "source": [
    "Inizializziamo la rete neurale e facciamo il training"
   ]
  },
  {
   "cell_type": "code",
   "execution_count": null,
   "metadata": {
    "colab": {
     "base_uri": "https://localhost:8080/"
    },
    "id": "-3MpislO8aRG",
    "outputId": "95412630-09dd-4b7c-a621-bead99996a29"
   },
   "outputs": [],
   "source": [
    "layers = [X_train.shape[1], 64, 64, 32, 1]\n",
    "nn = Regression_NeuralNetwork(layers)\n",
    "\n",
    "nn.train(X_train, Y_train, lr=10e-6, epochs=50, reg_lambda=10e-5, reg='l1')"
   ]
  },
  {
   "cell_type": "markdown",
   "metadata": {
    "id": "vEofDE4MxNAE"
   },
   "source": [
    "\n",
    "\n",
    "\n",
    "Stampiamo la predizione e la ground truth a fine allenamento"
   ]
  },
  {
   "cell_type": "code",
   "execution_count": null,
   "metadata": {
    "colab": {
     "base_uri": "https://localhost:8080/"
    },
    "id": "dogmZZrHXVp8",
    "outputId": "f1c15846-f47b-4135-b9a8-cc4bb9c24d62"
   },
   "outputs": [],
   "source": [
    "Y_pred = nn.predict_all(X_test)\n",
    "#print prediction and truth\n",
    "for i in range(len(Y_pred)):\n",
    "  print(f'Prediction: {Y_pred[i]}, Truth: {Y_test[i]}')\n"
   ]
  },
  {
   "cell_type": "markdown",
   "metadata": {
    "id": "LGVVf3gPbgcz"
   },
   "source": [
    "Stampiamo MSE, MAE e Root MSE sul Test set"
   ]
  },
  {
   "cell_type": "code",
   "execution_count": null,
   "metadata": {
    "colab": {
     "base_uri": "https://localhost:8080/"
    },
    "id": "pypxBFZMbh3M",
    "outputId": "9a44e457-8ce9-4de7-e014-aeeedd03abcc"
   },
   "outputs": [],
   "source": [
    "mse = metrics.mean_squared_error(Y_test, Y_pred)\n",
    "mae = metrics.mean_absolute_error(Y_test, Y_pred)\n",
    "\n",
    "print(\"our MSE: \" + str(mse))\n",
    "print(\"our Root MSE: \" + str(np.sqrt(mse)))\n",
    "print(\"our MAE: \" + str(mae))\n",
    "print()\n",
    "\n",
    "model = MLPRegressor(hidden_layer_sizes=layers[1:len(layers)-1], max_iter=200, solver='sgd', learning_rate_init=10e-6, activation='relu', random_state=42)\n",
    "model.fit(X_train, Y_train)\n",
    "\n",
    "Y_pred = model.predict(X_test)\n",
    "mse = metrics.mean_squared_error(Y_test, Y_pred)\n",
    "mae = metrics.mean_absolute_error(Y_test, Y_pred)\n",
    "print(\"Sklearn MSE: \" + str(mse))\n",
    "print(\"Sklearn Root MSE: \" + str(np.sqrt(mse)))\n",
    "print(\"Sklearn MAE: \" + str(mae))\n"
   ]
  },
  {
   "cell_type": "markdown",
   "metadata": {
    "id": "qfSBX1PrLNvk"
   },
   "source": [
    "#Prova Iperparametri Regressione con Rete Neurale"
   ]
  },
  {
   "cell_type": "markdown",
   "metadata": {
    "id": "Q7XiPldMLXls"
   },
   "source": [
    "- Hidden Layers: 2\n",
    "- Neuroni per Hidden Layer: [64, 32]\n",
    "- Epochs: 50\n",
    "- Regolarizzazione L2"
   ]
  },
  {
   "cell_type": "code",
   "execution_count": null,
   "metadata": {
    "colab": {
     "base_uri": "https://localhost:8080/",
     "height": 1000
    },
    "id": "BF0-IKRqLRre",
    "outputId": "920a021a-58ba-4809-8be6-293fd34f6408"
   },
   "outputs": [],
   "source": [
    "layers = [X_train.shape[1], 64, 32, 1]\n",
    "nn = Regression_NeuralNetwork(layers)\n",
    "nn.train(X_train, Y_train, lr=10e-6, epochs=50, reg_lambda=10e-5, reg='l2')\n",
    "mse = metrics.mean_squared_error(Y_test, Y_pred)\n",
    "mae = metrics.mean_absolute_error(Y_test, Y_pred)\n",
    "\n",
    "model = MLPRegressor(hidden_layer_sizes=layers[1:len(layers)-1], max_iter=200, solver='sgd', learning_rate_init=10e-6, activation='relu', random_state=42)\n",
    "model.fit(X_train, Y_train)\n",
    "\n",
    "print(\"----------------------------\")\n",
    "our_metrics = [mse, np.sqrt(mse), mae]\n",
    "Y_pred = model.predict(X_test)\n",
    "mse = metrics.mean_squared_error(Y_test, Y_pred)\n",
    "mae = metrics.mean_absolute_error(Y_test, Y_pred)\n",
    "\n",
    "sklearn_metrics = [mse, np.sqrt(mse), mae]\n",
    "\n",
    "comparative_plot(our_metrics, sklearn_metrics, labels=['MSE', 'RMSE', 'MAE'], verbose=True)"
   ]
  },
  {
   "cell_type": "markdown",
   "metadata": {
    "id": "Abfkwd2SL52l"
   },
   "source": [
    "- Hidden Layers: 2\n",
    "- Neuroni per Hidden Layer: [64, 64]\n",
    "- Epochs: 50"
   ]
  },
  {
   "cell_type": "code",
   "execution_count": null,
   "metadata": {
    "colab": {
     "base_uri": "https://localhost:8080/",
     "height": 1000
    },
    "id": "g89ccytdL52l",
    "outputId": "477a1408-2613-476f-bfb3-43aff2d4e1d4"
   },
   "outputs": [],
   "source": [
    "layers = [X_train.shape[1], 64, 64, 1]\n",
    "nn = Regression_NeuralNetwork(layers)\n",
    "nn.train(X_train, Y_train, lr=10e-6, epochs=50, reg_lambda=10e-5, reg=None)\n",
    "\n",
    "mse = metrics.mean_squared_error(Y_test, Y_pred)\n",
    "mae = metrics.mean_absolute_error(Y_test, Y_pred)\n",
    "model = MLPRegressor(hidden_layer_sizes=layers[1:len(layers)-1], max_iter=200, solver='sgd', learning_rate_init=10e-6, activation='relu', random_state=42)\n",
    "model.fit(X_train, Y_train)\n",
    "\n",
    "print(\"----------------------------\")\n",
    "our_metrics = [mse, np.sqrt(mse), mae]\n",
    "Y_pred = model.predict(X_test)\n",
    "mse = metrics.mean_squared_error(Y_test, Y_pred)\n",
    "mae = metrics.mean_absolute_error(Y_test, Y_pred)\n",
    "\n",
    "sklearn_metrics = [mse, np.sqrt(mse), mae]\n",
    "\n",
    "comparative_plot(our_metrics, sklearn_metrics, labels=['MSE', 'RMSE', 'MAE'], verbose=True)"
   ]
  },
  {
   "cell_type": "markdown",
   "metadata": {
    "id": "Xq1Q0hOOL6LE"
   },
   "source": [
    "- Hidden Layers: 3\n",
    "- Neuroni per Hidden Layer: [64, 32, 16]\n",
    "- Epochs: 100\n",
    "- Regolarizzazione L1"
   ]
  },
  {
   "cell_type": "code",
   "execution_count": null,
   "metadata": {
    "colab": {
     "base_uri": "https://localhost:8080/",
     "height": 1000
    },
    "id": "5BPMwcbYL6LF",
    "outputId": "75e56ebc-7386-4a25-c2a2-f3c2e185e5db"
   },
   "outputs": [],
   "source": [
    "layers = [X_train.shape[1], 64, 32, 16, 1]\n",
    "nn = Regression_NeuralNetwork(layers)\n",
    "nn.train(X_train, Y_train, lr=10e-6, epochs=100, reg_lambda=10e-5, reg='l1')\n",
    "\n",
    "mse = metrics.mean_squared_error(Y_test, Y_pred)\n",
    "mae = metrics.mean_absolute_error(Y_test, Y_pred)\n",
    "model = MLPRegressor(hidden_layer_sizes=layers[1:len(layers)-1], max_iter=300, solver='sgd', learning_rate_init=10e-6, activation='relu', random_state=42)\n",
    "model.fit(X_train, Y_train)\n",
    "\n",
    "print(\"----------------------------\")\n",
    "our_metrics = [mse, np.sqrt(mse), mae]\n",
    "Y_pred = model.predict(X_test)\n",
    "mse = metrics.mean_squared_error(Y_test, Y_pred)\n",
    "mae = metrics.mean_absolute_error(Y_test, Y_pred)\n",
    "\n",
    "sklearn_metrics = [mse, np.sqrt(mse), mae]\n",
    "\n",
    "comparative_plot(our_metrics, sklearn_metrics, labels=['MSE', 'RMSE', 'MAE'], verbose=True)"
   ]
  },
  {
   "cell_type": "markdown",
   "metadata": {
    "id": "-3fPqRFRL7HN"
   },
   "source": [
    "- Hidden Layers: 1\n",
    "- Neuroni per Hidden Layer: 32\n",
    "- Epochs: 30\n",
    "- Regolarizzazione L2"
   ]
  },
  {
   "cell_type": "code",
   "execution_count": null,
   "metadata": {
    "colab": {
     "base_uri": "https://localhost:8080/",
     "height": 1000
    },
    "id": "FLsSFc3QL7HO",
    "outputId": "6b47c4c7-9897-4656-cbbb-1376c207f167"
   },
   "outputs": [],
   "source": [
    "layers = [X_train.shape[1], 32, 1]\n",
    "\n",
    "nn = Regression_NeuralNetwork(layers)\n",
    "nn.train(X_train, Y_train, lr=10e-6, epochs=30, reg_lambda=10e-5, reg='l2')\n",
    "mse = metrics.mean_squared_error(Y_test, Y_pred)\n",
    "mae = metrics.mean_absolute_error(Y_test, Y_pred)\n",
    "\n",
    "\n",
    "mse = metrics.mean_squared_error(Y_test, Y_pred)\n",
    "mae = metrics.mean_absolute_error(Y_test, Y_pred)\n",
    "model = MLPRegressor(hidden_layer_sizes=layers[1:len(layers)-1], max_iter=70, solver='sgd', learning_rate_init=10e-6, activation='relu', random_state=42)\n",
    "model.fit(X_train, Y_train)\n",
    "\n",
    "print(\"----------------------------\")\n",
    "our_metrics = [mse, np.sqrt(mse), mae]\n",
    "Y_pred = model.predict(X_test)\n",
    "mse = metrics.mean_squared_error(Y_test, Y_pred)\n",
    "mae = metrics.mean_absolute_error(Y_test, Y_pred)\n",
    "\n",
    "sklearn_metrics = [mse, np.sqrt(mse), mae]\n",
    "\n",
    "comparative_plot(our_metrics, sklearn_metrics, labels=['MSE', 'RMSE', 'MAE'], verbose=True)"
   ]
  },
  {
   "cell_type": "markdown",
   "metadata": {
    "id": "MW7Rd25ZFccs"
   },
   "source": [
    "#Classificazione con Rete Neurale"
   ]
  },
  {
   "cell_type": "markdown",
   "metadata": {
    "id": "zwXAvf9zFnv7"
   },
   "source": [
    "Massaggiamo il dataset"
   ]
  },
  {
   "cell_type": "code",
   "execution_count": null,
   "metadata": {
    "id": "ssLppHN5FnGd"
   },
   "outputs": [],
   "source": [
    "ds = dataset.copy()\n",
    "\n",
    "ds.Gender.replace(to_replace=gender, inplace=True)\n",
    "ds.family_history_with_overweight.replace(to_replace=FHWO, inplace=True)\n",
    "ds.FAVC.replace(to_replace=FAVC, inplace=True)\n",
    "ds.CAEC.replace(to_replace=CAEC, inplace=True)\n",
    "ds.SMOKE.replace(to_replace=SMOKE, inplace=True)\n",
    "ds.SCC.replace(to_replace=SCC, inplace=True)\n",
    "ds.CALC.replace(to_replace=CALC, inplace=True)\n",
    "ds.MTRANS.replace(to_replace=MTRANS, inplace=True)\n",
    "\n",
    "binary_conversion_obesity = {\"Insufficient_Weight\": 0, \"Normal_Weight\": 0, \"Overweight_Level_I\": 0, \"Overweight_Level_II\": 0, \"Obesity_Type_I\": 1, \"Obesity_Type_II\": 1, \"Obesity_Type_III\": 1}\n",
    "ds.NObeyesdad.replace(to_replace=binary_conversion_obesity, inplace=True)\n",
    "\n",
    "ds = ds.sample(frac=1).reset_index(drop=True) #fa lo shuffle pazzo sgravato\n",
    "\n",
    "ds_training = ds[:int(len(ds) * TRAIN_TEST_SPLIT_PERCENTAGE)]\n",
    "ds_test = ds[int(len(ds) * TRAIN_TEST_SPLIT_PERCENTAGE):]\n",
    "\n",
    "\n",
    "#qui manipoliamo il dataset per renderlo digeribile da scikit_learn\n",
    "X_train = ds_training.copy()\n",
    "X_test = ds_test.copy()\n",
    "del X_train['NObeyesdad']\n",
    "del X_test['NObeyesdad']\n",
    "\n",
    "Y_train = ds_training['NObeyesdad']\n",
    "Y_test = ds_test['NObeyesdad']\n",
    "\n",
    "X_train = X_train.to_numpy()\n",
    "Y_train = Y_train.to_numpy()\n",
    "X_test = X_test.to_numpy()\n",
    "Y_test = Y_test.to_numpy()\n"
   ]
  },
  {
   "cell_type": "markdown",
   "metadata": {
    "id": "3ciFOugGF5Lh"
   },
   "source": [
    "Varie funzioni di nonlinearità così come la cross-entropy loss"
   ]
  },
  {
   "cell_type": "code",
   "execution_count": null,
   "metadata": {
    "id": "k0s7ADmeF7WP"
   },
   "outputs": [],
   "source": [
    "def sigmoid(x):\n",
    "  if not isinstance(x, np.ndarray):\n",
    "    x = x.to_numpy()\n",
    "\n",
    "  x=np.clip(x,-100,100)\n",
    "  y = 1/(1+np.exp(-x))\n",
    "  return y\n",
    "\n",
    "def relu(x):\n",
    "    if not isinstance(x, np.ndarray):\n",
    "      x = x.to_numpy()\n",
    "\n",
    "    y = np.maximum(0, x, dtype='float64')\n",
    "    return y\n",
    "\n",
    "def relu_backward(dA, Z):\n",
    "      dZ = np.array(dA, copy=True)\n",
    "      dZ[Z <= 0] = 0\n",
    "      return dZ\n",
    "\n",
    "def threshold(z, value):\n",
    "  ris = np.copy(z)\n",
    "\n",
    "  ris[ris >= value] = 1\n",
    "  ris[ris < value] = 0\n",
    "  return ris\n",
    "\n",
    "def cross_entropy(y_pred, y):\n",
    "    eps=10e-9\n",
    "    entropy = (-y * np.log2(y_pred +eps)) - ((1-y) * np.log2(1-y_pred + eps))\n",
    "    #grad = ((predictions - y) @ X)\n",
    "    return entropy\n"
   ]
  },
  {
   "cell_type": "markdown",
   "metadata": {
    "id": "Iwl4DYpRSadA"
   },
   "source": [
    "Analogo della regressione come sopra"
   ]
  },
  {
   "cell_type": "code",
   "execution_count": null,
   "metadata": {
    "id": "VFbNN6eeGO-7"
   },
   "outputs": [],
   "source": [
    "\n",
    "class Classification_NeuralNetwork:\n",
    "    def __init__(self, layers):\n",
    "        self.layers = layers    #numero di nodi per layer\n",
    "        self.weights = list()   #archi pesati da un layer ad un altro\n",
    "        self.biases = list()    #bias per layer\n",
    "        self.A_list = list()    #sigmoide(Z)/relu(Z)\n",
    "        self.Z_list = list()    #pesi_layer @ flussi_layer + bias_layer, dovra poi passare per sigmoide/relu\n",
    "\n",
    "        self.init_method = \"he\"\n",
    "\n",
    "        self.init_weights(self.init_method)\n",
    "\n",
    "\n",
    "    def init_weights(self, init):\n",
    "\n",
    "      self.weights = list()\n",
    "      self.biases = list()\n",
    "\n",
    "      for i in range(len(self.layers)-1):\n",
    "        input_layer = self.layers[i]    # Number of inputs to the layer\n",
    "        output_layer = self.layers[i+1] # Number of outputs from the layer\n",
    "\n",
    "        std_dev = 0\n",
    "\n",
    "        if init == \"he\":\n",
    "          std_dev = np.sqrt(2.0 / float(input_layer))  # Standard deviation for He initialization\n",
    "        elif init == \"xavier\":\n",
    "          std_dev = np.sqrt(2.0 / float(input_layer + output_layer))  # Standard deviation for Xavier initialization\n",
    "        elif init == \"lecun\":\n",
    "          std_dev = np.sqrt(1.0 / float(input_layer))  # Standard deviation for Lecun initialization\n",
    "\n",
    "        weight = np.random.randn(output_layer, input_layer) * std_dev  # Random initialization for weights\n",
    "        bias = np.zeros((output_layer, 1))  # Zero initialization for biases\n",
    "\n",
    "        self.weights.append(weight)\n",
    "        self.biases.append(bias)\n",
    "\n",
    "\n",
    "    def forwardprop(self, X):\n",
    "      A = np.copy(X)    #primo layer sono esattamente le features\n",
    "\n",
    "      A = np.asmatrix(A, dtype='float64').T\n",
    "\n",
    "      Z_list = list()   #inizializzo la lista Z\n",
    "      A_list = list()   #inizializzo la lista A\n",
    "\n",
    "      A_list.append(A)\n",
    "\n",
    "      for i in range(len(self.layers)-1):  #-1 perché l'ultimo layer non va calcolato\n",
    "        weight = self.weights[i]\n",
    "        bias = self.biases[i]\n",
    "        Z = weight @ A + bias\n",
    "\n",
    "        if i == len(self.layers) -2:  #se siamo nell'ultimo layer\n",
    "          A = sigmoid(Z)\n",
    "        else:\n",
    "          A = relu(Z)\n",
    "\n",
    "        A_list.append(A)\n",
    "        Z_list.append(Z)\n",
    "\n",
    "      self.Z_list = Z_list\n",
    "      self.A_list = A_list\n",
    "\n",
    "    def backprop(self, Y_pred, Y):\n",
    "\n",
    "      dW = list()\n",
    "      dB = list()\n",
    "\n",
    "      dA_prev = (Y_pred - Y) #* sigmoid_derivative(Y_pred) la derivata della BCE si semplifica...\n",
    "\n",
    "      for i in reversed(range(len(self.layers)-1)):\n",
    "\n",
    "          dA_curr = dA_prev\n",
    "\n",
    "          A_prev = self.A_list[i]\n",
    "          Z_curr = self.Z_list[i]\n",
    "          W_curr = self.weights[i]\n",
    "\n",
    "          dZ_curr = relu_backward(dA_curr, Z_curr)\n",
    "\n",
    "          m = A_prev.shape[1] #che in realtà è sempre 1...\n",
    "\n",
    "          dW_curr = (dZ_curr @ A_prev.T) / m\n",
    "          dB_curr = np.sum(dZ_curr) / m\n",
    "          dA_prev = W_curr.T @ dZ_curr\n",
    "\n",
    "          dW.insert(0,dW_curr)\n",
    "          dB.insert(0,dB_curr)\n",
    "\n",
    "      return dW, dB\n",
    "\n",
    "    def train(self, X, Y, lr, epochs, reg_lambda=10e-5, reg=None):\n",
    "\n",
    "      idx = 0\n",
    "      restart_val = list()\n",
    "\n",
    "      while idx < epochs: #qui scorriamo tutto il dataset\n",
    "\n",
    "            loss = 0 #calcoliamo loss medio sull'epoch\n",
    "\n",
    "            dW_list = list()\n",
    "            dB_list = list()\n",
    "\n",
    "\n",
    "            for x, y in zip(X, Y):\n",
    "\n",
    "              self.forwardprop(x)   #computiamo valori rete su x\n",
    "              y_pred = self.A_list[-1] #prendiamo le predizione\n",
    "\n",
    "              loss = loss + np.power((y_pred - y), 2) / 2\n",
    "\n",
    "              dW, dB = self.backprop(y_pred, y) #calcoliamo i gradienti con la backprop\n",
    "\n",
    "              dW_list.append(dW)\n",
    "              dB_list.append(dB)\n",
    "              for i in range(len(self.layers)-1): #facciamo gradient descent\n",
    "\n",
    "                dW_reg = 0\n",
    "                dB_reg = 0\n",
    "\n",
    "                if reg == 'l2':\n",
    "                  dW_reg = 2 * reg_lambda * self.weights[i]\n",
    "                  dB_reg = 2 * reg_lambda * self.biases[i]\n",
    "                elif reg == 'l1':\n",
    "                  dW_reg = reg_lambda * np.sign(self.weights[i])\n",
    "                  dB_reg = reg_lambda * np.sign(self.biases[i])\n",
    "\n",
    "                self.weights[i] = self.weights[i] - lr * (dW[i] + dW_reg)\n",
    "                self.biases[i] = self.biases[i] -  lr * (dB[i] + dB_reg)\n",
    "\n",
    "            loss = loss / X.shape[0]\n",
    "\n",
    "            #restart se ci blocchiamo\n",
    "            if idx <= 5:\n",
    "              restart_val.append(float(loss.item()))\n",
    "            elif idx == 6:\n",
    "              mean = np.mean(restart_val)\n",
    "              restart_val[:] = [x / mean for x in restart_val]\n",
    "              std = np.std(restart_val)\n",
    "              if std < 0.03:  #se la deviazione standard delle prime 5 epoch è minore di 0.03 (quindi siamo rimasti fermi praticamente) allora ricominciamo\n",
    "                print(\"Siamo bloccati! restart...\")\n",
    "                restart_val = list()\n",
    "                self.init_weights(self.init_method)\n",
    "                idx = 0\n",
    "\n",
    "\n",
    "            print(f'Epoch {idx+1}, Loss: {loss.item()}')\n",
    "            idx += 1  #uso contatore manuale perché se faccio \"for i in range\" non posso modificare i\n",
    "\n",
    "\n",
    "    def predict_proba(self, x):\n",
    "      self.forwardprop(x)\n",
    "      return float(self.A_list[-1].item())\n",
    "\n",
    "    def predict_all_proba(self, X):\n",
    "      Y_pred = list()\n",
    "      for x in X:\n",
    "        Y_pred.append(self.predict_proba(x))\n",
    "      return np.array(Y_pred)\n",
    "\n",
    "    def predict(self, X):\n",
    "      Y_prob = self.predict_all_proba(X)\n",
    "\n",
    "      return threshold(Y_prob, 0.5)\n"
   ]
  },
  {
   "cell_type": "code",
   "execution_count": null,
   "metadata": {
    "colab": {
     "base_uri": "https://localhost:8080/"
    },
    "id": "veUiHkOhIhdq",
    "outputId": "d9d71dd0-546d-4e35-b347-6daaf1518819"
   },
   "outputs": [],
   "source": [
    "nn = Classification_NeuralNetwork([X_train.shape[1], 64, 1])\n",
    "\n",
    "nn.train(X_train, Y_train, lr=10e-5, epochs=20, reg_lambda=10e-8, reg='l1')"
   ]
  },
  {
   "cell_type": "code",
   "execution_count": null,
   "metadata": {
    "colab": {
     "base_uri": "https://localhost:8080/",
     "height": 1000
    },
    "id": "td2DHIIlIyG6",
    "outputId": "eb3e2f58-07a7-4ef3-e208-33a9aebdb542"
   },
   "outputs": [],
   "source": [
    "Y_pred = nn.predict(X_test)\n",
    "\n",
    "Y_score = nn.predict_all_proba(X_test)\n",
    "\n",
    "accuracy = metrics.accuracy_score(Y_test, Y_pred)\n",
    "print(\"Accuracy:  %.2f%%\" % (accuracy*100))\n",
    "F1_score = metrics.f1_score(Y_test, Y_pred)\n",
    "print('Our F1 Score: %.2f%%' % (F1_score*100))\n",
    "\n",
    "\n",
    "#curva ROC e AUC\n",
    "fpr, tpr, thresholds = metrics.roc_curve(Y_test, Y_pred)\n",
    "AUC = metrics.auc(fpr, tpr)\n",
    "print('Our AUC: %.2f%%' % (AUC*100))\n",
    "\n",
    "display = metrics.RocCurveDisplay(fpr=fpr, tpr=tpr, roc_auc=AUC, estimator_name='Our estimator')\n",
    "display.plot()\n",
    "plt.show()\n",
    "\n",
    "#matrice di confusione\n",
    "metrics.ConfusionMatrixDisplay.from_predictions(Y_test, Y_pred)\n",
    "plt.show()\n",
    "\n",
    "#Precision e Recall curve\n",
    "metrics.PrecisionRecallDisplay.from_predictions(Y_test, Y_score)\n",
    "plt.show()"
   ]
  },
  {
   "cell_type": "code",
   "execution_count": null,
   "metadata": {
    "colab": {
     "base_uri": "https://localhost:8080/"
    },
    "id": "vQXnnxx4KZ6N",
    "outputId": "5a8eb580-f26b-48aa-a22e-f7ac5d35a433"
   },
   "outputs": [],
   "source": [
    "for i in range(len(Y_pred)):\n",
    "  print(f'Prediction: {Y_pred[i]}, Truth: {Y_test[i]}')"
   ]
  },
  {
   "cell_type": "markdown",
   "metadata": {
    "id": "Y0-KiBkKHC4H"
   },
   "source": [
    "# Conclusioni"
   ]
  },
  {
   "cell_type": "markdown",
   "metadata": {
    "id": "9Ru27jfYHg9n"
   },
   "source": [
    "\n",
    "<h2>Regressione</h2>\n",
    "\n",
    "1. La **regressione lineare** risulta il modello più semplice e anche molto buono visto che i dati sono linearmente separabili, e visto che il dataset non è molto ampio, inoltre l'equazione normale trova una soluzione ottima abbastanza facilmente e velocemente rispetto all'uso del Gradient Descent. Essa (L'eq. normale) ottiene risultati identici a Sklearn, mentre con lo SGD abbiamo un MSE più alto che comunque converge ai risultati di Sklearn aumentando le iterazioni (ma con molto più tempo), è molto semplice poiché richiede un solo prodotto tra matrici.\n",
    "\n",
    "\n",
    "2. La **rete neurale** richiede un allenamento tramite SGD più intenso e comunque molte volte non da un risultato migliore, o comunque molto simile alla regressione lineare sebbene sia un modello molto più complesso da implementare, che però riesce a comprendere anche relazioni nonlineari. I risultati sono comparabili all'implementazione di Sklearn, l'implementazione da noi creata possiede il bias nell'implementazione, anche se esso sarebbe potuto essere inserito anche nel dataset con una colonna di tutti 1, inoltre l'inizializzazione dei pesi è problematica e a volte si blocca, pertanto si è aggiunto del codice che fa restart se vede la loss bloccata all'inizio.\n",
    "\n",
    "<h2>Classificazione</h2>\n",
    "\n",
    "1. La **regressione logistica** per la classificazione binaria è un modello molto simile alla regressione lineare (che può anch'essa esser usata per classificazione), anch'esso è un modello lineare e ritorna una distribuzione di probabilità di appartenere alla classe 1, cioè $p \\in [0,1]$, applicando un threshold a 0.5 possiamo distinguere le due classi uniformemente, l'allenamento viene fatto tramite SGD ed è molto veloce, l'implementazione rimane banale poiché basta calcolare la sigmoide con il vettore dei pesi, inoltre la funzione di loss usata è la binary cross entropy loss che è usata anche nel modello dopo.\n",
    "\n",
    "2. I **decision tree** sono modelli non parametrici che utilizzano nel nostro caso la binary cross entropy per decidere (classificazione binaria) quale parametro in ogni ramo da una maggiore \"informazione\" (così come definita da questa funzione nella teoria) per prendere decisioni, la predizione quindi viene fatta facendo scendere il nostro dato attraverso l'albero, e ritorniamo il valore foglia, sono molto efficienti tuttavia si rischia di overfittare facilmente.\n",
    "\n",
    "3. I **K-Nearest Neighbour** sono un modello che per predirre prende i K valori più vicini nel dataset di training, e ritorna la classe più prevalente, solitamente K si prende come valore dispari, comunque in caso di parità se ne estrae uno a caso. Altro parametro usato è il tipo di distanza usata, solitamente si usano Manhattan o Euclidea, sebbene siano state implementate anche la generican norma P e Coseno, questo modello è stato facilmente usato per fare classificazione multiclasse.\n",
    "\n",
    "4. La **rete neurale** in questo caso è analoga alla regressione, ma è usata per fare binary classification, pertanto all'ultimo layer è presente la sigmoide che ci ritorna una distribuzione di probabilità, analogamente alla regressione logistica, e usa la BCE come loss function.\n",
    "\n",
    "Per evitare overfitting, dove applicabile è stato implementata la regolarizzazione L1, L2 e Elastica, in particolare nei decision tree abbiamo usato il troncamento dell'altezza, tecniche più avanzate come il $\\chi^2 $ pruning sono applicabili, per i KNN è dimostrato che all'aumentare di K si ha un decrescere della precisione.\n"
   ]
  }
 ],
 "metadata": {
  "colab": {
   "collapsed_sections": [
    "Z7sH6Uxz-Vmd",
    "PN4MKJszM1I7",
    "PxJtc8YheWW7",
    "LJa9_TbBNAoQ",
    "S6oUCWRpIySw",
    "YzlalpmilJg1"
   ],
   "provenance": []
  },
  "kaggle": {
   "accelerator": "none",
   "dataSources": [
    {
     "datasetId": 4030196,
     "sourceId": 7009925,
     "sourceType": "datasetVersion"
    }
   ],
   "dockerImageVersionId": 30646,
   "isGpuEnabled": false,
   "isInternetEnabled": true,
   "language": "python",
   "sourceType": "notebook"
  },
  "kernelspec": {
   "display_name": "Python 3 (ipykernel)",
   "language": "python",
   "name": "python3"
  },
  "language_info": {
   "codemirror_mode": {
    "name": "ipython",
    "version": 3
   },
   "file_extension": ".py",
   "mimetype": "text/x-python",
   "name": "python",
   "nbconvert_exporter": "python",
   "pygments_lexer": "ipython3",
   "version": "3.10.12"
  }
 },
 "nbformat": 4,
 "nbformat_minor": 4
}
